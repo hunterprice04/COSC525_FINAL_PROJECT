{
 "cells": [
  {
   "cell_type": "code",
   "execution_count": 1,
   "outputs": [],
   "source": [
    "#@formatter:off\n",
    "%load_ext autoreload\n",
    "%autoreload 2\n",
    "#@formatter:on"
   ],
   "metadata": {
    "collapsed": false,
    "pycharm": {
     "name": "#%%\n"
    }
   }
  },
  {
   "cell_type": "code",
   "execution_count": 443,
   "outputs": [],
   "source": [
    "# need to add src to path\n",
    "import re\n",
    "import tqdm\n",
    "import sys\n",
    "import pathlib\n",
    "import os\n",
    "import pandas as pd\n",
    "import numpy as np\n",
    "import matplotlib.pyplot as plt\n",
    "sys.path.append(os.path.join(pathlib.Path('.').parent.resolve(),'..'))\n",
    "from src import Sampling\n",
    "from src import SamplingEnums as ENUMS\n",
    "from src import Metrics, rouge, bleu, perplexity\n",
    "from transformers import TFGPT2LMHeadModel, GPT2Tokenizer\n",
    "from datasets import load_dataset\n",
    "from random import choices\n",
    "from pprint import pprint\n",
    "import warnings\n",
    "warnings.filterwarnings(\"ignore\")"
   ],
   "metadata": {
    "collapsed": false,
    "pycharm": {
     "name": "#%%\n"
    }
   }
  },
  {
   "cell_type": "markdown",
   "source": [
    "# Utils\n",
    "functional utility functions to tokenize data\n",
    "many of these functions serve as lazy generators and are only collected when needed"
   ],
   "metadata": {
    "collapsed": false,
    "pycharm": {
     "name": "#%% md\n"
    }
   }
  },
  {
   "cell_type": "code",
   "execution_count": 352,
   "outputs": [],
   "source": [
    "\n",
    "def gen_n_sent(f, n):\n",
    "    return list(flatten([f() for _ in range(n)]))\n",
    "\n",
    "def lword_to_lstr(sentences):\n",
    "    return (' '.join(s) for s in sentences)\n",
    "\n",
    "def pprint_sentences(sentences):\n",
    "    for i, s in enumerate(lword_to_lstr(sentences)):\n",
    "        print('-' * 100)\n",
    "        print(\"{}: {}\".format(i, s))\n",
    "\n",
    "def get_n_random_sentences(sentences, n):\n",
    "    return choices(sentences, k=n)\n",
    "\n",
    "def filter_empty_sentences(sentences):\n",
    "    return (sentence for sentence in sentences if len(sentence) > 0)\n",
    "\n",
    "def nest_sentences(sentences):\n",
    "    return ([sentence] for sentence in sentences)\n",
    "\n",
    "def filter_empty_words(sentences):\n",
    "    return ([w for w in s if len(w) > 0] for s in sentences)\n",
    "\n",
    "def flatten(iterables):\n",
    "    return (elem for iterable in iterables for elem in iterable)\n",
    "\n",
    "def clean_sentences(sentences):\n",
    "    return (re.sub(' +', ' ', sentence.replace('\\n',' ').replace('\\t',' ').replace('\\r',' ')) for sentence in sentences)\n",
    "\n",
    "def split_sentences(sentences):\n",
    "    return flatten((s.split('.') for s in sentences))\n",
    "\n",
    "def split_words(sentences):\n",
    "    return (sentence.split(' ') for sentence in sentences)\n",
    "\n",
    "def tokenize(sentences):\n",
    "    return filter_empty_sentences(\n",
    "                filter_empty_words(\n",
    "                    split_words(\n",
    "                        filter_empty_sentences(\n",
    "                            split_sentences(\n",
    "                                clean_sentences(sentences))))))\n",
    "\n",
    "def to_bleu_references(sentences):\n",
    "    return nest_sentences(sentences)"
   ],
   "metadata": {
    "collapsed": false,
    "pycharm": {
     "name": "#%%\n"
    }
   }
  },
  {
   "cell_type": "markdown",
   "source": [
    "# Metric requirements\n",
    "**bleu**\n",
    "- predictions (list of lists): Translations to score. Each translation should be tokenized into a list of tokens.\n",
    "- references (list of lists): references for each translation. Each reference should be tokenized into a list of tokens.\n",
    "\n",
    "```python\n",
    ">>> predictions = [\n",
    "...     [\"hello\", \"there\", \"general\", \"kenobi\"],\n",
    "...     [\"foo\", \"bar\", \"foobar\"]\n",
    "... ]\n",
    ">>> references = [\n",
    "...     [[\"hello\", \"there\", \"general\", \"kenobi\"]],\n",
    "...     [[\"foo\", \"bar\", \"foobar\"]]\n",
    "... ]\n",
    "```\n",
    "\n",
    "**rouge**\n",
    "- predictions (list): list of predictions to score. Each prediction should be a string with tokens separated by spaces.\n",
    "- references (list): list of reference for each prediction. Each reference should be a string with tokens separated by spaces.\n",
    "\n",
    "```python\n",
    ">>> predictions = [\"hello there\", \"general kenobi\"]\n",
    ">>> references = [\"hello there\", \"general kenobi\"]\n",
    "```\n",
    "\n",
    "**perplexity**\n",
    "- input_texts (list of str): input text, each separate text snippet is one list entry.\n",
    "```python\n",
    ">>> input_texts = [\"lorem ipsum\", \"Happy Birthday!\", \"Bienvenue\"]\n",
    "```"
   ],
   "metadata": {
    "collapsed": false,
    "pycharm": {
     "name": "#%% md\n"
    }
   }
  },
  {
   "cell_type": "markdown",
   "source": [
    "# Load model and datasets"
   ],
   "metadata": {
    "collapsed": false,
    "pycharm": {
     "name": "#%% md\n"
    }
   }
  },
  {
   "cell_type": "code",
   "execution_count": 303,
   "outputs": [
    {
     "name": "stderr",
     "output_type": "stream",
     "text": [
      "All model checkpoint layers were used when initializing TFGPT2LMHeadModel.\n",
      "\n",
      "All the layers of TFGPT2LMHeadModel were initialized from the model checkpoint at gpt2.\n",
      "If your task is similar to the task the model of the checkpoint was trained on, you can already use TFGPT2LMHeadModel for predictions without further training.\n",
      "Reusing dataset wikitext (/Users/hp/.cache/huggingface/datasets/wikitext/wikitext-2-raw-v1/1.0.0/a241db52902eaf2c6aa732210bead40c090019a499ceb13bcbfa3f8ab646a126)\n"
     ]
    }
   ],
   "source": [
    "tokenizer = GPT2Tokenizer.from_pretrained(\"gpt2\")\n",
    "\n",
    "# add the EOS token as PAD token to avoid warnings\n",
    "model = TFGPT2LMHeadModel.from_pretrained(\"gpt2\", pad_token_id=tokenizer.eos_token_id)\n",
    "\n",
    "# encode context the generation is conditioned on\n",
    "input_ids = tokenizer.encode('I enjoy walking with my cute dog', return_tensors='tf')\n",
    "\n",
    "references = list(tokenize(load_dataset(\"wikitext\", \"wikitext-2-raw-v1\", split=\"train\")['text']))"
   ],
   "metadata": {
    "collapsed": false,
    "pycharm": {
     "name": "#%%\n"
    }
   }
  },
  {
   "cell_type": "markdown",
   "source": [
    "# Peek at refrence sentences"
   ],
   "metadata": {
    "collapsed": false,
    "pycharm": {
     "name": "#%% md\n"
    }
   }
  },
  {
   "cell_type": "code",
   "execution_count": 353,
   "outputs": [
    {
     "name": "stdout",
     "output_type": "stream",
     "text": [
      "====================================================================================================\n",
      "                                             REFRENCES                                              \n",
      "----------------------------------------------------------------------------------------------------\n",
      "0: In the Treaty of Saint @-@ Germain @-@ en @-@ Laye , the transfer was not recognized ; instead , Zrínyi was given to Italy and broken up for scrap\n",
      "----------------------------------------------------------------------------------------------------\n",
      "1: By 24 June , the uprising had reached a massive scale across eastern Herzegovina , with between 1 @,@ 500 and 3 @,@ 000 armed rebels in total , including some Montenegrins\n",
      "----------------------------------------------------------------------------------------------------\n",
      "2: Members of the special forces battalion have benefitted from courses abroad , such as the US Army Special Forces ( Green Berets ) course , the United States Marine Corps Force Recon course , as well as other courses\n",
      "====================================================================================================\n"
     ]
    }
   ],
   "source": [
    "s = get_n_random_sentences(references, 3)\n",
    "print('=' * 100)\n",
    "print('{:^100s}'.format(\"REFRENCES\"))\n",
    "pprint_sentences(s)\n",
    "print('=' * 100)\n"
   ],
   "metadata": {
    "collapsed": false,
    "pycharm": {
     "name": "#%%\n"
    }
   }
  },
  {
   "cell_type": "markdown",
   "source": [
    "# generate some sequences"
   ],
   "metadata": {
    "collapsed": false,
    "pycharm": {
     "name": "#%% md\n"
    }
   }
  },
  {
   "cell_type": "code",
   "execution_count": 359,
   "outputs": [],
   "source": [
    "\n",
    "def generate_all_sampling(sampling, input_ids, tokenizer, num_gen=1, seed=None):\n",
    "    greedy = gen_n_sent(lambda: sampling.print(input_ids, ENUMS.GREEDY, tokenizer, max_length=50, quiet=True), num_gen)\n",
    "    beam = gen_n_sent(lambda: sampling.print(input_ids, ENUMS.BEAM, tokenizer, quiet=True), num_gen)\n",
    "    random = gen_n_sent(lambda: sampling.print(input_ids, ENUMS.RANDOM, tokenizer, seed=seed, quiet=True), num_gen)\n",
    "    top_k = gen_n_sent(lambda: sampling.print(input_ids, ENUMS.TOP_K, tokenizer, seed=seed, quiet=True), num_gen)\n",
    "    top_p = gen_n_sent(lambda: sampling.print(input_ids, ENUMS.TOP_P, tokenizer, seed=seed, quiet=True), num_gen)\n",
    "    return greedy, beam, random, top_k, top_p"
   ],
   "metadata": {
    "collapsed": false,
    "pycharm": {
     "name": "#%%\n"
    }
   }
  },
  {
   "cell_type": "code",
   "execution_count": 356,
   "outputs": [],
   "source": [
    "num_gen=1  # number of sentences to generate\n",
    "seed=None  # seed for sampling that needs randomness\n",
    "sampling = Sampling(model)\n",
    "greedy, _, _, _, _ = generate_all_sampling(sampling, input_ids, tokenizer, num_gen, seed)"
   ],
   "metadata": {
    "collapsed": false,
    "pycharm": {
     "name": "#%%\n"
    }
   }
  },
  {
   "cell_type": "markdown",
   "source": [
    "# get metrics (The long way)"
   ],
   "metadata": {
    "collapsed": false,
    "pycharm": {
     "name": "#%% md\n"
    }
   }
  },
  {
   "cell_type": "code",
   "execution_count": 398,
   "outputs": [
    {
     "name": "stdout",
     "output_type": "stream",
     "text": [
      "----------------------------------------------------------------------------------------------------\n",
      "0: Two of the stories were by R\n",
      "----------------------------------------------------------------------------------------------------\n",
      "1: Olivia admits to Walter how she found the address and learns that her brain still contains some of John 's memories\n",
      "----------------------------------------------------------------------------------------------------\n",
      "2: The Independent State of Croatia ( NDH ) was founded on 10 April 1941 , during the invasion of Yugoslavia by the Axis powers\n"
     ]
    }
   ],
   "source": [
    "# we will store the results of all metrics in a dictionary that will be ported to a pandas df at some point\n",
    "metric_values = {}\n",
    "# get predictions and random references\n",
    "predictions = list(tokenize(greedy))\n",
    "predict_len = len(predictions)\n",
    "n_references = get_n_random_sentences(references, predict_len)\n",
    "pprint_sentences(n_references)"
   ],
   "metadata": {
    "collapsed": false,
    "pycharm": {
     "name": "#%%\n"
    }
   }
  },
  {
   "cell_type": "markdown",
   "source": [
    "# BLEU\n",
    "```python\n",
    ">>> predictions = [\n",
    "...     [\"hello\", \"there\", \"general\", \"kenobi\"],\n",
    "...     [\"foo\", \"bar\", \"foobar\"]\n",
    "... ]\n",
    ">>> references = [\n",
    "...     [[\"hello\", \"there\", \"general\", \"kenobi\"]],\n",
    "...     [[\"foo\", \"bar\", \"foobar\"]]\n",
    "... ]\n",
    "```"
   ],
   "metadata": {
    "collapsed": false,
    "pycharm": {
     "name": "#%% md\n"
    }
   }
  },
  {
   "cell_type": "code",
   "execution_count": 330,
   "outputs": [],
   "source": [
    "bleu_pred = bleu.compute(predictions=predictions, references=list(to_bleu_references(n_references)))\n",
    "metric_values.update(bleu_pred)"
   ],
   "metadata": {
    "collapsed": false,
    "pycharm": {
     "name": "#%%\n"
    }
   }
  },
  {
   "cell_type": "markdown",
   "source": [
    "# ROUGE\n",
    "```python\n",
    ">>> predictions = [\"hello there\", \"general kenobi\"]\n",
    ">>> references = [\"hello there\", \"general kenobi\"]\n",
    "```"
   ],
   "metadata": {
    "collapsed": false,
    "pycharm": {
     "name": "#%% md\n"
    }
   }
  },
  {
   "cell_type": "code",
   "execution_count": 340,
   "outputs": [],
   "source": [
    "rouge_pred = rouge.compute(predictions=lword_to_lstr(predictions), references=lword_to_lstr(n_references))\n",
    "metric_values.update(rouge_pred)\n"
   ],
   "metadata": {
    "collapsed": false,
    "pycharm": {
     "name": "#%%\n"
    }
   }
  },
  {
   "cell_type": "markdown",
   "source": [
    "# PERPLEXITY\n",
    "```python\n",
    "input_texts = [\"lorem ipsum\", \"Happy Birthday!\", \"Bienvenue\"]\n",
    "```"
   ],
   "metadata": {
    "collapsed": false,
    "pycharm": {
     "name": "#%% md\n"
    }
   }
  },
  {
   "cell_type": "code",
   "execution_count": 344,
   "outputs": [
    {
     "name": "stderr",
     "output_type": "stream",
     "text": [
      "Using pad_token, but it is not set yet.\n"
     ]
    },
    {
     "data": {
      "text/plain": "  0%|          | 0/1 [00:00<?, ?it/s]",
      "application/vnd.jupyter.widget-view+json": {
       "version_major": 2,
       "version_minor": 0,
       "model_id": "b7f39a35d6b5446fb3487f3b04e1d8ee"
      }
     },
     "metadata": {},
     "output_type": "display_data"
    }
   ],
   "source": [
    "perp_pred = perplexity.compute(input_texts=lword_to_lstr(predictions), model_id='gpt2')\n",
    "metric_values.update(perp_pred)"
   ],
   "metadata": {
    "collapsed": false,
    "pycharm": {
     "name": "#%%\n"
    }
   }
  },
  {
   "cell_type": "code",
   "execution_count": 345,
   "outputs": [
    {
     "name": "stdout",
     "output_type": "stream",
     "text": [
      "{'bleu': 0.0,\n",
      " 'brevity_penalty': 0.48775174689448264,\n",
      " 'length_ratio': 0.582089552238806,\n",
      " 'mean_perplexity': 5.2147213617960615,\n",
      " 'perplexities': [6.170468330383301,\n",
      "                  4.877141952514648,\n",
      "                  4.596553802490234,\n",
      "                  6.170468330383301,\n",
      "                  4.877141952514648,\n",
      "                  4.596553802490234,\n",
      "                  6.170468330383301,\n",
      "                  4.877141952514648,\n",
      "                  4.596553802490234],\n",
      " 'precisions': [0.06837606837606838, 0.0, 0.0, 0.0],\n",
      " 'prompt_id': 0,\n",
      " 'reference_length': 201,\n",
      " 'rouge1': AggregateScore(low=Score(precision=0.028111341154819416, recall=0.022100474784653535, fmeasure=0.023418223418223416), mid=Score(precision=0.06892109500805153, recall=0.04856989494670654, fmeasure=0.05456464535748423), high=Score(precision=0.11595698182654703, recall=0.07678291861564808, fmeasure=0.08797746778565192)),\n",
      " 'rouge2': AggregateScore(low=Score(precision=0.0, recall=0.0, fmeasure=0.0), mid=Score(precision=0.0, recall=0.0, fmeasure=0.0), high=Score(precision=0.0, recall=0.0, fmeasure=0.0)),\n",
      " 'rougeL': AggregateScore(low=Score(precision=0.028111341154819416, recall=0.022437984050302888, fmeasure=0.02436730748751209), mid=Score(precision=0.06310098918794571, recall=0.04651228177798225, fmeasure=0.05120873356167474), high=Score(precision=0.10066712675408326, recall=0.07347215832119212, fmeasure=0.08125722161527789)),\n",
      " 'rougeLsum': AggregateScore(low=Score(precision=0.028111341154819416, recall=0.020990529867341467, fmeasure=0.02420236441975573), mid=Score(precision=0.06409017713365539, recall=0.04651675485008818, fmeasure=0.05133619021087052), high=Score(precision=0.0996089256958822, recall=0.06965627635917489, fmeasure=0.07855092861486722)),\n",
      " 'translation_length': 117}\n"
     ]
    }
   ],
   "source": [
    "pprint(metric_values)"
   ],
   "metadata": {
    "collapsed": false,
    "pycharm": {
     "name": "#%%\n"
    }
   }
  },
  {
   "cell_type": "markdown",
   "source": [
    "# Condensed function for metrics"
   ],
   "metadata": {
    "collapsed": false,
    "pycharm": {
     "name": "#%% md\n"
    }
   }
  },
  {
   "cell_type": "code",
   "execution_count": 399,
   "outputs": [],
   "source": [
    "def get_metrics(predictions, references):\n",
    "    # tokenize the input texts and get reference texts\n",
    "    predictions = list(tokenize(predictions))\n",
    "    predict_len = len(predictions)\n",
    "    n_references = get_n_random_sentences(references, predict_len)\n",
    "\n",
    "    # get metrics\n",
    "    metric_values = {}\n",
    "    metric_values.update(bleu.compute(predictions=predictions, references=list(to_bleu_references(n_references))))\n",
    "    metric_values.update(rouge.compute(predictions=lword_to_lstr(predictions), references=lword_to_lstr(n_references)))\n",
    "    metric_values.update(perplexity.compute(input_texts=lword_to_lstr(predictions), model_id='gpt2'))\n",
    "\n",
    "    return metric_values"
   ],
   "metadata": {
    "collapsed": false,
    "pycharm": {
     "name": "#%%\n"
    }
   }
  },
  {
   "cell_type": "code",
   "execution_count": 350,
   "outputs": [
    {
     "name": "stderr",
     "output_type": "stream",
     "text": [
      "Using pad_token, but it is not set yet.\n"
     ]
    },
    {
     "data": {
      "text/plain": "  0%|          | 0/1 [00:00<?, ?it/s]",
      "application/vnd.jupyter.widget-view+json": {
       "version_major": 2,
       "version_minor": 0,
       "model_id": "7caa1494253b49688dfb0f720fe2512b"
      }
     },
     "metadata": {},
     "output_type": "display_data"
    },
    {
     "name": "stdout",
     "output_type": "stream",
     "text": [
      "{'bleu': 0.0,\n",
      " 'brevity_penalty': 0.5544694381597404,\n",
      " 'length_ratio': 0.6290322580645161,\n",
      " 'mean_perplexity': 5.2147213617960615,\n",
      " 'perplexities': [6.170468330383301,\n",
      "                  4.877141952514648,\n",
      "                  4.596553802490234,\n",
      "                  6.170468330383301,\n",
      "                  4.877141952514648,\n",
      "                  4.596553802490234,\n",
      "                  6.170468330383301,\n",
      "                  4.877141952514648,\n",
      "                  4.596553802490234],\n",
      " 'precisions': [0.042735042735042736, 0.0, 0.0, 0.0],\n",
      " 'prompt_id': 0,\n",
      " 'reference_length': 186,\n",
      " 'rouge1': AggregateScore(low=Score(precision=0.007407407407407408, recall=0.007936507936507936, fmeasure=0.007168458781362007), mid=Score(precision=0.026731078904991948, recall=0.03396093662051109, fmeasure=0.027529706728816845), high=Score(precision=0.05088566827697263, recall=0.06296873241022176, fmeasure=0.048195372561920184)),\n",
      " 'rouge2': AggregateScore(low=Score(precision=0.0, recall=0.0, fmeasure=0.0), mid=Score(precision=0.0, recall=0.0, fmeasure=0.0), high=Score(precision=0.0, recall=0.0, fmeasure=0.0)),\n",
      " 'rougeL': AggregateScore(low=Score(precision=0.004830917874396135, recall=0.007407407407407408, fmeasure=0.006349206349206348), mid=Score(precision=0.026731078904991948, recall=0.03343183609141056, fmeasure=0.02702845359598477), high=Score(precision=0.048317230273752, recall=0.06372284138241585, fmeasure=0.04770099609424005)),\n",
      " 'rougeLsum': AggregateScore(low=Score(precision=0.004830917874396135, recall=0.007407407407407408, fmeasure=0.006349206349206348), mid=Score(precision=0.026731078904991948, recall=0.033696386355960825, fmeasure=0.02702845359598477), high=Score(precision=0.04863929146537841, recall=0.06494870820668691, fmeasure=0.04771457750791513)),\n",
      " 'translation_length': 117}\n"
     ]
    }
   ],
   "source": [
    "pprint(get_metrics(greedy, references))"
   ],
   "metadata": {
    "collapsed": false,
    "pycharm": {
     "name": "#%%\n"
    }
   }
  },
  {
   "cell_type": "markdown",
   "source": [
    "# Automate process"
   ],
   "metadata": {
    "collapsed": false,
    "pycharm": {
     "name": "#%% md\n"
    }
   }
  },
  {
   "cell_type": "code",
   "execution_count": 400,
   "outputs": [],
   "source": [
    "def tokenize_prompts(prompts, tokenizer):\n",
    "    return {i: tokenizer.encode(prompt, return_tensors='tf') for i, prompt in enumerate(prompts)}\n",
    "\n",
    "def get_metrics_for_all_sampling(sampling, input_ids, tokenizer, references, num_gen=1, seed=None):\n",
    "    greedy, beam, random, top_k, top_p = generate_all_sampling(sampling, input_ids, tokenizer, num_gen, seed)\n",
    "    return {\n",
    "        'greedy': get_metrics(greedy, references),\n",
    "        'beam': get_metrics(beam, references),\n",
    "        'random': get_metrics(random, references),\n",
    "        'top_k': get_metrics(top_k, references),\n",
    "        'top_p': get_metrics(top_p, references)\n",
    "    }\n",
    "\n",
    "def get_metrics_for_all_prompts(sampling, prompts, tokenizer, references, num_gen, seed):\n",
    "    metrics = {}\n",
    "    for i, prompt in tqdm.tqdm(prompts.items()):\n",
    "        metrics[i] = get_metrics_for_all_sampling(sampling, prompt, tokenizer, references, num_gen, seed)\n",
    "    return metrics"
   ],
   "metadata": {
    "collapsed": false,
    "pycharm": {
     "name": "#%%\n"
    }
   }
  },
  {
   "cell_type": "markdown",
   "source": [
    "\n"
   ],
   "metadata": {
    "collapsed": false,
    "pycharm": {
     "name": "#%% md\n"
    }
   }
  },
  {
   "cell_type": "code",
   "execution_count": 401,
   "outputs": [],
   "source": [
    "num_gen=1  # number of sentences to generate\n",
    "seed=None  # seed for sampling that needs randomness\n",
    "sampling = Sampling(model)\n",
    "\n",
    "prompts = [\n",
    "    'I enjoy walking with my cute dog',\n",
    "    'My favorite color is blue but',\n",
    "    'Alan turing is a great scientist and he',\n",
    "]\n",
    "prompts = tokenize_prompts(prompts,tokenizer)\n"
   ],
   "metadata": {
    "collapsed": false,
    "pycharm": {
     "name": "#%%\n"
    }
   }
  },
  {
   "cell_type": "code",
   "execution_count": 402,
   "outputs": [
    {
     "name": "stderr",
     "output_type": "stream",
     "text": [
      "  0%|          | 0/3 [00:00<?, ?it/s]Using pad_token, but it is not set yet.\n"
     ]
    },
    {
     "data": {
      "text/plain": "  0%|          | 0/1 [00:00<?, ?it/s]",
      "application/vnd.jupyter.widget-view+json": {
       "version_major": 2,
       "version_minor": 0,
       "model_id": "cdcc27c20c144852a521e1c10cc4382b"
      }
     },
     "metadata": {},
     "output_type": "display_data"
    },
    {
     "name": "stderr",
     "output_type": "stream",
     "text": [
      "Using pad_token, but it is not set yet.\n"
     ]
    },
    {
     "data": {
      "text/plain": "  0%|          | 0/1 [00:00<?, ?it/s]",
      "application/vnd.jupyter.widget-view+json": {
       "version_major": 2,
       "version_minor": 0,
       "model_id": "0d5f64fbe2434347803c933cbbace222"
      }
     },
     "metadata": {},
     "output_type": "display_data"
    },
    {
     "name": "stderr",
     "output_type": "stream",
     "text": [
      "Using pad_token, but it is not set yet.\n"
     ]
    },
    {
     "data": {
      "text/plain": "  0%|          | 0/1 [00:00<?, ?it/s]",
      "application/vnd.jupyter.widget-view+json": {
       "version_major": 2,
       "version_minor": 0,
       "model_id": "c7532b2127924c25b32b82c57fbf7578"
      }
     },
     "metadata": {},
     "output_type": "display_data"
    },
    {
     "name": "stderr",
     "output_type": "stream",
     "text": [
      "Using pad_token, but it is not set yet.\n"
     ]
    },
    {
     "data": {
      "text/plain": "  0%|          | 0/1 [00:00<?, ?it/s]",
      "application/vnd.jupyter.widget-view+json": {
       "version_major": 2,
       "version_minor": 0,
       "model_id": "0551e1175560421da5d3dc6ded785ca8"
      }
     },
     "metadata": {},
     "output_type": "display_data"
    },
    {
     "name": "stderr",
     "output_type": "stream",
     "text": [
      "Using pad_token, but it is not set yet.\n"
     ]
    },
    {
     "data": {
      "text/plain": "  0%|          | 0/1 [00:00<?, ?it/s]",
      "application/vnd.jupyter.widget-view+json": {
       "version_major": 2,
       "version_minor": 0,
       "model_id": "cc15ed01c3884bebad8e926705d8fda9"
      }
     },
     "metadata": {},
     "output_type": "display_data"
    },
    {
     "name": "stderr",
     "output_type": "stream",
     "text": [
      " 33%|███▎      | 1/3 [00:44<01:28, 44.39s/it]Using pad_token, but it is not set yet.\n"
     ]
    },
    {
     "data": {
      "text/plain": "  0%|          | 0/1 [00:00<?, ?it/s]",
      "application/vnd.jupyter.widget-view+json": {
       "version_major": 2,
       "version_minor": 0,
       "model_id": "67f5b523be1944788a9caa2d46b3fda5"
      }
     },
     "metadata": {},
     "output_type": "display_data"
    },
    {
     "name": "stderr",
     "output_type": "stream",
     "text": [
      "Using pad_token, but it is not set yet.\n"
     ]
    },
    {
     "data": {
      "text/plain": "  0%|          | 0/1 [00:00<?, ?it/s]",
      "application/vnd.jupyter.widget-view+json": {
       "version_major": 2,
       "version_minor": 0,
       "model_id": "44c87c03b383474e8c3c332306099b2a"
      }
     },
     "metadata": {},
     "output_type": "display_data"
    },
    {
     "name": "stderr",
     "output_type": "stream",
     "text": [
      "Using pad_token, but it is not set yet.\n"
     ]
    },
    {
     "data": {
      "text/plain": "  0%|          | 0/1 [00:00<?, ?it/s]",
      "application/vnd.jupyter.widget-view+json": {
       "version_major": 2,
       "version_minor": 0,
       "model_id": "f814421dd82846c4a1fbdec53af5571e"
      }
     },
     "metadata": {},
     "output_type": "display_data"
    },
    {
     "name": "stderr",
     "output_type": "stream",
     "text": [
      "Using pad_token, but it is not set yet.\n"
     ]
    },
    {
     "data": {
      "text/plain": "  0%|          | 0/1 [00:00<?, ?it/s]",
      "application/vnd.jupyter.widget-view+json": {
       "version_major": 2,
       "version_minor": 0,
       "model_id": "8818e21ca0c24dcb89ab9cfa8618457d"
      }
     },
     "metadata": {},
     "output_type": "display_data"
    },
    {
     "name": "stderr",
     "output_type": "stream",
     "text": [
      "Using pad_token, but it is not set yet.\n"
     ]
    },
    {
     "data": {
      "text/plain": "  0%|          | 0/1 [00:00<?, ?it/s]",
      "application/vnd.jupyter.widget-view+json": {
       "version_major": 2,
       "version_minor": 0,
       "model_id": "21bdb563468a4f2493b575e012ebfdfa"
      }
     },
     "metadata": {},
     "output_type": "display_data"
    },
    {
     "name": "stderr",
     "output_type": "stream",
     "text": [
      " 67%|██████▋   | 2/3 [01:25<00:42, 42.57s/it]Using pad_token, but it is not set yet.\n"
     ]
    },
    {
     "data": {
      "text/plain": "  0%|          | 0/1 [00:00<?, ?it/s]",
      "application/vnd.jupyter.widget-view+json": {
       "version_major": 2,
       "version_minor": 0,
       "model_id": "5a99e99a731149d48df4caab6acdd783"
      }
     },
     "metadata": {},
     "output_type": "display_data"
    },
    {
     "name": "stderr",
     "output_type": "stream",
     "text": [
      "Using pad_token, but it is not set yet.\n"
     ]
    },
    {
     "data": {
      "text/plain": "  0%|          | 0/1 [00:00<?, ?it/s]",
      "application/vnd.jupyter.widget-view+json": {
       "version_major": 2,
       "version_minor": 0,
       "model_id": "3f0d2e69aa544c7fa56c8aa79ab2969e"
      }
     },
     "metadata": {},
     "output_type": "display_data"
    },
    {
     "name": "stderr",
     "output_type": "stream",
     "text": [
      "Using pad_token, but it is not set yet.\n"
     ]
    },
    {
     "data": {
      "text/plain": "  0%|          | 0/1 [00:00<?, ?it/s]",
      "application/vnd.jupyter.widget-view+json": {
       "version_major": 2,
       "version_minor": 0,
       "model_id": "c0433804d111465ea66fbe135cfe3a11"
      }
     },
     "metadata": {},
     "output_type": "display_data"
    },
    {
     "name": "stderr",
     "output_type": "stream",
     "text": [
      "Using pad_token, but it is not set yet.\n"
     ]
    },
    {
     "data": {
      "text/plain": "  0%|          | 0/1 [00:00<?, ?it/s]",
      "application/vnd.jupyter.widget-view+json": {
       "version_major": 2,
       "version_minor": 0,
       "model_id": "f3e2b58569b14d1388b253bdd38a50ef"
      }
     },
     "metadata": {},
     "output_type": "display_data"
    },
    {
     "name": "stderr",
     "output_type": "stream",
     "text": [
      "Using pad_token, but it is not set yet.\n"
     ]
    },
    {
     "data": {
      "text/plain": "  0%|          | 0/1 [00:00<?, ?it/s]",
      "application/vnd.jupyter.widget-view+json": {
       "version_major": 2,
       "version_minor": 0,
       "model_id": "e3cf798530644f9a80a52fdc8057d0c6"
      }
     },
     "metadata": {},
     "output_type": "display_data"
    },
    {
     "name": "stderr",
     "output_type": "stream",
     "text": [
      "100%|██████████| 3/3 [02:05<00:00, 41.97s/it]\n"
     ]
    }
   ],
   "source": [
    "metrics = get_metrics_for_all_prompts(sampling, prompts, tokenizer, references, num_gen, seed)\n"
   ],
   "metadata": {
    "collapsed": false,
    "pycharm": {
     "name": "#%%\n"
    }
   }
  },
  {
   "cell_type": "code",
   "execution_count": 403,
   "outputs": [
    {
     "data": {
      "text/plain": "{0: {'greedy': {'bleu': 0.0,\n   'precisions': [0.02564102564102564, 0.0, 0.0, 0.0],\n   'brevity_penalty': 0.5404329964865341,\n   'length_ratio': 0.6190476190476191,\n   'translation_length': 39,\n   'reference_length': 63,\n   'rouge1': AggregateScore(low=Score(precision=0.0, recall=0.0, fmeasure=0.0), mid=Score(precision=0.014492753623188406, recall=0.013333333333333334, fmeasure=0.013888888888888888), high=Score(precision=0.043478260869565216, recall=0.04, fmeasure=0.041666666666666664)),\n   'rouge2': AggregateScore(low=Score(precision=0.0, recall=0.0, fmeasure=0.0), mid=Score(precision=0.0, recall=0.0, fmeasure=0.0), high=Score(precision=0.0, recall=0.0, fmeasure=0.0)),\n   'rougeL': AggregateScore(low=Score(precision=0.0, recall=0.0, fmeasure=0.0), mid=Score(precision=0.014492753623188406, recall=0.013333333333333334, fmeasure=0.013888888888888888), high=Score(precision=0.043478260869565216, recall=0.04, fmeasure=0.041666666666666664)),\n   'rougeLsum': AggregateScore(low=Score(precision=0.0, recall=0.0, fmeasure=0.0), mid=Score(precision=0.014492753623188406, recall=0.013333333333333334, fmeasure=0.013888888888888888), high=Score(precision=0.043478260869565216, recall=0.04, fmeasure=0.041666666666666664)),\n   'perplexities': [6.170468330383301, 4.877141952514648, 4.596553802490234],\n   'mean_perplexity': 5.2147213617960615},\n  'beam': {'bleu': 0.0,\n   'precisions': [0.07692307692307693, 0.0, 0.0, 0.0],\n   'brevity_penalty': 0.1353352832366127,\n   'length_ratio': 0.3333333333333333,\n   'translation_length': 39,\n   'reference_length': 117,\n   'rouge1': AggregateScore(low=Score(precision=0.0, recall=0.0, fmeasure=0.0), mid=Score(precision=0.05120772946859903, recall=0.038219641993226895, fmeasure=0.04135338345864662), high=Score(precision=0.08695652173913043, recall=0.07692307692307693, fmeasure=0.07142857142857144)),\n   'rouge2': AggregateScore(low=Score(precision=0.0, recall=0.0, fmeasure=0.0), mid=Score(precision=0.0, recall=0.0, fmeasure=0.0), high=Score(precision=0.0, recall=0.0, fmeasure=0.0)),\n   'rougeL': AggregateScore(low=Score(precision=0.0, recall=0.0, fmeasure=0.0), mid=Score(precision=0.05120772946859903, recall=0.038219641993226895, fmeasure=0.04135338345864662), high=Score(precision=0.08695652173913043, recall=0.07692307692307693, fmeasure=0.07142857142857144)),\n   'rougeLsum': AggregateScore(low=Score(precision=0.0, recall=0.0, fmeasure=0.0), mid=Score(precision=0.05120772946859903, recall=0.038219641993226895, fmeasure=0.04135338345864662), high=Score(precision=0.08695652173913043, recall=0.07692307692307693, fmeasure=0.07142857142857144)),\n   'perplexities': [6.170468330383301, 5.047328472137451, 4.596553802490234],\n   'mean_perplexity': 5.271450201670329},\n  'random': {'bleu': 0.0,\n   'precisions': [0.02564102564102564, 0.0, 0.0, 0.0],\n   'brevity_penalty': 0.256924153818043,\n   'length_ratio': 0.42391304347826086,\n   'translation_length': 39,\n   'reference_length': 92,\n   'rouge1': AggregateScore(low=Score(precision=0.0, recall=0.0, fmeasure=0.0), mid=Score(precision=0.014492753623188406, recall=0.015873015873015872, fmeasure=0.01515151515151515), high=Score(precision=0.043478260869565216, recall=0.047619047619047616, fmeasure=0.04545454545454545)),\n   'rouge2': AggregateScore(low=Score(precision=0.0, recall=0.0, fmeasure=0.0), mid=Score(precision=0.0, recall=0.0, fmeasure=0.0), high=Score(precision=0.0, recall=0.0, fmeasure=0.0)),\n   'rougeL': AggregateScore(low=Score(precision=0.0, recall=0.0, fmeasure=0.0), mid=Score(precision=0.014492753623188406, recall=0.015873015873015872, fmeasure=0.01515151515151515), high=Score(precision=0.043478260869565216, recall=0.047619047619047616, fmeasure=0.04545454545454545)),\n   'rougeLsum': AggregateScore(low=Score(precision=0.0, recall=0.0, fmeasure=0.0), mid=Score(precision=0.014492753623188406, recall=0.015873015873015872, fmeasure=0.01515151515151515), high=Score(precision=0.043478260869565216, recall=0.047619047619047616, fmeasure=0.04545454545454545)),\n   'perplexities': [6.170468330383301, 4.877141952514648, 4.30462646484375],\n   'mean_perplexity': 5.117412249247233},\n  'top_k': {'bleu': 0.0,\n   'precisions': [0.0, 0.0, 0.0, 0.0],\n   'brevity_penalty': 1.0,\n   'length_ratio': 12.0,\n   'translation_length': 36,\n   'reference_length': 3,\n   'rouge1': AggregateScore(low=Score(precision=0.0, recall=0.0, fmeasure=0.0), mid=Score(precision=0.0, recall=0.0, fmeasure=0.0), high=Score(precision=0.0, recall=0.0, fmeasure=0.0)),\n   'rouge2': AggregateScore(low=Score(precision=0.0, recall=0.0, fmeasure=0.0), mid=Score(precision=0.0, recall=0.0, fmeasure=0.0), high=Score(precision=0.0, recall=0.0, fmeasure=0.0)),\n   'rougeL': AggregateScore(low=Score(precision=0.0, recall=0.0, fmeasure=0.0), mid=Score(precision=0.0, recall=0.0, fmeasure=0.0), high=Score(precision=0.0, recall=0.0, fmeasure=0.0)),\n   'rougeLsum': AggregateScore(low=Score(precision=0.0, recall=0.0, fmeasure=0.0), mid=Score(precision=0.0, recall=0.0, fmeasure=0.0), high=Score(precision=0.0, recall=0.0, fmeasure=0.0)),\n   'perplexities': [26.183162689208984],\n   'mean_perplexity': 26.183162689208984},\n  'top_p': {'bleu': 0.0,\n   'precisions': [0.175, 0.0, 0.0, 0.0],\n   'brevity_penalty': 0.27253179303401254,\n   'length_ratio': 0.43478260869565216,\n   'translation_length': 40,\n   'reference_length': 92,\n   'rouge1': AggregateScore(low=Score(precision=0.13333333333333333, recall=0.07142857142857142, fmeasure=0.09523809523809523), mid=Score(precision=0.22801932367149758, recall=0.09354592687926022, fmeasure=0.1265172735760971), high=Score(precision=0.3333333333333333, recall=0.13513513513513514, fmeasure=0.16666666666666666)),\n   'rouge2': AggregateScore(low=Score(precision=0.0, recall=0.0, fmeasure=0.0), mid=Score(precision=0.0, recall=0.0, fmeasure=0.0), high=Score(precision=0.0, recall=0.0, fmeasure=0.0)),\n   'rougeL': AggregateScore(low=Score(precision=0.06666666666666667, recall=0.037037037037037035, fmeasure=0.047619047619047616), mid=Score(precision=0.17681159420289852, recall=0.06318222984889652, fmeasure=0.08842203548085902), high=Score(precision=0.3333333333333333, recall=0.08108108108108109, fmeasure=0.1176470588235294)),\n   'rougeLsum': AggregateScore(low=Score(precision=0.06666666666666667, recall=0.037037037037037035, fmeasure=0.047619047619047616), mid=Score(precision=0.17681159420289852, recall=0.06318222984889652, fmeasure=0.08842203548085902), high=Score(precision=0.3333333333333333, recall=0.08108108108108109, fmeasure=0.1176470588235294)),\n   'perplexities': [13.868290901184082,\n    14.394948959350586,\n    10.380341529846191],\n   'mean_perplexity': 12.88119379679362}},\n 1: {'greedy': {'bleu': 0.0,\n   'precisions': [0.05, 0.0, 0.0, 0.0],\n   'brevity_penalty': 1.0,\n   'length_ratio': 1.0,\n   'translation_length': 40,\n   'reference_length': 40,\n   'rouge1': AggregateScore(low=Score(precision=0.0, recall=0.0, fmeasure=0.0), mid=Score(precision=0.061111111111111116, recall=0.075, fmeasure=0.06734006734006734), high=Score(precision=0.10000000000000002, recall=0.125, fmeasure=0.11111111111111112)),\n   'rouge2': AggregateScore(low=Score(precision=0.0, recall=0.0, fmeasure=0.0), mid=Score(precision=0.0, recall=0.0, fmeasure=0.0), high=Score(precision=0.0, recall=0.0, fmeasure=0.0)),\n   'rougeL': AggregateScore(low=Score(precision=0.0, recall=0.0, fmeasure=0.0), mid=Score(precision=0.061111111111111116, recall=0.075, fmeasure=0.06734006734006734), high=Score(precision=0.10000000000000002, recall=0.125, fmeasure=0.11111111111111112)),\n   'rougeLsum': AggregateScore(low=Score(precision=0.0, recall=0.0, fmeasure=0.0), mid=Score(precision=0.061111111111111116, recall=0.075, fmeasure=0.06734006734006734), high=Score(precision=0.10000000000000002, recall=0.125, fmeasure=0.11111111111111112)),\n   'perplexities': [4.780126571655273, 5.440179824829102, 5.20380163192749],\n   'mean_perplexity': 5.141369342803955},\n  'beam': {'bleu': 0.0,\n   'precisions': [0.02564102564102564, 0.0, 0.0, 0.0],\n   'brevity_penalty': 1.0,\n   'length_ratio': 1.0833333333333333,\n   'translation_length': 39,\n   'reference_length': 36,\n   'rouge1': AggregateScore(low=Score(precision=0.0, recall=0.0, fmeasure=0.0), mid=Score(precision=0.018518518518518517, recall=0.05, fmeasure=0.02702702702702703), high=Score(precision=0.037037037037037035, recall=0.1, fmeasure=0.05405405405405406)),\n   'rouge2': AggregateScore(low=Score(precision=0.0, recall=0.0, fmeasure=0.0), mid=Score(precision=0.0, recall=0.0, fmeasure=0.0), high=Score(precision=0.0, recall=0.0, fmeasure=0.0)),\n   'rougeL': AggregateScore(low=Score(precision=0.0, recall=0.0, fmeasure=0.0), mid=Score(precision=0.018518518518518517, recall=0.05, fmeasure=0.02702702702702703), high=Score(precision=0.037037037037037035, recall=0.1, fmeasure=0.05405405405405406)),\n   'rougeLsum': AggregateScore(low=Score(precision=0.0, recall=0.0, fmeasure=0.0), mid=Score(precision=0.018518518518518517, recall=0.05, fmeasure=0.02702702702702703), high=Score(precision=0.037037037037037035, recall=0.1, fmeasure=0.05405405405405406)),\n   'perplexities': [4.433625221252441, 3.049037218093872],\n   'mean_perplexity': 3.7413312196731567},\n  'random': {'bleu': 0.0,\n   'precisions': [0.07692307692307693, 0.0, 0.0, 0.0],\n   'brevity_penalty': 0.6983922586158029,\n   'length_ratio': 0.7358490566037735,\n   'translation_length': 39,\n   'reference_length': 53,\n   'rouge1': AggregateScore(low=Score(precision=0.0, recall=0.0, fmeasure=0.0), mid=Score(precision=0.10822510822510822, recall=0.06231884057971015, fmeasure=0.0784313725490196), high=Score(precision=0.1818181818181818, recall=0.10000000000000002, fmeasure=0.1176470588235294)),\n   'rouge2': AggregateScore(low=Score(precision=0.0, recall=0.0, fmeasure=0.0), mid=Score(precision=0.0, recall=0.0, fmeasure=0.0), high=Score(precision=0.0, recall=0.0, fmeasure=0.0)),\n   'rougeL': AggregateScore(low=Score(precision=0.0, recall=0.0, fmeasure=0.0), mid=Score(precision=0.10822510822510822, recall=0.06231884057971015, fmeasure=0.0784313725490196), high=Score(precision=0.1818181818181818, recall=0.10000000000000002, fmeasure=0.1176470588235294)),\n   'rougeLsum': AggregateScore(low=Score(precision=0.0, recall=0.0, fmeasure=0.0), mid=Score(precision=0.10822510822510822, recall=0.06231884057971015, fmeasure=0.0784313725490196), high=Score(precision=0.1818181818181818, recall=0.10000000000000002, fmeasure=0.1176470588235294)),\n   'perplexities': [4.780126571655273, 5.440179824829102, 5.72233772277832],\n   'mean_perplexity': 5.314214706420898},\n  'top_k': {'bleu': 0.0,\n   'precisions': [0.04878048780487805, 0.0, 0.0, 0.0],\n   'brevity_penalty': 0.4155930342986796,\n   'length_ratio': 0.5324675324675324,\n   'translation_length': 41,\n   'reference_length': 77,\n   'rouge1': AggregateScore(low=Score(precision=0.0, recall=0.0, fmeasure=0.0), mid=Score(precision=0.044444444444444446, recall=0.026470588235294117, fmeasure=0.028484848484848484), high=Score(precision=0.10000000000000002, recall=0.05000000000000001, fmeasure=0.04545454545454545)),\n   'rouge2': AggregateScore(low=Score(precision=0.0, recall=0.0, fmeasure=0.0), mid=Score(precision=0.0, recall=0.0, fmeasure=0.0), high=Score(precision=0.0, recall=0.0, fmeasure=0.0)),\n   'rougeL': AggregateScore(low=Score(precision=0.0, recall=0.0, fmeasure=0.0), mid=Score(precision=0.044444444444444446, recall=0.026470588235294117, fmeasure=0.028484848484848484), high=Score(precision=0.10000000000000002, recall=0.05000000000000001, fmeasure=0.04545454545454545)),\n   'rougeLsum': AggregateScore(low=Score(precision=0.0, recall=0.0, fmeasure=0.0), mid=Score(precision=0.044444444444444446, recall=0.026470588235294117, fmeasure=0.028484848484848484), high=Score(precision=0.10000000000000002, recall=0.05000000000000001, fmeasure=0.04545454545454545)),\n   'perplexities': [11.415849685668945, 66.04983520507812, 21.987627029418945],\n   'mean_perplexity': 33.15110397338867},\n  'top_p': {'bleu': 0.0,\n   'precisions': [0.13953488372093023, 0.0, 0.0, 0.0],\n   'brevity_penalty': 1.0,\n   'length_ratio': 1.2285714285714286,\n   'translation_length': 43,\n   'reference_length': 35,\n   'rouge1': AggregateScore(low=Score(precision=0.13953488372093023, recall=0.1935483870967742, fmeasure=0.16216216216216217), mid=Score(precision=0.13953488372093023, recall=0.1935483870967742, fmeasure=0.16216216216216217), high=Score(precision=0.13953488372093023, recall=0.1935483870967742, fmeasure=0.16216216216216217)),\n   'rouge2': AggregateScore(low=Score(precision=0.0, recall=0.0, fmeasure=0.0), mid=Score(precision=0.0, recall=0.0, fmeasure=0.0), high=Score(precision=0.0, recall=0.0, fmeasure=0.0)),\n   'rougeL': AggregateScore(low=Score(precision=0.11627906976744186, recall=0.16129032258064516, fmeasure=0.13513513513513514), mid=Score(precision=0.11627906976744186, recall=0.16129032258064516, fmeasure=0.13513513513513514), high=Score(precision=0.11627906976744186, recall=0.16129032258064516, fmeasure=0.13513513513513514)),\n   'rougeLsum': AggregateScore(low=Score(precision=0.11627906976744186, recall=0.16129032258064516, fmeasure=0.13513513513513514), mid=Score(precision=0.11627906976744186, recall=0.16129032258064516, fmeasure=0.13513513513513514), high=Score(precision=0.11627906976744186, recall=0.16129032258064516, fmeasure=0.13513513513513514)),\n   'perplexities': [11.232398986816406],\n   'mean_perplexity': 11.232398986816406}},\n 2: {'greedy': {'bleu': 0.0,\n   'precisions': [0.08571428571428572, 0.0, 0.0, 0.0],\n   'brevity_penalty': 0.01034317319661825,\n   'length_ratio': 0.1794871794871795,\n   'translation_length': 35,\n   'reference_length': 195,\n   'rouge1': AggregateScore(low=Score(precision=0.011904761904761904, recall=0.0037593984962406013, fmeasure=0.006644518272425249), mid=Score(precision=0.06904761904761905, recall=0.01588649041959738, fmeasure=0.023797616070684337), high=Score(precision=0.14285714285714285, recall=0.030924084404559786, fmeasure=0.04356029483561363)),\n   'rouge2': AggregateScore(low=Score(precision=0.0, recall=0.0, fmeasure=0.0), mid=Score(precision=0.0, recall=0.0, fmeasure=0.0), high=Score(precision=0.0, recall=0.0, fmeasure=0.0)),\n   'rougeL': AggregateScore(low=Score(precision=0.0, recall=0.0, fmeasure=0.0), mid=Score(precision=0.06904761904761905, recall=0.015462042202279893, fmeasure=0.023797616070684337), high=Score(precision=0.12619047619047621, recall=0.030924084404559786, fmeasure=0.044802867383512544)),\n   'rougeLsum': AggregateScore(low=Score(precision=0.011904761904761904, recall=0.0037593984962406013, fmeasure=0.006644518272425249), mid=Score(precision=0.06904761904761905, recall=0.01588649041959738, fmeasure=0.023797616070684337), high=Score(precision=0.1380952380952381, recall=0.03177298083919476, fmeasure=0.04631515021612546)),\n   'perplexities': [27.41679573059082,\n    10.559720993041992,\n    10.559720993041992,\n    10.559720993041992,\n    10.559720993041992,\n    10.559720993041992,\n    10.559720993041992],\n   'mean_perplexity': 12.967874526977539},\n  'beam': {'bleu': 0.0,\n   'precisions': [0.13043478260869565, 0.0, 0.0, 0.0],\n   'brevity_penalty': 0.3926712195621707,\n   'length_ratio': 0.5168539325842697,\n   'translation_length': 46,\n   'reference_length': 89,\n   'rouge1': AggregateScore(low=Score(precision=0.05, recall=0.022727272727272728, fmeasure=0.03278688524590164), mid=Score(precision=0.1338235294117647, recall=0.07272727272727272, fmeasure=0.09278688524590165), high=Score(precision=0.21764705882352942, recall=0.11666666666666667, fmeasure=0.14557377049180328)),\n   'rouge2': AggregateScore(low=Score(precision=0.0, recall=0.0, fmeasure=0.0), mid=Score(precision=0.0, recall=0.0, fmeasure=0.0), high=Score(precision=0.0, recall=0.0, fmeasure=0.0)),\n   'rougeL': AggregateScore(low=Score(precision=0.029411764705882353, recall=0.016666666666666666, fmeasure=0.02), mid=Score(precision=0.10441176470588237, recall=0.061363636363636356, fmeasure=0.07639344262295082), high=Score(precision=0.175, recall=0.11136363636363636, fmeasure=0.1363934426229508)),\n   'rougeLsum': AggregateScore(low=Score(precision=0.029411764705882353, recall=0.016666666666666666, fmeasure=0.02), mid=Score(precision=0.10441176470588236, recall=0.061363636363636356, fmeasure=0.07639344262295082), high=Score(precision=0.175, recall=0.11136363636363636, fmeasure=0.13639344262295083)),\n   'perplexities': [12.545347213745117,\n    6.6051435470581055,\n    6.6051435470581055,\n    7.194240093231201],\n   'mean_perplexity': 8.237468600273132},\n  'random': {'bleu': 0.0,\n   'precisions': [0.02857142857142857, 0.0, 0.0, 0.0],\n   'brevity_penalty': 0.05743261926761735,\n   'length_ratio': 0.25925925925925924,\n   'translation_length': 35,\n   'reference_length': 135,\n   'rouge1': AggregateScore(low=Score(precision=0.0, recall=0.0, fmeasure=0.0), mid=Score(precision=0.04047619047619048, recall=0.01628001628001628, fmeasure=0.02035714285714286), high=Score(precision=0.09761904761904762, recall=0.03825803825803826, fmeasure=0.04321428571428572)),\n   'rouge2': AggregateScore(low=Score(precision=0.0, recall=0.0, fmeasure=0.0), mid=Score(precision=0.0, recall=0.0, fmeasure=0.0), high=Score(precision=0.0, recall=0.0, fmeasure=0.0)),\n   'rougeL': AggregateScore(low=Score(precision=0.0, recall=0.0, fmeasure=0.0), mid=Score(precision=0.04047619047619048, recall=0.01628001628001628, fmeasure=0.02035714285714286), high=Score(precision=0.09761904761904763, recall=0.03825803825803826, fmeasure=0.043276785714285664)),\n   'rougeLsum': AggregateScore(low=Score(precision=0.0, recall=0.0, fmeasure=0.0), mid=Score(precision=0.04047619047619048, recall=0.01628001628001628, fmeasure=0.02035714285714286), high=Score(precision=0.09761904761904762, recall=0.03825803825803826, fmeasure=0.045714285714285714)),\n   'perplexities': [27.41679573059082,\n    10.559720993041992,\n    10.559720993041992,\n    10.559720993041992,\n    10.559720993041992,\n    10.559720993041992,\n    10.559720993041992],\n   'mean_perplexity': 12.967874526977539},\n  'top_k': {'bleu': 0.0,\n   'precisions': [0.0975609756097561, 0.0, 0.0, 0.0],\n   'brevity_penalty': 1.0,\n   'length_ratio': 1.9523809523809523,\n   'translation_length': 41,\n   'reference_length': 21,\n   'rouge1': AggregateScore(low=Score(precision=0.11904761904761904, recall=0.2631578947368421, fmeasure=0.1639344262295082), mid=Score(precision=0.11904761904761904, recall=0.2631578947368421, fmeasure=0.1639344262295082), high=Score(precision=0.11904761904761904, recall=0.2631578947368421, fmeasure=0.1639344262295082)),\n   'rouge2': AggregateScore(low=Score(precision=0.0, recall=0.0, fmeasure=0.0), mid=Score(precision=0.0, recall=0.0, fmeasure=0.0), high=Score(precision=0.0, recall=0.0, fmeasure=0.0)),\n   'rougeL': AggregateScore(low=Score(precision=0.09523809523809523, recall=0.21052631578947367, fmeasure=0.13114754098360656), mid=Score(precision=0.09523809523809523, recall=0.21052631578947367, fmeasure=0.13114754098360656), high=Score(precision=0.09523809523809523, recall=0.21052631578947367, fmeasure=0.13114754098360656)),\n   'rougeLsum': AggregateScore(low=Score(precision=0.09523809523809523, recall=0.21052631578947367, fmeasure=0.13114754098360656), mid=Score(precision=0.09523809523809523, recall=0.21052631578947367, fmeasure=0.13114754098360656), high=Score(precision=0.09523809523809523, recall=0.21052631578947367, fmeasure=0.13114754098360656)),\n   'perplexities': [27.856782913208008],\n   'mean_perplexity': 27.856782913208008},\n  'top_p': {'bleu': 0.0,\n   'precisions': [0.15, 0.02631578947368421, 0.0, 0.0],\n   'brevity_penalty': 0.8187307530779819,\n   'length_ratio': 0.8333333333333334,\n   'translation_length': 40,\n   'reference_length': 48,\n   'rouge1': AggregateScore(low=Score(precision=0.045454545454545456, recall=0.08333333333333333, fmeasure=0.05882352941176471), mid=Score(precision=0.15430622009569378, recall=0.12231182795698925, fmeasure=0.12941176470588234), high=Score(precision=0.2631578947368421, recall=0.16129032258064516, fmeasure=0.19999999999999998)),\n   'rouge2': AggregateScore(low=Score(precision=0.0, recall=0.0, fmeasure=0.0), mid=Score(precision=0.027777777777777776, recall=0.016666666666666666, fmeasure=0.020833333333333336), high=Score(precision=0.05555555555555555, recall=0.03333333333333333, fmeasure=0.04166666666666667)),\n   'rougeL': AggregateScore(low=Score(precision=0.045454545454545456, recall=0.08333333333333333, fmeasure=0.05882352941176471), mid=Score(precision=0.12799043062200957, recall=0.10618279569892472, fmeasure=0.10941176470588235), high=Score(precision=0.21052631578947367, recall=0.12903225806451613, fmeasure=0.15999999999999998)),\n   'rougeLsum': AggregateScore(low=Score(precision=0.045454545454545456, recall=0.08333333333333333, fmeasure=0.05882352941176471), mid=Score(precision=0.12799043062200957, recall=0.10618279569892472, fmeasure=0.10941176470588235), high=Score(precision=0.21052631578947367, recall=0.12903225806451613, fmeasure=0.15999999999999998)),\n   'perplexities': [20.83833885192871, 25.426156997680664],\n   'mean_perplexity': 23.132247924804688}}}"
     },
     "execution_count": 403,
     "metadata": {},
     "output_type": "execute_result"
    }
   ],
   "source": [
    "metrics"
   ],
   "metadata": {
    "collapsed": false,
    "pycharm": {
     "name": "#%%\n"
    }
   }
  },
  {
   "cell_type": "markdown",
   "source": [
    "# Convert metrics to dataframe"
   ],
   "metadata": {
    "collapsed": false,
    "pycharm": {
     "name": "#%% md\n"
    }
   }
  },
  {
   "cell_type": "code",
   "execution_count": 424,
   "outputs": [],
   "source": [
    "def metric_dict_to_df(metrics):\n",
    "    cols = ['prompt_id', 'sampling_type'] + list(metrics[0]['greedy'].keys())\n",
    "    df = pd.DataFrame(columns=cols)\n",
    "    for i, metric_dict in metrics.items():\n",
    "        for sampling_type, metric_values in metric_dict.items():\n",
    "            row = {'prompt_id': i, 'sampling_type': sampling_type}\n",
    "            row.update(metric_values)\n",
    "            df = df.append(row, ignore_index=True)\n",
    "    return df\n"
   ],
   "metadata": {
    "collapsed": false,
    "pycharm": {
     "name": "#%%\n"
    }
   }
  },
  {
   "cell_type": "code",
   "execution_count": 428,
   "outputs": [
    {
     "name": "stdout",
     "output_type": "stream",
     "text": [
      "  prompt_id sampling_type bleu                            precisions  \\\n",
      "0         0        greedy  0.0  [0.02564102564102564, 0.0, 0.0, 0.0]   \n",
      "1         0          beam  0.0  [0.07692307692307693, 0.0, 0.0, 0.0]   \n",
      "2         0        random  0.0  [0.02564102564102564, 0.0, 0.0, 0.0]   \n",
      "3         0         top_k  0.0                  [0.0, 0.0, 0.0, 0.0]   \n",
      "4         0         top_p  0.0                [0.175, 0.0, 0.0, 0.0]   \n",
      "\n",
      "  brevity_penalty length_ratio translation_length reference_length  \\\n",
      "0        0.540433     0.619048                 39               63   \n",
      "1        0.135335     0.333333                 39              117   \n",
      "2        0.256924     0.423913                 39               92   \n",
      "3             1.0         12.0                 36                3   \n",
      "4        0.272532     0.434783                 40               92   \n",
      "\n",
      "                                              rouge1  \\\n",
      "0  ((0.0, 0.0, 0.0), (0.014492753623188406, 0.013...   \n",
      "1  ((0.0, 0.0, 0.0), (0.05120772946859903, 0.0382...   \n",
      "2  ((0.0, 0.0, 0.0), (0.014492753623188406, 0.015...   \n",
      "3  ((0.0, 0.0, 0.0), (0.0, 0.0, 0.0), (0.0, 0.0, ...   \n",
      "4  ((0.13333333333333333, 0.07142857142857142, 0....   \n",
      "\n",
      "                                              rouge2  \\\n",
      "0  ((0.0, 0.0, 0.0), (0.0, 0.0, 0.0), (0.0, 0.0, ...   \n",
      "1  ((0.0, 0.0, 0.0), (0.0, 0.0, 0.0), (0.0, 0.0, ...   \n",
      "2  ((0.0, 0.0, 0.0), (0.0, 0.0, 0.0), (0.0, 0.0, ...   \n",
      "3  ((0.0, 0.0, 0.0), (0.0, 0.0, 0.0), (0.0, 0.0, ...   \n",
      "4  ((0.0, 0.0, 0.0), (0.0, 0.0, 0.0), (0.0, 0.0, ...   \n",
      "\n",
      "                                              rougeL  \\\n",
      "0  ((0.0, 0.0, 0.0), (0.014492753623188406, 0.013...   \n",
      "1  ((0.0, 0.0, 0.0), (0.05120772946859903, 0.0382...   \n",
      "2  ((0.0, 0.0, 0.0), (0.014492753623188406, 0.015...   \n",
      "3  ((0.0, 0.0, 0.0), (0.0, 0.0, 0.0), (0.0, 0.0, ...   \n",
      "4  ((0.06666666666666667, 0.037037037037037035, 0...   \n",
      "\n",
      "                                           rougeLsum  \\\n",
      "0  ((0.0, 0.0, 0.0), (0.014492753623188406, 0.013...   \n",
      "1  ((0.0, 0.0, 0.0), (0.05120772946859903, 0.0382...   \n",
      "2  ((0.0, 0.0, 0.0), (0.014492753623188406, 0.015...   \n",
      "3  ((0.0, 0.0, 0.0), (0.0, 0.0, 0.0), (0.0, 0.0, ...   \n",
      "4  ((0.06666666666666667, 0.037037037037037035, 0...   \n",
      "\n",
      "                                        perplexities mean_perplexity  \n",
      "0  [6.170468330383301, 4.877141952514648, 4.59655...        5.214721  \n",
      "1  [6.170468330383301, 5.047328472137451, 4.59655...         5.27145  \n",
      "2  [6.170468330383301, 4.877141952514648, 4.30462...        5.117412  \n",
      "3                               [26.183162689208984]       26.183163  \n",
      "4  [13.868290901184082, 14.394948959350586, 10.38...       12.881194  \n"
     ]
    }
   ],
   "source": [
    "metric_df = metric_dict_to_df(metrics)\n",
    "print(metric_df.head())\n"
   ],
   "metadata": {
    "collapsed": false,
    "pycharm": {
     "name": "#%%\n"
    }
   }
  },
  {
   "cell_type": "markdown",
   "source": [
    "## Plotting Mean Perplexities"
   ],
   "metadata": {
    "collapsed": false,
    "pycharm": {
     "name": "#%% md\n"
    }
   }
  },
  {
   "cell_type": "code",
   "execution_count": null,
   "outputs": [],
   "source": [],
   "metadata": {
    "collapsed": false,
    "pycharm": {
     "name": "#%%\n"
    }
   }
  },
  {
   "cell_type": "code",
   "execution_count": 441,
   "outputs": [
    {
     "data": {
      "text/plain": "<Figure size 432x288 with 1 Axes>",
      "image/png": "[encoded data removed]"
     },
     "metadata": {
      "needs_background": "light"
     },
     "output_type": "display_data"
    }
   ],
   "source": [
    "sampling_types = ['greedy', 'beam', 'random', 'top_k', 'top_p']\n",
    "perplexity_values = []\n",
    "for t in sampling_types:\n",
    "    perplexity_values.append(metric_df[metric_df['sampling_type'] == t]['mean_perplexity'].to_numpy())\n",
    "fig, ax = plt.subplots()\n",
    "plt.title('Mean Perplexity vs Sampling Type')\n",
    "ax.boxplot(perplexity_values)\n",
    "ax.set_xticklabels(sampling_types)\n",
    "plt.ylabel('Perplexity Values')\n",
    "plt.show()"
   ],
   "metadata": {
    "collapsed": false,
    "pycharm": {
     "name": "#%%\n"
    }
   }
  },
  {
   "cell_type": "markdown",
   "source": [],
   "metadata": {
    "collapsed": false,
    "pycharm": {
     "name": "#%% md\n"
    }
   }
  },
  {
   "cell_type": "code",
   "execution_count": 442,
   "outputs": [
    {
     "data": {
      "text/plain": "<Figure size 432x288 with 1 Axes>",
      "image/png": "[encoded data removed]"
     },
     "metadata": {
      "needs_background": "light"
     },
     "output_type": "display_data"
    }
   ],
   "source": [
    "sampling_types = ['greedy', 'beam', 'random', 'top_k', 'top_p']\n",
    "bleu_values = []\n",
    "for t in sampling_types:\n",
    "    bleu_values.append(metric_df[metric_df['sampling_type'] == t]['bleu'].to_numpy())\n",
    "fig, ax = plt.subplots()\n",
    "plt.title('Bleu vs Sampling Type')\n",
    "ax.boxplot(bleu_values)\n",
    "ax.set_xticklabels(sampling_types)\n",
    "plt.ylabel('Bleu Values')\n",
    "plt.show()"
   ],
   "metadata": {
    "collapsed": false,
    "pycharm": {
     "name": "#%%\n"
    }
   }
  },
  {
   "cell_type": "code",
   "execution_count": null,
   "outputs": [],
   "source": [],
   "metadata": {
    "collapsed": false,
    "pycharm": {
     "name": "#%%\n"
    }
   }
  }
 ],
 "metadata": {
  "kernelspec": {
   "display_name": "Python 3",
   "language": "python",
   "name": "python3"
  },
  "language_info": {
   "codemirror_mode": {
    "name": "ipython",
    "version": 2
   },
   "file_extension": ".py",
   "mimetype": "text/x-python",
   "name": "python",
   "nbconvert_exporter": "python",
   "pygments_lexer": "ipython2",
   "version": "2.7.6"
  }
 },
 "nbformat": 4,
 "nbformat_minor": 0
}