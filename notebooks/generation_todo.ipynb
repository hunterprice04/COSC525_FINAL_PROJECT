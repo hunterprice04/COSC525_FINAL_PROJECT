{
 "cells": [
  {
   "cell_type": "code",
   "execution_count": 1,
   "metadata": {
    "collapsed": false,
    "jupyter": {
     "outputs_hidden": false
    },
    "pycharm": {
     "name": "#%%\n"
    }
   },
   "outputs": [],
   "source": [
    "%load_ext autoreload\n",
    "%autoreload 2"
   ]
  },
  {
   "cell_type": "code",
   "execution_count": 2,
   "metadata": {
    "pycharm": {
     "name": "#%%\n"
    },
    "tags": []
   },
   "outputs": [],
   "source": [
    "from transformers import AutoTokenizer\n",
    "from transformers import TFAutoModelWithLMHead"
   ]
  },
  {
   "cell_type": "code",
   "execution_count": null,
   "metadata": {
    "collapsed": false,
    "jupyter": {
     "outputs_hidden": false
    },
    "pycharm": {
     "name": "#%%\n"
    }
   },
   "outputs": [
    {
     "data": {
      "application/vnd.jupyter.widget-view+json": {
       "model_id": "9382b891bc0143cf846157056c0d07a1",
       "version_major": 2,
       "version_minor": 0
      },
      "text/plain": [
       "Downloading:   0%|          | 0.00/7.28G [00:00<?, ?B/s]"
      ]
     },
     "metadata": {},
     "output_type": "display_data"
    }
   ],
   "source": [
    " # Initialize tokenizer\n",
    "tokenizer = AutoTokenizer.from_pretrained(\n",
    "    \"ctrl\"\n",
    ") \n",
    "# Download model and configuration from huggingface.co and cache.\n",
    "model = TFAutoModelWithLMHead.from_pretrained(\n",
    "    \"ctrl\"\n",
    ")  "
   ]
  },
  {
   "cell_type": "code",
   "execution_count": null,
   "metadata": {
    "pycharm": {
     "name": "#%%\n"
    }
   },
   "outputs": [],
   "source": [
    " # \"Legal\" is one of the control codes for ctrl\n",
    "input_context = \"Legal My neighbor is\" \n",
    "# encode input context\n",
    "input_ids = tokenizer.encode(input_context, return_tensors=\"tf\")  \n",
    "# generate sequences\n",
    "outputs = model.generate(\n",
    "    input_ids=input_ids, max_length=50, temperature=0.7, repetition_penalty=1.2\n",
    ")  \n",
    "print(f\"Generated: {tokenizer.decode(outputs[0], skip_special_tokens=True)}\")"
   ]
  },
  {
   "cell_type": "code",
   "execution_count": null,
   "metadata": {
    "collapsed": false,
    "jupyter": {
     "outputs_hidden": false
    },
    "pycharm": {
     "name": "#%%\n"
    }
   },
   "outputs": [],
   "source": [
    "# Initialize tokenizer\n",
    "tokenizer = AutoTokenizer.from_pretrained(\n",
    "    \"gpt2\"\n",
    ")\n",
    "# Download model and configuration from huggingface.co and cache.\n",
    "model = TFAutoModelWithLMHead.from_pretrained(\n",
    "    \"gpt2\"\n",
    ")  "
   ]
  },
  {
   "cell_type": "code",
   "execution_count": null,
   "metadata": {
    "pycharm": {
     "name": "#%%\n"
    }
   },
   "outputs": [],
   "source": [
    "input_context = \"My cute dog\"\n",
    "bad_words_ids = [\n",
    "    tokenizer.encode(bad_word, add_prefix_space=True) for bad_word in [\"idiot\", \"stupid\", \"shut up\"]\n",
    "]\n",
    "# encode input context\n",
    "input_ids = tokenizer.encode(input_context, return_tensors=\"tf\")  \n",
    "# generate sequences without allowing bad_words to be generateds\n",
    "outputs = model.generate(\n",
    "    input_ids=input_ids, max_length=100, do_sample=True, bad_words_ids=bad_words_ids\n",
    ")  "
   ]
  }
 ],
 "metadata": {
  "kernelspec": {
   "display_name": "Python 3 (ipykernel)",
   "language": "python",
   "name": "python3"
  },
  "language_info": {
   "codemirror_mode": {
    "name": "ipython",
    "version": 3
   },
   "file_extension": ".py",
   "mimetype": "text/x-python",
   "name": "python",
   "nbconvert_exporter": "python",
   "pygments_lexer": "ipython3",
   "version": "3.9.10"
  }
 },
 "nbformat": 4,
 "nbformat_minor": 4
}