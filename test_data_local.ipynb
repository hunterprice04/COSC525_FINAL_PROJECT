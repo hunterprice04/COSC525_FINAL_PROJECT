{
 "cells": [
  {
   "cell_type": "markdown",
   "metadata": {
    "pycharm": {
     "name": "#%% md\n"
    }
   },
   "source": [
    "# Reading in Data"
   ]
  },
  {
   "cell_type": "code",
   "execution_count": 45,
   "metadata": {
    "collapsed": false,
    "jupyter": {
     "outputs_hidden": false
    },
    "pycharm": {
     "name": "#%%\n"
    }
   },
   "outputs": [
    {
     "name": "stdout",
     "output_type": "stream",
     "text": [
      "The autoreload extension is already loaded. To reload it, use:\n",
      "  %reload_ext autoreload\n"
     ]
    }
   ],
   "source": [
    "%load_ext autoreload\n",
    "%autoreload 2\n",
    "import os\n",
    "\n",
    "from src import Config, TextDataset\n",
    "\n",
    "os.environ[\"TF_CPP_MIN_LOG_LEVEL\"] = \"1\""
   ]
  },
  {
   "cell_type": "markdown",
   "metadata": {
    "pycharm": {
     "name": "#%% md\n"
    }
   },
   "source": [
    "## Example Sentence"
   ]
  },
  {
   "cell_type": "code",
   "execution_count": 46,
   "metadata": {
    "collapsed": false,
    "jupyter": {
     "outputs_hidden": false
    },
    "pycharm": {
     "name": "#%%\n"
    }
   },
   "outputs": [
    {
     "name": "stdout",
     "output_type": "stream",
     "text": [
      "DataConfig(WINDOW_SIZE=5, STRIDE=3, DATA_PATH='')\n",
      "TrainingConfig(HIDDEN_STATE_SIZE=[], EPOCHS=0, BATCH_SIZE=0, DROPOUT=0.5, LR=0.001, SAMPLING_TEMP=0.75, BUFFER_SIZE=10000)\n",
      "Config(DATA=DataConfig(WINDOW_SIZE=5, STRIDE=3, DATA_PATH=''), TRAINING=TrainingConfig(HIDDEN_STATE_SIZE=[], EPOCHS=0, BATCH_SIZE=0, DROPOUT=0.5, LR=0.001, SAMPLING_TEMP=0.75, BUFFER_SIZE=10000), EMBED=None)\n"
     ]
    }
   ],
   "source": [
    "config = {\n",
    "    \"DATA\": {\n",
    "        \"WINDOW_SIZE\": 5,\n",
    "        \"STRIDE\": 3,\n",
    "    },\n",
    "    \"TRAINING\": {},\n",
    "}\n",
    "config = Config(**config)\n",
    "print(config)"
   ]
  },
  {
   "cell_type": "code",
   "execution_count": 47,
   "metadata": {
    "collapsed": false,
    "jupyter": {
     "outputs_hidden": false
    },
    "pycharm": {
     "name": "#%%\n"
    }
   },
   "outputs": [
    {
     "name": "stdout",
     "output_type": "stream",
     "text": [
      "# [TextDataset]:\tfile_name=data/example.txt\twindow_size=5\tstride=3\n",
      "\t19 total chars in text\n",
      "# [Embeddings]:\t\tlabel=example\tencoding=utf-8\n"
     ]
    }
   ],
   "source": [
    "config.DATA.DATA_PATH = os.path.join(\"data\", \"example.txt\")\n",
    "data1 = TextDataset(config).read()"
   ]
  },
  {
   "cell_type": "code",
   "execution_count": 48,
   "outputs": [
    {
     "name": "stdout",
     "output_type": "stream",
     "text": [
      "# Dateset Summary [label=`example`]:\n",
      "=> Configuration:\n",
      "\tDataConfig(WINDOW_SIZE=5, STRIDE=3, DATA_PATH='data/example.txt')\n",
      "=> 10 Samples:\n",
      "\t1. b'hello' => b'ello,'\n",
      "\t2. b'lo, h' => b'o, ho'\n",
      "\t3. b' how ' => b'how a'\n",
      "\t4. b'w are' => b' are '\n",
      "\t5. b're yo' => b'e you'\n",
      "# Vocab Summary [label=`example`]:\n",
      "\t* 13 unique chars\n",
      "\t* 9 alpha\t0 numeric\t3 symbols\n",
      "\n"
     ]
    }
   ],
   "source": [
    "print(data1)"
   ],
   "metadata": {
    "collapsed": false,
    "pycharm": {
     "name": "#%%\n"
    }
   }
  },
  {
   "cell_type": "markdown",
   "metadata": {
    "pycharm": {
     "name": "#%% md\n"
    }
   },
   "source": [
    "## Beatles"
   ]
  },
  {
   "cell_type": "code",
   "execution_count": 49,
   "metadata": {
    "collapsed": false,
    "jupyter": {
     "outputs_hidden": false
    },
    "pycharm": {
     "name": "#%%\n"
    }
   },
   "outputs": [
    {
     "name": "stdout",
     "output_type": "stream",
     "text": [
      "# [TextDataset]:\tfile_name=data/beatles.txt\twindow_size=5\tstride=3\n",
      "\t166753 total chars in text\n",
      "# [Embeddings]:\t\tlabel=beatles\tencoding=utf-8\n"
     ]
    }
   ],
   "source": [
    "config.DATA.DATA_PATH = os.path.join(\"data\", \"beatles.txt\")\n",
    "data2 = TextDataset(config).read()"
   ]
  },
  {
   "cell_type": "code",
   "execution_count": 50,
   "metadata": {
    "collapsed": false,
    "jupyter": {
     "outputs_hidden": false
    },
    "pycharm": {
     "name": "#%%\n"
    }
   },
   "outputs": [
    {
     "name": "stdout",
     "output_type": "stream",
     "text": [
      "# Dateset Summary [label=`beatles`]:\n",
      "=> Configuration:\n",
      "\tDataConfig(WINDOW_SIZE=5, STRIDE=3, DATA_PATH='data/beatles.txt')\n",
      "=> 10 Samples:\n",
      "\t1. b'a day' => b' day '\n",
      "\t2. b'ay in' => b'y in '\n",
      "\t3. b'in th' => b'n the'\n",
      "\t4. b'the l' => b'he li'\n",
      "\t5. b' life' => b'life\\n'\n",
      "\t6. b'fe\\ni ' => b'e\\ni r'\n",
      "\t7. b'i rea' => b' read'\n",
      "\t8. b'ead t' => b'ad th'\n",
      "\t9. b' the ' => b'the n'\n",
      "\t10. b'e new' => b' news'\n",
      "# Vocab Summary [label=`beatles`]:\n",
      "\t* 49 unique chars\n",
      "\t* 26 alpha\t10 numeric\t12 symbols\n",
      "\n"
     ]
    }
   ],
   "source": [
    "print(data2)"
   ]
  }
 ],
 "metadata": {
  "kernelspec": {
   "display_name": "Python 3 (ipykernel)",
   "language": "python",
   "name": "python3"
  },
  "language_info": {
   "codemirror_mode": {
    "name": "ipython",
    "version": 3
   },
   "file_extension": ".py",
   "mimetype": "text/x-python",
   "name": "python",
   "nbconvert_exporter": "python",
   "pygments_lexer": "ipython3",
   "version": "3.9.10"
  },
  "widgets": {
   "application/vnd.jupyter.widget-state+json": {
    "state": {},
    "version_major": 2,
    "version_minor": 0
   }
  }
 },
 "nbformat": 4,
 "nbformat_minor": 4
}