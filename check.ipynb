{
 "cells": [
  {
   "cell_type": "code",
   "execution_count": null,
   "outputs": [],
   "source": [
    "import difflib\n",
    "import os\n",
    "import re\n",
    "\n",
    "question_answer = \"\"\"\n",
    "walk through the night she's my life i love you.\n",
    "baby you're a rich man from the sun\n",
    "she's gonna have some fun,\n",
    "gonna love you\n",
    "i'm to come and see me your man.\n",
    "i wanna be your mother should...)\n",
    "your mother should know (your mother should know (your mother should know (yeah.)\n",
    "your mother should know (your mother should know (your mother should have lasted to me\n",
    "you’ve got to the bottom and i see me alone\n",
    "i'm feeling blue.\n",
    "and it’s my life i love you,\n",
    "baby i love you.\n",
    "i love you, yeah, yeah\n",
    "yeah yeah yeah.\n",
    "yes\"\"\"\n",
    "filepath = os.path.join(\"data\", \"beatles.txt\")\n",
    "\n",
    "# fragment_separators = [\".\", \",\", \"?\", \"!\"]\n",
    "fragment_separators = [\".\", \"?\", \"!\"]\n",
    "\n",
    "threshold = 0.75\n",
    "txt_files = {}\n",
    "\n",
    "\n",
    "def clean_document(doc):\n",
    "    l = doc.encode(\"ascii\", \"ignore\").decode()\n",
    "    # Remove all punctuation (i.e., quotes, commas, !, ?, etc.)\n",
    "    l = re.sub(r\"[^\\w\\s]\", \"\", l)\n",
    "    # Remove all Twitter handle mentions (i.e., “@UTK_EECS“ should be deleted.)\n",
    "    l = re.sub(r\"@[\\w]+\", \" \", l)\n",
    "    # Remove all instances of double-spaces.\n",
    "    l = re.sub(r\"\\s+\", \" \", l)\n",
    "    # Remove all 1-2 letter words\n",
    "    l = re.sub(r\"\\W*\\b\\w{1,1}\\b\", \"\", l)\n",
    "    # Convert all characters to lowercase.\n",
    "    l = l.lower()\n",
    "    # Remove all whitespace\n",
    "    l = l.strip()\n",
    "\n",
    "    return l\n",
    "\n",
    "\n",
    "def get_closest(prompt, cutoff):\n",
    "    closest_matches = {}\n",
    "\n",
    "    for k, v in txt_files.items():\n",
    "        matches = difflib.get_close_matches(prompt, v, n=5, cutoff=cutoff)\n",
    "        if len(matches) > 0:\n",
    "            closest_matches[k] = matches\n",
    "\n",
    "    if len(closest_matches) == 0:\n",
    "        return None\n",
    "    return closest_matches\n",
    "\n",
    "\n",
    "def read_txt(file_path):\n",
    "    print(\"# READING: {}\".format(file_path))\n",
    "    txt_files[file_path] = set()\n",
    "    with open(file_path, \"r\") as in_f:\n",
    "        for doc in in_f.readlines():\n",
    "            doc = clean_document(doc)\n",
    "            txt_files[file_path].add(doc)\n",
    "\n",
    "    print(f\"=> {file_path}: {len(txt_files[file_path])} documents\")\n",
    "\n",
    "\n",
    "def get_ratio(str_orig, str_match):\n",
    "    return difflib.SequenceMatcher(None, str_match, str_orig).ratio()\n",
    "\n",
    "\n",
    "for sep in fragment_separators:\n",
    "    question_answer = question_answer.replace(sep, \"\\n\")\n",
    "a_fragments = question_answer.split(\"\\n\")\n",
    "for i1 in range(len(a_fragments)):\n",
    "    a_fragments[i1] = clean_document(a_fragments[i1])\n",
    "a_fragments = list(filter(None, a_fragments))\n",
    "\n",
    "avg = []\n",
    "results = {\n",
    "    \"Exact\": 0,\n",
    "    \"Partial\": 0,\n",
    "    \"Total\": 0,\n",
    "}\n",
    "\n",
    "read_txt(filepath)\n",
    "\n",
    "print(\"=\" * 80)\n",
    "\n",
    "for i, a_frag in enumerate(a_fragments):\n",
    "    results[a_frag] = {}\n",
    "    closest_matches = get_closest(a_frag, threshold)\n",
    "    if closest_matches is None:\n",
    "        continue\n",
    "    print(f\"{i + 1}. {a_frag}\")\n",
    "\n",
    "    closest_matches_new = {}\n",
    "    for match, match_list in closest_matches.items():\n",
    "        mat_list = []\n",
    "        for match_sentence in match_list:\n",
    "            ratio = get_ratio(match_sentence, a_frag)\n",
    "            if ratio == 1.0:\n",
    "                results[\"Exact\"] += 1\n",
    "            else:\n",
    "                results[\"Partial\"] += 1\n",
    "            avg.append(ratio)\n",
    "            mat_list.append((match_sentence, ratio))\n",
    "            print(f\"   {round(ratio * 100, 2)}% [{match}] ~ [{match_sentence}]\")\n",
    "\n",
    "        closest_matches_new[match] = mat_list\n",
    "\n",
    "    results[a_frag].update(closest_matches_new)\n",
    "\n",
    "results[\"Total\"] = results[\"Exact\"] + results[\"Partial\"]\n",
    "results[\"Likelihood\"] = sum(avg) / len(avg)\n",
    "print(\"=\" * 80)\n",
    "print(f\"# TOTAL FRAGMENTS: {results['Total']}\")\n",
    "print(\n",
    "    f\"   => Exact: {results['Exact']} / {results['Total']} \"\n",
    "    f\"({round(results['Exact'] / results['Total'] * 100, 2)}%)\"\n",
    ")\n",
    "print(\n",
    "    f\"   => Partial: {results['Partial']} / {results['Total']} \"\n",
    "    f\"({round(results['Partial'] / results['Total'] * 100, 2)}%)\"\n",
    ")\n",
    "print(\n",
    "    f\"   => Total: {len(avg)} / {results['Total']}\"\n",
    "    + f\" ({round(len(avg) / results['Total'] * 100, 2)}%)\"\n",
    ")"
   ],
   "metadata": {
    "collapsed": false,
    "pycharm": {
     "name": "#%%\n"
    }
   }
  },
  {
   "cell_type": "code",
   "execution_count": null,
   "outputs": [],
   "source": [
    "from pprint import pprint\n",
    "\n",
    "pprint(results)"
   ],
   "metadata": {
    "collapsed": false,
    "pycharm": {
     "name": "#%%\n"
    }
   }
  },
  {
   "cell_type": "code",
   "execution_count": null,
   "outputs": [],
   "source": [],
   "metadata": {
    "collapsed": false,
    "pycharm": {
     "name": "#%%\n"
    }
   }
  },
  {
   "cell_type": "code",
   "execution_count": null,
   "metadata": {
    "pycharm": {
     "name": "#%%\n"
    }
   },
   "outputs": [],
   "source": []
  }
 ],
 "metadata": {
  "kernelspec": {
   "display_name": "Python 3 (ipykernel)",
   "language": "python",
   "name": "python3"
  },
  "language_info": {
   "codemirror_mode": {
    "name": "ipython",
    "version": 3
   },
   "file_extension": ".py",
   "mimetype": "text/x-python",
   "name": "python",
   "nbconvert_exporter": "python",
   "pygments_lexer": "ipython3",
   "version": "3.9.10"
  },
  "widgets": {
   "application/vnd.jupyter.widget-state+json": {
    "state": {},
    "version_major": 2,
    "version_minor": 0
   }
  }
 },
 "nbformat": 4,
 "nbformat_minor": 4
}