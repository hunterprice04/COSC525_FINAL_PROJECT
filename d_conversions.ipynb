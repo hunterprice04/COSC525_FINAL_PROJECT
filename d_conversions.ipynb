{
 "cells": [
  {
   "cell_type": "markdown",
   "metadata": {
    "pycharm": {
     "name": "#%% md\n"
    }
   },
   "source": [
    "# Test conversions"
   ]
  },
  {
   "cell_type": "code",
   "execution_count": null,
   "outputs": [],
   "source": [
    "#@formatter:off\n",
    "%load_ext autoreload\n",
    "%autoreload 2\n",
    "#@formatter:on"
   ],
   "metadata": {
    "collapsed": false,
    "pycharm": {
     "name": "#%%\n"
    }
   }
  },
  {
   "cell_type": "code",
   "execution_count": 8,
   "metadata": {
    "collapsed": false,
    "jupyter": {
     "outputs_hidden": false
    },
    "pycharm": {
     "name": "#%%\n"
    }
   },
   "outputs": [
    {
     "name": "stdout",
     "output_type": "stream",
     "text": [
      "The autoreload extension is already loaded. To reload it, use:\n",
      "  %reload_ext autoreload\n"
     ]
    }
   ],
   "source": [
    "%load_ext autoreload\n",
    "%autoreload 2\n",
    "\n",
    "import os\n",
    "import numpy as np\n",
    "from varname.helpers import Wrapper\n",
    "from src.utils.Config import Config\n",
    "from src.data.TextDataset import TextDataset\n",
    "from src.utils.Utils import Utils\n",
    "\n",
    "Utils.tensorflow_shutup()"
   ]
  },
  {
   "cell_type": "code",
   "execution_count": 9,
   "metadata": {
    "collapsed": false,
    "jupyter": {
     "outputs_hidden": false
    },
    "pycharm": {
     "name": "#%%\n"
    }
   },
   "outputs": [
    {
     "name": "stdout",
     "output_type": "stream",
     "text": [
      "DataConfig(WINDOW_SIZE=5, STRIDE=3, DATA_PATH='data/example.txt')\n",
      "TrainingConfig(HIDDEN_STATE_SIZE=[], EPOCHS=0, BATCH_SIZE=0, DROPOUT=0.5, LR=0.001, BUFFER_SIZE=10000, SAVE_DIR='models', PRED_EVERY=5, PRED_LEN=100, PRED_TEMP=0.75)\n"
     ]
    }
   ],
   "source": [
    "\n",
    "config = {\n",
    "    \"DATA\": {\n",
    "        \"WINDOW_SIZE\": 5,\n",
    "        \"STRIDE\": 3,\n",
    "        \"DATA_PATH\": os.path.join(\"data\", \"example.txt\"),\n",
    "    },\n",
    "    \"TRAINING\": {},\n",
    "}\n",
    "config = Config(**config)"
   ]
  },
  {
   "cell_type": "markdown",
   "metadata": {
    "pycharm": {
     "name": "#%% md\n"
    }
   },
   "source": [
    "## Reading Dataset"
   ]
  },
  {
   "cell_type": "code",
   "execution_count": 10,
   "metadata": {
    "collapsed": false,
    "jupyter": {
     "outputs_hidden": false
    },
    "pycharm": {
     "name": "#%%\n"
    }
   },
   "outputs": [
    {
     "name": "stdout",
     "output_type": "stream",
     "text": [
      "# [TextDataset]:\tConfig(DATA=DataConfig(WINDOW_SIZE=5, STRIDE=3, DATA_PATH='data/example.txt'), TRAINING=TrainingConfig(HIDDEN_STATE_SIZE=[], EPOCHS=0, BATCH_SIZE=0, DROPOUT=0.5, LR=0.001, BUFFER_SIZE=10000, SAVE_DIR='models', PRED_EVERY=5, PRED_LEN=100, PRED_TEMP=0.75), EMBED=None)\n",
      "# [TextDataset - read]:\n",
      "1. Reading `data/example.txt`...\n",
      "\t19 total chars in text\n",
      "# [Vocab]:\tlabel=example\tencoding=utf-8\tverbosity=2\n",
      "# [Embeddings - init]:\tlabel=example\tencoding=utf-8\n",
      "2. Converting __items__ to ids...\n",
      "\tids: (len=19 min=1, max=12)\n",
      "\tdata: <TensorSliceDataset shapes: (), types: tf.int64>\n",
      "3. Creating sequences...\n",
      "\tdata: <FlatMapDataset shapes: (6,), types: tf.int64>\n",
      "4. Splitting into inputs and targets...\n",
      "\tdataset_ids: <MapDataset shapes: ((5,), (5,)), types: (tf.int64, tf.int64)>\n",
      "5. One-hot encoding...\n",
      "\tdataset_oh: <MapDataset shapes: ((5, 13), (5, 13)), types: (tf.int64, tf.int64)>\n"
     ]
    }
   ],
   "source": [
    "\n",
    "dr = TextDataset(config, verbosity=2).read()"
   ]
  },
  {
   "cell_type": "markdown",
   "metadata": {
    "pycharm": {
     "name": "#%% md\n"
    }
   },
   "source": [
    "## Validating Conversions"
   ]
  },
  {
   "cell_type": "code",
   "execution_count": 11,
   "metadata": {
    "collapsed": false,
    "jupyter": {
     "outputs_hidden": false
    },
    "pycharm": {
     "name": "#%%\n"
    }
   },
   "outputs": [
    {
     "name": "stdout",
     "output_type": "stream",
     "text": [
      "1. text_str =\n",
      "'hello'\n",
      "------------------------------------------------------------\n",
      "2. text_ids =\n",
      "<tf.Tensor: shape=(5,), dtype=int64, numpy=array([6, 5, 7, 7, 8])>\n",
      "------------------------------------------------------------\n",
      "3. text_oh =\n",
      "<tf.Tensor: shape=(5, 13), dtype=int64, numpy=\n",
      "array([[0, 0, 0, 0, 0, 0, 1, 0, 0, 0, 0, 0, 0],\n",
      "       [0, 0, 0, 0, 0, 1, 0, 0, 0, 0, 0, 0, 0],\n",
      "       [0, 0, 0, 0, 0, 0, 0, 1, 0, 0, 0, 0, 0],\n",
      "       [0, 0, 0, 0, 0, 0, 0, 1, 0, 0, 0, 0, 0],\n",
      "       [0, 0, 0, 0, 0, 0, 0, 0, 1, 0, 0, 0, 0]])>\n",
      "------------------------------------------------------------\n"
     ]
    }
   ],
   "source": [
    "\n",
    "# This is equivalent to the first sample in the dataset\n",
    "text_str = Wrapper(\"hello\")\n",
    "test_list = [text_str]\n",
    "\n",
    "# Grab the first sample from the dataset in both IDS and OH representations\n",
    "for ids, _ in dr.dataset_ids.take(1):\n",
    "    text_ids = Wrapper(ids)\n",
    "    test_list.append(text_ids)\n",
    "\n",
    "for oh, _ in dr.dataset_oh.take(1):\n",
    "    text_oh = Wrapper(oh)\n",
    "    test_list.append(text_oh)\n",
    "\n",
    "\n",
    "# Making sure that the conversions are correct\n",
    "def assert_same(x, expected):\n",
    "    # Check that the types of x and y are the same\n",
    "    print(\"-\" * 60)\n",
    "    print(\"  - Checking Types\")\n",
    "    assert type(x) == type(expected), f\"TYPES: {type(x)} != {type(expected)}\"\n",
    "    print(\"  - Checking Values\")\n",
    "    assert np.all(x == expected), f\"VALUES: {x} != {expected}\"\n",
    "\n",
    "\n",
    "def test_conversion_func(func, xvals: list, expected):\n",
    "    print(f\"# Testing {func.__name__}:\")\n",
    "    for i, x in enumerate(xvals):\n",
    "        print(\"=\" * 80)\n",
    "        print(f\"{i + 1}. {x.name} => {func.__name__}\")\n",
    "        try:\n",
    "            x_ = func(x.value)\n",
    "            assert_same(x_, expected)\n",
    "        except Exception as e:\n",
    "            print_exception(e, x)\n",
    "    print(f\"OK: {func.__name__} passed\")\n",
    "\n",
    "\n",
    "def print_exception(e, x):\n",
    "    print(f\"  - ERROR: {e}\")\n",
    "    print(\"=\" * 80)\n",
    "    print(\"Type:\", type(x.value))\n",
    "    print(x.value)\n",
    "    print(\"=\" * 80)\n",
    "    raise e\n",
    "\n",
    "\n",
    "for i, v in enumerate(test_list):\n",
    "    print(f\"{i + 1}. {v.name} =\")\n",
    "    print(v)\n",
    "    print(\"-\" * 60)"
   ]
  },
  {
   "cell_type": "markdown",
   "metadata": {
    "pycharm": {
     "name": "#%% md\n"
    }
   },
   "source": [
    "## Conversion to String"
   ]
  },
  {
   "cell_type": "code",
   "execution_count": 12,
   "metadata": {
    "collapsed": false,
    "jupyter": {
     "outputs_hidden": false
    },
    "pycharm": {
     "name": "#%%\n"
    }
   },
   "outputs": [
    {
     "name": "stdout",
     "output_type": "stream",
     "text": [
      "# Testing to_string:\n",
      "================================================================================\n",
      "1. text_str => to_string\n",
      "* to_ids -> input is a String; converting to IDs first...\n",
      "  - ERROR: 'int' object has no attribute 'decode'\n",
      "================================================================================\n",
      "Type: <class 'str'>\n",
      "hello\n",
      "================================================================================\n"
     ]
    },
    {
     "ename": "AttributeError",
     "evalue": "'int' object has no attribute 'decode'",
     "output_type": "error",
     "traceback": [
      "\u001B[0;31m---------------------------------------------------------------------------\u001B[0m",
      "\u001B[0;31mAttributeError\u001B[0m                            Traceback (most recent call last)",
      "\u001B[0;32m/tmp/ipykernel_652369/1239053069.py\u001B[0m in \u001B[0;36m<module>\u001B[0;34m\u001B[0m\n\u001B[0;32m----> 1\u001B[0;31m \u001B[0mtest_conversion_func\u001B[0m\u001B[0;34m(\u001B[0m\u001B[0mconfig\u001B[0m\u001B[0;34m.\u001B[0m\u001B[0mEMBED\u001B[0m\u001B[0;34m.\u001B[0m\u001B[0mto_string\u001B[0m\u001B[0;34m,\u001B[0m \u001B[0mtest_list\u001B[0m\u001B[0;34m,\u001B[0m \u001B[0mtest_list\u001B[0m\u001B[0;34m[\u001B[0m\u001B[0;36m0\u001B[0m\u001B[0;34m]\u001B[0m\u001B[0;34m.\u001B[0m\u001B[0mvalue\u001B[0m\u001B[0;34m)\u001B[0m\u001B[0;34m\u001B[0m\u001B[0;34m\u001B[0m\u001B[0m\n\u001B[0m",
      "\u001B[0;32m/tmp/ipykernel_652369/563774615.py\u001B[0m in \u001B[0;36mtest_conversion_func\u001B[0;34m(func, xvals, expected)\u001B[0m\n\u001B[1;32m     32\u001B[0m             \u001B[0massert_same\u001B[0m\u001B[0;34m(\u001B[0m\u001B[0mx_\u001B[0m\u001B[0;34m,\u001B[0m \u001B[0mexpected\u001B[0m\u001B[0;34m)\u001B[0m\u001B[0;34m\u001B[0m\u001B[0;34m\u001B[0m\u001B[0m\n\u001B[1;32m     33\u001B[0m         \u001B[0;32mexcept\u001B[0m \u001B[0mException\u001B[0m \u001B[0;32mas\u001B[0m \u001B[0me\u001B[0m\u001B[0;34m:\u001B[0m\u001B[0;34m\u001B[0m\u001B[0;34m\u001B[0m\u001B[0m\n\u001B[0;32m---> 34\u001B[0;31m             \u001B[0mprint_exception\u001B[0m\u001B[0;34m(\u001B[0m\u001B[0me\u001B[0m\u001B[0;34m,\u001B[0m \u001B[0mx\u001B[0m\u001B[0;34m)\u001B[0m\u001B[0;34m\u001B[0m\u001B[0;34m\u001B[0m\u001B[0m\n\u001B[0m\u001B[1;32m     35\u001B[0m     \u001B[0mprint\u001B[0m\u001B[0;34m(\u001B[0m\u001B[0;34mf\"OK: {func.__name__} passed\"\u001B[0m\u001B[0;34m)\u001B[0m\u001B[0;34m\u001B[0m\u001B[0;34m\u001B[0m\u001B[0m\n\u001B[1;32m     36\u001B[0m \u001B[0;34m\u001B[0m\u001B[0m\n",
      "\u001B[0;32m/tmp/ipykernel_652369/563774615.py\u001B[0m in \u001B[0;36mprint_exception\u001B[0;34m(e, x)\u001B[0m\n\u001B[1;32m     42\u001B[0m     \u001B[0mprint\u001B[0m\u001B[0;34m(\u001B[0m\u001B[0mx\u001B[0m\u001B[0;34m.\u001B[0m\u001B[0mvalue\u001B[0m\u001B[0;34m)\u001B[0m\u001B[0;34m\u001B[0m\u001B[0;34m\u001B[0m\u001B[0m\n\u001B[1;32m     43\u001B[0m     \u001B[0mprint\u001B[0m\u001B[0;34m(\u001B[0m\u001B[0;34m\"=\"\u001B[0m \u001B[0;34m*\u001B[0m \u001B[0;36m80\u001B[0m\u001B[0;34m)\u001B[0m\u001B[0;34m\u001B[0m\u001B[0;34m\u001B[0m\u001B[0m\n\u001B[0;32m---> 44\u001B[0;31m     \u001B[0;32mraise\u001B[0m \u001B[0me\u001B[0m\u001B[0;34m\u001B[0m\u001B[0;34m\u001B[0m\u001B[0m\n\u001B[0m\u001B[1;32m     45\u001B[0m \u001B[0;34m\u001B[0m\u001B[0m\n\u001B[1;32m     46\u001B[0m \u001B[0;34m\u001B[0m\u001B[0m\n",
      "\u001B[0;32m/tmp/ipykernel_652369/563774615.py\u001B[0m in \u001B[0;36mtest_conversion_func\u001B[0;34m(func, xvals, expected)\u001B[0m\n\u001B[1;32m     29\u001B[0m         \u001B[0mprint\u001B[0m\u001B[0;34m(\u001B[0m\u001B[0;34mf\"{i + 1}. {x.name} => {func.__name__}\"\u001B[0m\u001B[0;34m)\u001B[0m\u001B[0;34m\u001B[0m\u001B[0;34m\u001B[0m\u001B[0m\n\u001B[1;32m     30\u001B[0m         \u001B[0;32mtry\u001B[0m\u001B[0;34m:\u001B[0m\u001B[0;34m\u001B[0m\u001B[0;34m\u001B[0m\u001B[0m\n\u001B[0;32m---> 31\u001B[0;31m             \u001B[0mx_\u001B[0m \u001B[0;34m=\u001B[0m \u001B[0mfunc\u001B[0m\u001B[0;34m(\u001B[0m\u001B[0mx\u001B[0m\u001B[0;34m.\u001B[0m\u001B[0mvalue\u001B[0m\u001B[0;34m)\u001B[0m\u001B[0;34m\u001B[0m\u001B[0;34m\u001B[0m\u001B[0m\n\u001B[0m\u001B[1;32m     32\u001B[0m             \u001B[0massert_same\u001B[0m\u001B[0;34m(\u001B[0m\u001B[0mx_\u001B[0m\u001B[0;34m,\u001B[0m \u001B[0mexpected\u001B[0m\u001B[0;34m)\u001B[0m\u001B[0;34m\u001B[0m\u001B[0;34m\u001B[0m\u001B[0m\n\u001B[1;32m     33\u001B[0m         \u001B[0;32mexcept\u001B[0m \u001B[0mException\u001B[0m \u001B[0;32mas\u001B[0m \u001B[0me\u001B[0m\u001B[0;34m:\u001B[0m\u001B[0;34m\u001B[0m\u001B[0;34m\u001B[0m\u001B[0m\n",
      "\u001B[0;32m/jupyter/COSC525_FINAL_PROJECT/src/data/Embeddings.py\u001B[0m in \u001B[0;36mto_string\u001B[0;34m(self, x)\u001B[0m\n\u001B[1;32m     17\u001B[0m     \u001B[0;32mdef\u001B[0m \u001B[0mto_string\u001B[0m\u001B[0;34m(\u001B[0m\u001B[0mself\u001B[0m\u001B[0;34m,\u001B[0m \u001B[0mx\u001B[0m\u001B[0;34m)\u001B[0m\u001B[0;34m:\u001B[0m\u001B[0;34m\u001B[0m\u001B[0;34m\u001B[0m\u001B[0m\n\u001B[1;32m     18\u001B[0m         \u001B[0mtf_str\u001B[0m \u001B[0;34m=\u001B[0m \u001B[0mself\u001B[0m\u001B[0;34m.\u001B[0m\u001B[0mto_tfstring\u001B[0m\u001B[0;34m(\u001B[0m\u001B[0mx\u001B[0m\u001B[0;34m)\u001B[0m\u001B[0;34m\u001B[0m\u001B[0;34m\u001B[0m\u001B[0m\n\u001B[0;32m---> 19\u001B[0;31m         \u001B[0;32mreturn\u001B[0m \u001B[0mtf_str\u001B[0m\u001B[0;34m.\u001B[0m\u001B[0mnumpy\u001B[0m\u001B[0;34m(\u001B[0m\u001B[0;34m)\u001B[0m\u001B[0;34m[\u001B[0m\u001B[0;36m0\u001B[0m\u001B[0;34m]\u001B[0m\u001B[0;34m.\u001B[0m\u001B[0mdecode\u001B[0m\u001B[0;34m(\u001B[0m\u001B[0mself\u001B[0m\u001B[0;34m.\u001B[0m\u001B[0mencoding\u001B[0m\u001B[0;34m)\u001B[0m\u001B[0;34m\u001B[0m\u001B[0;34m\u001B[0m\u001B[0m\n\u001B[0m\u001B[1;32m     20\u001B[0m \u001B[0;34m\u001B[0m\u001B[0m\n\u001B[1;32m     21\u001B[0m     \u001B[0;32mdef\u001B[0m \u001B[0mto_onehot\u001B[0m\u001B[0;34m(\u001B[0m\u001B[0mself\u001B[0m\u001B[0;34m,\u001B[0m \u001B[0mx\u001B[0m\u001B[0;34m)\u001B[0m\u001B[0;34m:\u001B[0m\u001B[0;34m\u001B[0m\u001B[0;34m\u001B[0m\u001B[0m\n",
      "\u001B[0;31mAttributeError\u001B[0m: 'int' object has no attribute 'decode'"
     ]
    }
   ],
   "source": [
    "test_conversion_func(config.EMBED.to_string, test_list, test_list[0].value)"
   ]
  },
  {
   "cell_type": "markdown",
   "metadata": {
    "pycharm": {
     "name": "#%% md\n"
    }
   },
   "source": [
    "## Conversion to IDS"
   ]
  },
  {
   "cell_type": "code",
   "execution_count": null,
   "metadata": {
    "collapsed": false,
    "jupyter": {
     "outputs_hidden": false
    },
    "pycharm": {
     "name": "#%%\n"
    }
   },
   "outputs": [],
   "source": [
    "test_conversion_func(config.EMBED.to_ids, test_list, test_list[1].value)"
   ]
  },
  {
   "cell_type": "markdown",
   "metadata": {
    "pycharm": {
     "name": "#%% md\n"
    }
   },
   "source": [
    "## Conversion to One-Hot"
   ]
  },
  {
   "cell_type": "code",
   "execution_count": null,
   "metadata": {
    "collapsed": false,
    "jupyter": {
     "outputs_hidden": false
    },
    "pycharm": {
     "name": "#%%\n"
    }
   },
   "outputs": [],
   "source": [
    "test_conversion_func(config.EMBED.to_onehot, test_list, test_list[2].value)"
   ]
  }
 ],
 "metadata": {
  "kernelspec": {
   "display_name": "Python 3 (ipykernel)",
   "language": "python",
   "name": "python3"
  },
  "language_info": {
   "codemirror_mode": {
    "name": "ipython",
    "version": 3
   },
   "file_extension": ".py",
   "mimetype": "text/x-python",
   "name": "python",
   "nbconvert_exporter": "python",
   "pygments_lexer": "ipython3",
   "version": "3.9.10"
  },
  "widgets": {
   "application/vnd.jupyter.widget-state+json": {
    "state": {},
    "version_major": 2,
    "version_minor": 0
   }
  }
 },
 "nbformat": 4,
 "nbformat_minor": 4
}