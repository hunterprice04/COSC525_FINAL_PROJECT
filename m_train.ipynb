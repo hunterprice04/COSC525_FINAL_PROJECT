{
 "cells": [
  {
   "cell_type": "markdown",
   "metadata": {
    "pycharm": {
     "name": "#%% md\n"
    }
   },
   "source": [
    "# Training LSTM"
   ]
  },
  {
   "cell_type": "code",
   "execution_count": 1,
   "metadata": {
    "collapsed": false,
    "jupyter": {
     "outputs_hidden": false
    },
    "pycharm": {
     "name": "#%%\n"
    }
   },
   "outputs": [],
   "source": [
    "%load_ext autoreload\n",
    "%autoreload 2\n",
    "\n",
    "import os\n",
    "from src.utils.Utils import Utils\n",
    "from src.models.RNN import RNN\n",
    "from src.Sampling import Sampling\n",
    "from src.models.LSTM import LSTM\n",
    "from src.TextGeneration import TextGeneration\n",
    "from src.utils.Config import Config\n",
    "from src.data.TextDataset import TextDataset\n",
    "\n",
    "Utils.tensorflow_shutup()"
   ]
  },
  {
   "cell_type": "code",
   "execution_count": null,
   "metadata": {
    "pycharm": {
     "name": "#%%\n"
    }
   },
   "outputs": [
    {
     "name": "stdout",
     "output_type": "stream",
     "text": [
      "DataConfig(WINDOW_SIZE=15, STRIDE=14, DATA_PATH='data/beatles.txt', BUFFER_SIZE=10000)\n",
      "TrainingConfig(HIDDEN_STATE_SIZE=[500, 500], DROPOUT=0.5, LR=0.001, BATCH_SIZE=1000, EPOCHS=250, SAMPLING_TEMP=0.75)\n",
      "# [TextDataset - init]:\tfile_name=data/beatles.txt\twindow_size=10\tstride=3\n",
      "\t166753 total chars in text\n",
      "# [TextEmbeddings - init]:\tlabel=beatles\tencoding=utf-8\n",
      "# [TextGeneration - init]:\tmodel_func=get_RNN\n",
      "# [TextGeneration - train]:\n",
      "models/beatles/model_RNN_beatles_WS-10_ST-3_BS-1000_HS-256_DR-0.5_LR-0.001/history.csv\n",
      "models/beatles/model_RNN_beatles_WS-10_ST-3_BS-1000_HS-256_DR-0.5_LR-0.001/checkpoints\n"
     ]
    },
    {
     "name": "stderr",
     "output_type": "stream",
     "text": [
      "  1%|          | 3/250 [00:16<21:06,  5.13s/it, loss=2.43, acc=0.324, gen=b'hm  ,ikh)rs? \\nfadu\\ntfatye\\nssv waee toly y goe  od  o ely loy s er d n you  iel wobe mi ds ls e mion g', es=0/10]"
     ]
    }
   ],
   "source": [
    "config_d = {\n",
    "    \"DATA\": {\n",
    "        \"WINDOW_SIZE\": 15,\n",
    "        \"STRIDE\": 14,\n",
    "        \"DATA_PATH\": os.path.join(\"data\", \"beatles.txt\"),\n",
    "    },\n",
    "    \"TRAINING\": {\n",
    "        \"HIDDEN_STATE_SIZE\": [500, 500],\n",
    "        \"BATCH_SIZE\": 1000,\n",
    "        \"EPOCHS\": 250,\n",
    "        \"SAMPLING_TEMP\": 0.75,\n",
    "        \"BUFFER_SIZE\": 10000,\n",
    "    },\n",
    "}\n",
    "\n",
    "for hs in [[256], [512], [256, 256], [512, 512], [256, 512, 256], [512, 512, 512]]:\n",
    "    for ws in [10, 25, 35, 50, 75]:\n",
    "        for s in [3, 7, 15, 20]:\n",
    "            for f in [RNN.get_RNN, LSTM.get_LSTM]:\n",
    "                config = Config(**config_d)\n",
    "                config.DATA.WINDOW_SIZE = ws\n",
    "                config.DATA.STRIDE = s\n",
    "                config.TRAINING.HIDDEN_STATE_SIZE = hs\n",
    "\n",
    "                data = TextDataset(config).read()\n",
    "                model = TextGeneration(config, f)\n",
    "                history = model.train(data, config)"
   ]
  },
  {
   "cell_type": "code",
   "execution_count": null,
   "metadata": {
    "pycharm": {
     "name": "#%%\n"
    }
   },
   "outputs": [],
   "source": [
    "prompt = \"walk through \"\n",
    "\n",
    "gen = model.predict(\n",
    "    prompt, Sampling.random_sampling, num_chars=500, temp=0.5, verbosity=1\n",
    ")\n",
    "print(prompt + gen)"
   ]
  },
  {
   "cell_type": "code",
   "execution_count": null,
   "metadata": {
    "pycharm": {
     "name": "#%%\n"
    }
   },
   "outputs": [],
   "source": [
    "for i, l in enumerate(history[\"gen\"]):\n",
    "    print(i, l)"
   ]
  }
 ],
 "metadata": {
  "kernelspec": {
   "display_name": "Python 3 (ipykernel)",
   "language": "python",
   "name": "python3"
  },
  "language_info": {
   "codemirror_mode": {
    "name": "ipython",
    "version": 3
   },
   "file_extension": ".py",
   "mimetype": "text/x-python",
   "name": "python",
   "nbconvert_exporter": "python",
   "pygments_lexer": "ipython3",
   "version": "3.9.10"
  },
  "widgets": {
   "application/vnd.jupyter.widget-state+json": {
    "state": {},
    "version_major": 2,
    "version_minor": 0
   }
  }
 },
 "nbformat": 4,
 "nbformat_minor": 4
}