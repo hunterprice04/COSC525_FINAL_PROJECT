{
 "cells": [
  {
   "cell_type": "code",
   "execution_count": 1,
   "outputs": [],
   "source": [
    "#@formatter:off\n",
    "%load_ext autoreload\n",
    "%autoreload 2\n",
    "#@formatter:on"
   ],
   "metadata": {
    "collapsed": false,
    "pycharm": {
     "name": "#%%\n"
    }
   }
  },
  {
   "cell_type": "code",
   "execution_count": 31,
   "outputs": [],
   "source": [
    "import pickle\n",
    "from src.Generation import Generator\n",
    "from tensorflow.python.keras.saving.save import load_model\n",
    "\n",
    "# Load model from model.h5\n",
    "model = load_model('model_save')\n",
    "model_config = pickle.load(open('model_save/config_model.pkl', 'rb'))\n",
    "vocab = pickle.load(open('model_save/vocab.pkl', 'rb'))\n"
   ],
   "metadata": {
    "collapsed": false,
    "pycharm": {
     "name": "#%%\n"
    }
   }
  },
  {
   "cell_type": "code",
   "execution_count": 43,
   "outputs": [
    {
     "name": "stdout",
     "output_type": "stream",
     "text": [
      "Generated 101 tokens\n",
      "i will always be rich , fuck the world                                                                                                \n"
     ]
    }
   ],
   "source": [
    "generator = Generator(model, model_config.M_MAX_LEN, vocab)\n",
    "generated_txt = generator.generate(\"i will always be\", 50, generator.sample_top_k)\n",
    "print(generated_txt)"
   ],
   "metadata": {
    "collapsed": false,
    "pycharm": {
     "name": "#%%\n"
    }
   }
  },
  {
   "cell_type": "code",
   "execution_count": 15,
   "outputs": [
    {
     "name": "stdout",
     "output_type": "stream",
     "text": [
      "Generated 51 tokens\n",
      "i will always be strong                                                  \n"
     ]
    }
   ],
   "source": [
    "generator = Generator(model, model_config.M_MAX_LEN, vocab)\n",
    "generated_txt = generator.generate(\"i will always be\", 50, generator.greedy)\n",
    "print(generated_txt)"
   ],
   "metadata": {
    "collapsed": false,
    "pycharm": {
     "name": "#%%\n"
    }
   }
  },
  {
   "cell_type": "code",
   "execution_count": 42,
   "outputs": [
    {
     "name": "stdout",
     "output_type": "stream",
     "text": [
      "Generated 51 tokens\n",
      "i will always be out the game so we rob you                                            \n"
     ]
    }
   ],
   "source": [
    "generator = Generator(model, model_config.M_MAX_LEN, vocab)\n",
    "generated_txt = generator.generate(\"i will always be\", 50, generator.sample_top_p)\n",
    "print(generated_txt)"
   ],
   "metadata": {
    "collapsed": false,
    "pycharm": {
     "name": "#%%\n"
    }
   }
  },
  {
   "cell_type": "code",
   "execution_count": 53,
   "outputs": [
    {
     "name": "stdout",
     "output_type": "stream",
     "text": [
      "Generated 51 tokens\n",
      "i will always be strong                                                  \n"
     ]
    }
   ],
   "source": [
    "generator = Generator(model, model_config.M_MAX_LEN, vocab)\n",
    "generated_txt = generator.generate(\"i will always be\", 50, generator.sample_random)\n",
    "print(generated_txt)"
   ],
   "metadata": {
    "collapsed": false,
    "pycharm": {
     "name": "#%%\n"
    }
   }
  },
  {
   "cell_type": "code",
   "execution_count": null,
   "outputs": [],
   "source": [],
   "metadata": {
    "collapsed": false,
    "pycharm": {
     "name": "#%%\n"
    }
   }
  }
 ],
 "metadata": {
  "kernelspec": {
   "display_name": "Python 3",
   "language": "python",
   "name": "python3"
  },
  "language_info": {
   "codemirror_mode": {
    "name": "ipython",
    "version": 2
   },
   "file_extension": ".py",
   "mimetype": "text/x-python",
   "name": "python",
   "nbconvert_exporter": "python",
   "pygments_lexer": "ipython2",
   "version": "2.7.6"
  }
 },
 "nbformat": 4,
 "nbformat_minor": 0
}