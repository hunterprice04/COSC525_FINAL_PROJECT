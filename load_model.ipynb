{
 "cells": [
  {
   "cell_type": "code",
   "execution_count": 54,
   "outputs": [
    {
     "name": "stdout",
     "output_type": "stream",
     "text": [
      "The autoreload extension is already loaded. To reload it, use:\n",
      "  %reload_ext autoreload\n"
     ]
    }
   ],
   "source": [
    "#@formatter:off\n",
    "%load_ext autoreload\n",
    "%autoreload 2\n",
    "#@formatter:on"
   ],
   "metadata": {
    "collapsed": false,
    "pycharm": {
     "name": "#%%\n"
    }
   }
  },
  {
   "cell_type": "code",
   "execution_count": 167,
   "outputs": [],
   "source": [
    "import pickle\n",
    "from src.Generation import Generator\n",
    "from src.Metrics import get_metrics_for_all_prompts\n",
    "from src.tokenize_utils import *\n",
    "\n",
    "from tensorflow.python.keras.saving.save import load_model\n",
    "from datasets import load_dataset\n",
    "from pprint import pprint\n",
    "\n",
    "# Load model from model.h5\n",
    "model = load_model('model_save')\n",
    "model_config = pickle.load(open('model_save/config_model.pkl', 'rb'))\n",
    "vocab = pickle.load(open('model_save/vocab.pkl', 'rb'))\n"
   ],
   "metadata": {
    "collapsed": false,
    "pycharm": {
     "name": "#%%\n"
    }
   }
  },
  {
   "cell_type": "code",
   "execution_count": 124,
   "outputs": [
    {
     "name": "stdout",
     "output_type": "stream",
     "text": [
      "Generated 51 tokens\n",
      "i will always be cold hearted motherfucker it 's getting mad                                            \n"
     ]
    }
   ],
   "source": [
    "generator = Generator(model, model_config.M_MAX_LEN, vocab)\n",
    "generated_txt = generator.generate(\"i will always be\", 50, generator.TOP_K)\n",
    "print(generated_txt)"
   ],
   "metadata": {
    "collapsed": false,
    "pycharm": {
     "name": "#%%\n"
    }
   }
  },
  {
   "cell_type": "code",
   "execution_count": 125,
   "outputs": [
    {
     "name": "stdout",
     "output_type": "stream",
     "text": [
      "Generated 51 tokens\n",
      "i will always be strong                                                  \n"
     ]
    }
   ],
   "source": [
    "generator = Generator(model, model_config.M_MAX_LEN, vocab)\n",
    "generated_txt = generator.generate(\"i will always be\", 50, generator.GREEDY)\n",
    "print(generated_txt)"
   ],
   "metadata": {
    "collapsed": false,
    "pycharm": {
     "name": "#%%\n"
    }
   }
  },
  {
   "cell_type": "code",
   "execution_count": 126,
   "outputs": [
    {
     "name": "stdout",
     "output_type": "stream",
     "text": [
      "Generated 51 tokens\n",
      "i will always be the same time i listen                                              \n"
     ]
    }
   ],
   "source": [
    "generator = Generator(model, model_config.M_MAX_LEN, vocab)\n",
    "generated_txt = generator.generate(\"i will always be\", 50, generator.TOP_P)\n",
    "print(generated_txt)"
   ],
   "metadata": {
    "collapsed": false,
    "pycharm": {
     "name": "#%%\n"
    }
   }
  },
  {
   "cell_type": "code",
   "execution_count": 129,
   "outputs": [
    {
     "name": "stdout",
     "output_type": "stream",
     "text": [
      "Generated 51 tokens\n",
      "i will always be another statistic , out here tryin to do                                           \n"
     ]
    }
   ],
   "source": [
    "generator = Generator(model, model_config.M_MAX_LEN, vocab)\n",
    "generated_txt = generator.generate(\"i will always be\", 50, generator.RANDOM)\n",
    "print(generated_txt)"
   ],
   "metadata": {
    "collapsed": false,
    "pycharm": {
     "name": "#%%\n"
    }
   }
  },
  {
   "cell_type": "code",
   "execution_count": 140,
   "outputs": [],
   "source": [
    "# generator = Generator(model, model_config.M_MAX_LEN, vocab)\n",
    "# generated_txt = generator.generate(\"i will always be\", 50, generator.BEAM)\n",
    "# print(generated_txt)"
   ],
   "metadata": {
    "collapsed": false,
    "pycharm": {
     "name": "#%%\n"
    }
   }
  },
  {
   "cell_type": "markdown",
   "source": [
    "---"
   ],
   "metadata": {
    "collapsed": false,
    "pycharm": {
     "name": "#%% md\n"
    }
   }
  },
  {
   "cell_type": "code",
   "execution_count": 168,
   "outputs": [
    {
     "name": "stderr",
     "output_type": "stream",
     "text": [
      "Reusing dataset wikitext (/Users/hp/.cache/huggingface/datasets/wikitext/wikitext-2-raw-v1/1.0.0/a241db52902eaf2c6aa732210bead40c090019a499ceb13bcbfa3f8ab646a126)\n",
      "0it [00:00, ?it/s]"
     ]
    },
    {
     "name": "stdout",
     "output_type": "stream",
     "text": [
      "Generated 51 tokens\n",
      "Generated 51 tokens\n",
      "Generated 51 tokens\n",
      "Generated 51 tokens\n"
     ]
    },
    {
     "name": "stderr",
     "output_type": "stream",
     "text": [
      "Using pad_token, but it is not set yet.\n"
     ]
    },
    {
     "data": {
      "text/plain": "  0%|          | 0/2 [00:00<?, ?it/s]",
      "application/vnd.jupyter.widget-view+json": {
       "version_major": 2,
       "version_minor": 0,
       "model_id": "bc65b7970d9443549ee1f10c3ac44898"
      }
     },
     "metadata": {},
     "output_type": "display_data"
    },
    {
     "name": "stderr",
     "output_type": "stream",
     "text": [
      "Using pad_token, but it is not set yet.\n"
     ]
    },
    {
     "data": {
      "text/plain": "  0%|          | 0/2 [00:00<?, ?it/s]",
      "application/vnd.jupyter.widget-view+json": {
       "version_major": 2,
       "version_minor": 0,
       "model_id": "5944def5ede249138a237452f7288a9c"
      }
     },
     "metadata": {},
     "output_type": "display_data"
    },
    {
     "name": "stderr",
     "output_type": "stream",
     "text": [
      "Using pad_token, but it is not set yet.\n"
     ]
    },
    {
     "data": {
      "text/plain": "  0%|          | 0/1 [00:00<?, ?it/s]",
      "application/vnd.jupyter.widget-view+json": {
       "version_major": 2,
       "version_minor": 0,
       "model_id": "7df521be195a4a558116d9b69cdea60e"
      }
     },
     "metadata": {},
     "output_type": "display_data"
    },
    {
     "name": "stderr",
     "output_type": "stream",
     "text": [
      "Using pad_token, but it is not set yet.\n"
     ]
    },
    {
     "data": {
      "text/plain": "  0%|          | 0/2 [00:00<?, ?it/s]",
      "application/vnd.jupyter.widget-view+json": {
       "version_major": 2,
       "version_minor": 0,
       "model_id": "d76a1a9c710745b78e5bd9bc2c4873ea"
      }
     },
     "metadata": {},
     "output_type": "display_data"
    },
    {
     "name": "stderr",
     "output_type": "stream",
     "text": [
      "1it [00:29, 29.95s/it]"
     ]
    },
    {
     "name": "stdout",
     "output_type": "stream",
     "text": [
      "Generated 51 tokens\n",
      "Generated 51 tokens\n",
      "Generated 51 tokens\n",
      "Generated 51 tokens\n"
     ]
    },
    {
     "name": "stderr",
     "output_type": "stream",
     "text": [
      "Using pad_token, but it is not set yet.\n"
     ]
    },
    {
     "data": {
      "text/plain": "  0%|          | 0/3 [00:00<?, ?it/s]",
      "application/vnd.jupyter.widget-view+json": {
       "version_major": 2,
       "version_minor": 0,
       "model_id": "a8149b73ed704cb1b0ba3e319241803e"
      }
     },
     "metadata": {},
     "output_type": "display_data"
    },
    {
     "name": "stderr",
     "output_type": "stream",
     "text": [
      "Using pad_token, but it is not set yet.\n"
     ]
    },
    {
     "data": {
      "text/plain": "  0%|          | 0/3 [00:00<?, ?it/s]",
      "application/vnd.jupyter.widget-view+json": {
       "version_major": 2,
       "version_minor": 0,
       "model_id": "080a0452e4da4ff88f61490a7952ee11"
      }
     },
     "metadata": {},
     "output_type": "display_data"
    },
    {
     "name": "stderr",
     "output_type": "stream",
     "text": [
      "Using pad_token, but it is not set yet.\n"
     ]
    },
    {
     "data": {
      "text/plain": "  0%|          | 0/4 [00:00<?, ?it/s]",
      "application/vnd.jupyter.widget-view+json": {
       "version_major": 2,
       "version_minor": 0,
       "model_id": "b991bac2020a403c8e1c8547a93746b6"
      }
     },
     "metadata": {},
     "output_type": "display_data"
    },
    {
     "name": "stderr",
     "output_type": "stream",
     "text": [
      "Using pad_token, but it is not set yet.\n"
     ]
    },
    {
     "data": {
      "text/plain": "  0%|          | 0/3 [00:00<?, ?it/s]",
      "application/vnd.jupyter.widget-view+json": {
       "version_major": 2,
       "version_minor": 0,
       "model_id": "544694f88e05473b9d1775c1824de848"
      }
     },
     "metadata": {},
     "output_type": "display_data"
    },
    {
     "name": "stderr",
     "output_type": "stream",
     "text": [
      "2it [00:58, 28.86s/it]"
     ]
    },
    {
     "name": "stdout",
     "output_type": "stream",
     "text": [
      "Generated 51 tokens\n",
      "Generated 51 tokens\n",
      "Generated 51 tokens\n",
      "Generated 51 tokens\n"
     ]
    },
    {
     "name": "stderr",
     "output_type": "stream",
     "text": [
      "Using pad_token, but it is not set yet.\n"
     ]
    },
    {
     "data": {
      "text/plain": "  0%|          | 0/2 [00:00<?, ?it/s]",
      "application/vnd.jupyter.widget-view+json": {
       "version_major": 2,
       "version_minor": 0,
       "model_id": "1d97424fe2804be4b8b43bd548e92292"
      }
     },
     "metadata": {},
     "output_type": "display_data"
    },
    {
     "name": "stderr",
     "output_type": "stream",
     "text": [
      "Using pad_token, but it is not set yet.\n"
     ]
    },
    {
     "data": {
      "text/plain": "  0%|          | 0/2 [00:00<?, ?it/s]",
      "application/vnd.jupyter.widget-view+json": {
       "version_major": 2,
       "version_minor": 0,
       "model_id": "02a7889a8fc44a4e9a99574e93f1697c"
      }
     },
     "metadata": {},
     "output_type": "display_data"
    },
    {
     "name": "stderr",
     "output_type": "stream",
     "text": [
      "Using pad_token, but it is not set yet.\n"
     ]
    },
    {
     "data": {
      "text/plain": "  0%|          | 0/2 [00:00<?, ?it/s]",
      "application/vnd.jupyter.widget-view+json": {
       "version_major": 2,
       "version_minor": 0,
       "model_id": "4f05ee4e8f9b41b3b639eded5eb53616"
      }
     },
     "metadata": {},
     "output_type": "display_data"
    },
    {
     "name": "stderr",
     "output_type": "stream",
     "text": [
      "Using pad_token, but it is not set yet.\n"
     ]
    },
    {
     "data": {
      "text/plain": "  0%|          | 0/3 [00:00<?, ?it/s]",
      "application/vnd.jupyter.widget-view+json": {
       "version_major": 2,
       "version_minor": 0,
       "model_id": "862aaacc523e4386b8cd6f18e58e46e8"
      }
     },
     "metadata": {},
     "output_type": "display_data"
    },
    {
     "name": "stderr",
     "output_type": "stream",
     "text": [
      "3it [01:25, 28.16s/it]"
     ]
    },
    {
     "name": "stdout",
     "output_type": "stream",
     "text": [
      "Generated 51 tokens\n",
      "Generated 51 tokens\n",
      "Generated 51 tokens\n",
      "Generated 51 tokens\n"
     ]
    },
    {
     "name": "stderr",
     "output_type": "stream",
     "text": [
      "Using pad_token, but it is not set yet.\n"
     ]
    },
    {
     "data": {
      "text/plain": "  0%|          | 0/3 [00:00<?, ?it/s]",
      "application/vnd.jupyter.widget-view+json": {
       "version_major": 2,
       "version_minor": 0,
       "model_id": "32c4fc1ae7a447a19ebf8c6967b38d3e"
      }
     },
     "metadata": {},
     "output_type": "display_data"
    },
    {
     "name": "stderr",
     "output_type": "stream",
     "text": [
      "Using pad_token, but it is not set yet.\n"
     ]
    },
    {
     "data": {
      "text/plain": "  0%|          | 0/2 [00:00<?, ?it/s]",
      "application/vnd.jupyter.widget-view+json": {
       "version_major": 2,
       "version_minor": 0,
       "model_id": "5176e5eb9f454aebb6e411bdda42cae0"
      }
     },
     "metadata": {},
     "output_type": "display_data"
    },
    {
     "name": "stderr",
     "output_type": "stream",
     "text": [
      "Using pad_token, but it is not set yet.\n"
     ]
    },
    {
     "data": {
      "text/plain": "  0%|          | 0/3 [00:00<?, ?it/s]",
      "application/vnd.jupyter.widget-view+json": {
       "version_major": 2,
       "version_minor": 0,
       "model_id": "6ee0c31b01ac4b89b86b4981e44a9980"
      }
     },
     "metadata": {},
     "output_type": "display_data"
    },
    {
     "name": "stderr",
     "output_type": "stream",
     "text": [
      "Using pad_token, but it is not set yet.\n"
     ]
    },
    {
     "data": {
      "text/plain": "  0%|          | 0/4 [00:00<?, ?it/s]",
      "application/vnd.jupyter.widget-view+json": {
       "version_major": 2,
       "version_minor": 0,
       "model_id": "8923834115ae4eba807b6a5161a014a7"
      }
     },
     "metadata": {},
     "output_type": "display_data"
    },
    {
     "name": "stderr",
     "output_type": "stream",
     "text": [
      "4it [01:53, 28.33s/it]\n"
     ]
    }
   ],
   "source": [
    "prompts = [\n",
    "    \"i will always be\",\n",
    "    \"the official strongest\",\n",
    "    \"occasionally the creature will\",\n",
    "    \"according to the documentation\"\n",
    "]\n",
    "generator = Generator(model, model_config.M_MAX_LEN, vocab)\n",
    "references = list(tokenize(load_dataset(\"wikitext\", \"wikitext-2-raw-v1\", split=\"test\")['text']))\n",
    "metrics = get_metrics_for_all_prompts(generator, prompts, references)"
   ],
   "metadata": {
    "collapsed": false,
    "pycharm": {
     "name": "#%%\n"
    }
   }
  },
  {
   "cell_type": "code",
   "execution_count": 169,
   "outputs": [
    {
     "name": "stdout",
     "output_type": "stream",
     "text": [
      "{0: {'greedy': {'bleu': 0.0,\n",
      "                'brevity_penalty': 2.061153622438558e-09,\n",
      "                'length_ratio': 0.047619047619047616,\n",
      "                'mean_perplexity': 144.49699281391344,\n",
      "                'perplexities': [95.4772720336914,\n",
      "                                 182.9801025390625,\n",
      "                                 95.4772720336914,\n",
      "                                 182.1228485107422,\n",
      "                                 182.1228485107422,\n",
      "                                 76.3486099243164,\n",
      "                                 182.1228485107422,\n",
      "                                 182.9801025390625,\n",
      "                                 76.3486099243164,\n",
      "                                 221.6112518310547,\n",
      "                                 74.64607238769531,\n",
      "                                 113.33948516845703,\n",
      "                                 168.00082397460938,\n",
      "                                 74.64607238769531,\n",
      "                                 133.0124969482422,\n",
      "                                 202.60354614257812,\n",
      "                                 222.87525939941406,\n",
      "                                 129.71600341796875,\n",
      "                                 149.01133728027344],\n",
      "                'precisions': [0.0, 0.0, 0.0, 0.0],\n",
      "                'predictions': 'i will always be '\n",
      "                               'strong                                                  ',\n",
      "                'reference_length': 399,\n",
      "                'rouge1': AggregateScore(low=Score(precision=0.0, recall=0.0, fmeasure=0.0), mid=Score(precision=0.05263157894736842, recall=0.0015037593984962405, fmeasure=0.0029239766081871348), high=Score(precision=0.15789473684210525, recall=0.004511278195488722, fmeasure=0.008771929824561405)),\n",
      "                'rouge2': AggregateScore(low=Score(precision=0.0, recall=0.0, fmeasure=0.0), mid=Score(precision=0.0, recall=0.0, fmeasure=0.0), high=Score(precision=0.0, recall=0.0, fmeasure=0.0)),\n",
      "                'rougeL': AggregateScore(low=Score(precision=0.0, recall=0.0, fmeasure=0.0), mid=Score(precision=0.05263157894736842, recall=0.0015037593984962405, fmeasure=0.0029239766081871348), high=Score(precision=0.15789473684210525, recall=0.004511278195488722, fmeasure=0.008771929824561405)),\n",
      "                'rougeLsum': AggregateScore(low=Score(precision=0.0, recall=0.0, fmeasure=0.0), mid=Score(precision=0.05263157894736842, recall=0.0015037593984962405, fmeasure=0.0029239766081871348), high=Score(precision=0.15789473684210525, recall=0.004511278195488722, fmeasure=0.008771929824561405)),\n",
      "                'translation_length': 19},\n",
      "     'random': {'bleu': 0.0,\n",
      "                'brevity_penalty': 8.879503708701954e-10,\n",
      "                'length_ratio': 0.04578313253012048,\n",
      "                'mean_perplexity': 144.49699281391344,\n",
      "                'perplexities': [95.4772720336914,\n",
      "                                 182.9801025390625,\n",
      "                                 95.4772720336914,\n",
      "                                 182.1228485107422,\n",
      "                                 182.1228485107422,\n",
      "                                 76.3486099243164,\n",
      "                                 182.1228485107422,\n",
      "                                 182.9801025390625,\n",
      "                                 76.3486099243164,\n",
      "                                 221.6112518310547,\n",
      "                                 74.64607238769531,\n",
      "                                 113.33948516845703,\n",
      "                                 168.00082397460938,\n",
      "                                 74.64607238769531,\n",
      "                                 133.0124969482422,\n",
      "                                 202.60354614257812,\n",
      "                                 222.87525939941406,\n",
      "                                 129.71600341796875,\n",
      "                                 149.01133728027344],\n",
      "                'precisions': [0.10526315789473684, 0.0, 0.0, 0.0],\n",
      "                'predictions': 'i will always be '\n",
      "                               'strong                                                  ',\n",
      "                'reference_length': 415,\n",
      "                'rouge1': AggregateScore(low=Score(precision=0.0, recall=0.0, fmeasure=0.0), mid=Score(precision=0.10526315789473684, recall=0.006604747162022704, fmeasure=0.012426900584795321), high=Score(precision=0.2631578947368421, recall=0.01671826625386997, fmeasure=0.031432748538011694)),\n",
      "                'rouge2': AggregateScore(low=Score(precision=0.0, recall=0.0, fmeasure=0.0), mid=Score(precision=0.0, recall=0.0, fmeasure=0.0), high=Score(precision=0.0, recall=0.0, fmeasure=0.0)),\n",
      "                'rougeL': AggregateScore(low=Score(precision=0.0, recall=0.0, fmeasure=0.0), mid=Score(precision=0.10526315789473684, recall=0.006604747162022704, fmeasure=0.012426900584795321), high=Score(precision=0.2631578947368421, recall=0.01671826625386997, fmeasure=0.031432748538011694)),\n",
      "                'rougeLsum': AggregateScore(low=Score(precision=0.0, recall=0.0, fmeasure=0.0), mid=Score(precision=0.10526315789473684, recall=0.006604747162022704, fmeasure=0.012426900584795321), high=Score(precision=0.2631578947368421, recall=0.0163157894736842, fmeasure=0.03072002923976606)),\n",
      "                'translation_length': 19},\n",
      "     'top_k': {'bleu': 0.0,\n",
      "               'brevity_penalty': 1.9555681087850496e-08,\n",
      "               'length_ratio': 0.05333333333333334,\n",
      "               'mean_perplexity': 147.135639667511,\n",
      "               'perplexities': [95.4772720336914,\n",
      "                                182.9801025390625,\n",
      "                                95.4772720336914,\n",
      "                                182.1228485107422,\n",
      "                                182.1228485107422,\n",
      "                                76.3486099243164,\n",
      "                                182.1228485107422,\n",
      "                                182.9801025390625,\n",
      "                                76.3486099243164,\n",
      "                                221.6112518310547,\n",
      "                                74.64607238769531,\n",
      "                                113.33948516845703,\n",
      "                                168.00082397460938,\n",
      "                                222.87525939941406,\n",
      "                                129.71600341796875,\n",
      "                                168.00082397460938],\n",
      "               'precisions': [0.0, 0.0, 0.0, 0.0],\n",
      "               'predictions': 'i will always be '\n",
      "                              'one                                                  ',\n",
      "               'reference_length': 300,\n",
      "               'rouge1': AggregateScore(low=Score(precision=0.0, recall=0.0, fmeasure=0.0), mid=Score(precision=0.0625, recall=0.004464285714285714, fmeasure=0.008333333333333333), high=Score(precision=0.1875, recall=0.013392857142857142, fmeasure=0.025)),\n",
      "               'rouge2': AggregateScore(low=Score(precision=0.0, recall=0.0, fmeasure=0.0), mid=Score(precision=0.0, recall=0.0, fmeasure=0.0), high=Score(precision=0.0, recall=0.0, fmeasure=0.0)),\n",
      "               'rougeL': AggregateScore(low=Score(precision=0.0, recall=0.0, fmeasure=0.0), mid=Score(precision=0.0625, recall=0.004464285714285714, fmeasure=0.008333333333333333), high=Score(precision=0.1875, recall=0.013392857142857142, fmeasure=0.025)),\n",
      "               'rougeLsum': AggregateScore(low=Score(precision=0.0, recall=0.0, fmeasure=0.0), mid=Score(precision=0.0625, recall=0.004464285714285714, fmeasure=0.008333333333333333), high=Score(precision=0.1875, recall=0.013392857142857142, fmeasure=0.025)),\n",
      "               'translation_length': 16},\n",
      "     'top_p': {'bleu': 0.0,\n",
      "               'brevity_penalty': 1.9769402262716178e-08,\n",
      "               'length_ratio': 0.05336426914153132,\n",
      "               'mean_perplexity': 144.31746905782947,\n",
      "               'perplexities': [95.4772720336914,\n",
      "                                182.9801025390625,\n",
      "                                95.4772720336914,\n",
      "                                182.1228485107422,\n",
      "                                182.1228485107422,\n",
      "                                76.3486099243164,\n",
      "                                182.1228485107422,\n",
      "                                182.9801025390625,\n",
      "                                76.3486099243164,\n",
      "                                221.6112518310547,\n",
      "                                74.64607238769531,\n",
      "                                113.33948516845703,\n",
      "                                168.00082397460938,\n",
      "                                74.64607238769531,\n",
      "                                133.0124969482422,\n",
      "                                202.60354614257812,\n",
      "                                221.11138916015625,\n",
      "                                149.01133728027344,\n",
      "                                149.01133728027344,\n",
      "                                182.1228485107422,\n",
      "                                95.4772720336914,\n",
      "                                129.71600341796875,\n",
      "                                149.01133728027344],\n",
      "               'precisions': [0.043478260869565216, 0.0, 0.0, 0.0],\n",
      "               'predictions': 'i will always be '\n",
      "                              'struggling                                                  ',\n",
      "               'reference_length': 431,\n",
      "               'rouge1': AggregateScore(low=Score(precision=0.0, recall=0.0, fmeasure=0.0), mid=Score(precision=0.043478260869565216, recall=0.0015527950310559005, fmeasure=0.002998500749625187), high=Score(precision=0.17391304347826086, recall=0.006211180124223602, fmeasure=0.011994002998500747)),\n",
      "               'rouge2': AggregateScore(low=Score(precision=0.0, recall=0.0, fmeasure=0.0), mid=Score(precision=0.0, recall=0.0, fmeasure=0.0), high=Score(precision=0.0, recall=0.0, fmeasure=0.0)),\n",
      "               'rougeL': AggregateScore(low=Score(precision=0.0, recall=0.0, fmeasure=0.0), mid=Score(precision=0.043478260869565216, recall=0.0015527950310559005, fmeasure=0.002998500749625187), high=Score(precision=0.13043478260869565, recall=0.004658385093167702, fmeasure=0.008995502248875561)),\n",
      "               'rougeLsum': AggregateScore(low=Score(precision=0.0, recall=0.0, fmeasure=0.0), mid=Score(precision=0.043478260869565216, recall=0.0015527950310559005, fmeasure=0.002998500749625187), high=Score(precision=0.13043478260869565, recall=0.004658385093167702, fmeasure=0.008995502248875561)),\n",
      "               'translation_length': 23}},\n",
      " 1: {'greedy': {'bleu': 0.0,\n",
      "                'brevity_penalty': 4.856940408500109e-09,\n",
      "                'length_ratio': 0.04964539007092199,\n",
      "                'mean_perplexity': 150.39436471121653,\n",
      "                'perplexities': [133.0124969482422,\n",
      "                                 129.0489044189453,\n",
      "                                 168.00082397460938,\n",
      "                                 222.87525939941406,\n",
      "                                 163.5333709716797,\n",
      "                                 163.5333709716797,\n",
      "                                 95.4772720336914,\n",
      "                                 123.41242218017578,\n",
      "                                 95.4772720336914,\n",
      "                                 76.3486099243164,\n",
      "                                 182.1228485107422,\n",
      "                                 74.64607238769531,\n",
      "                                 133.0124969482422,\n",
      "                                 202.60354614257812,\n",
      "                                 222.87525939941406,\n",
      "                                 129.71600341796875,\n",
      "                                 149.01133728027344,\n",
      "                                 168.00082397460938,\n",
      "                                 74.64607238769531,\n",
      "                                 133.0124969482422,\n",
      "                                 148.0518798828125,\n",
      "                                 202.60354614257812,\n",
      "                                 221.11138916015625,\n",
      "                                 149.01133728027344,\n",
      "                                 222.87525939941406,\n",
      "                                 163.5333709716797,\n",
      "                                 133.0124969482422,\n",
      "                                 129.0489044189453,\n",
      "                                 168.00082397460938,\n",
      "                                 129.71600341796875,\n",
      "                                 95.4772720336914,\n",
      "                                 149.01133728027344,\n",
      "                                 149.01133728027344,\n",
      "                                 76.3486099243164,\n",
      "                                 286.6224365234375],\n",
      "                'precisions': [0.02857142857142857, 0.0, 0.0, 0.0],\n",
      "                'predictions': 'the official strongest drug of the '\n",
      "                               'niggaz                                               ',\n",
      "                'reference_length': 705,\n",
      "                'rouge1': AggregateScore(low=Score(precision=0.0, recall=0.0, fmeasure=0.0), mid=Score(precision=0.08571428571428572, recall=0.005476190476190476, fmeasure=0.010294117647058823), high=Score(precision=0.17142857142857143, recall=0.01107142857142857, fmeasure=0.020798319327731095)),\n",
      "                'rouge2': AggregateScore(low=Score(precision=0.0, recall=0.0, fmeasure=0.0), mid=Score(precision=0.0, recall=0.0, fmeasure=0.0), high=Score(precision=0.0, recall=0.0, fmeasure=0.0)),\n",
      "                'rougeL': AggregateScore(low=Score(precision=0.0, recall=0.0, fmeasure=0.0), mid=Score(precision=0.08571428571428572, recall=0.005476190476190476, fmeasure=0.010294117647058823), high=Score(precision=0.2, recall=0.012619047619047618, fmeasure=0.02373949579831933)),\n",
      "                'rougeLsum': AggregateScore(low=Score(precision=0.0, recall=0.0, fmeasure=0.0), mid=Score(precision=0.08571428571428572, recall=0.005476190476190476, fmeasure=0.010294117647058823), high=Score(precision=0.17142857142857143, recall=0.01119047619047619, fmeasure=0.02100840336134454)),\n",
      "                'translation_length': 35},\n",
      "     'random': {'bleu': 0.0,\n",
      "                'brevity_penalty': 1.5647213718411162e-08,\n",
      "                'length_ratio': 0.05270655270655271,\n",
      "                'mean_perplexity': 148.82296381769953,\n",
      "                'perplexities': [133.0124969482422,\n",
      "                                 129.0489044189453,\n",
      "                                 168.00082397460938,\n",
      "                                 222.87525939941406,\n",
      "                                 163.5333709716797,\n",
      "                                 163.5333709716797,\n",
      "                                 95.4772720336914,\n",
      "                                 123.41242218017578,\n",
      "                                 95.4772720336914,\n",
      "                                 76.3486099243164,\n",
      "                                 182.1228485107422,\n",
      "                                 74.64607238769531,\n",
      "                                 133.0124969482422,\n",
      "                                 202.60354614257812,\n",
      "                                 222.87525939941406,\n",
      "                                 129.71600341796875,\n",
      "                                 149.01133728027344,\n",
      "                                 168.00082397460938,\n",
      "                                 74.64607238769531,\n",
      "                                 133.0124969482422,\n",
      "                                 148.0518798828125,\n",
      "                                 202.60354614257812,\n",
      "                                 221.11138916015625,\n",
      "                                 149.01133728027344,\n",
      "                                 222.87525939941406,\n",
      "                                 163.5333709716797,\n",
      "                                 133.0124969482422,\n",
      "                                 129.0489044189453,\n",
      "                                 168.00082397460938,\n",
      "                                 74.64607238769531,\n",
      "                                 168.00082397460938,\n",
      "                                 129.71600341796875,\n",
      "                                 95.4772720336914,\n",
      "                                 149.01133728027344,\n",
      "                                 149.01133728027344,\n",
      "                                 76.3486099243164,\n",
      "                                 286.6224365234375],\n",
      "                'precisions': [0.0, 0.0, 0.0, 0.0],\n",
      "                'predictions': 'the official strongest drug of these '\n",
      "                               'niggaz                                               ',\n",
      "                'reference_length': 702,\n",
      "                'rouge1': AggregateScore(low=Score(precision=0.0, recall=0.0, fmeasure=0.0), mid=Score(precision=0.0, recall=0.0, fmeasure=0.0), high=Score(precision=0.0, recall=0.0, fmeasure=0.0)),\n",
      "                'rouge2': AggregateScore(low=Score(precision=0.0, recall=0.0, fmeasure=0.0), mid=Score(precision=0.0, recall=0.0, fmeasure=0.0), high=Score(precision=0.0, recall=0.0, fmeasure=0.0)),\n",
      "                'rougeL': AggregateScore(low=Score(precision=0.0, recall=0.0, fmeasure=0.0), mid=Score(precision=0.0, recall=0.0, fmeasure=0.0), high=Score(precision=0.0, recall=0.0, fmeasure=0.0)),\n",
      "                'rougeLsum': AggregateScore(low=Score(precision=0.0, recall=0.0, fmeasure=0.0), mid=Score(precision=0.0, recall=0.0, fmeasure=0.0), high=Score(precision=0.0, recall=0.0, fmeasure=0.0)),\n",
      "                'translation_length': 37},\n",
      "     'top_k': {'bleu': 0.0,\n",
      "               'brevity_penalty': 2.4898094157333795e-08,\n",
      "               'length_ratio': 0.05402930402930403,\n",
      "               'mean_perplexity': 142.21156356294276,\n",
      "               'perplexities': [133.0124969482422,\n",
      "                                129.0489044189453,\n",
      "                                168.00082397460938,\n",
      "                                222.87525939941406,\n",
      "                                163.5333709716797,\n",
      "                                163.5333709716797,\n",
      "                                95.4772720336914,\n",
      "                                123.41242218017578,\n",
      "                                95.4772720336914,\n",
      "                                76.3486099243164,\n",
      "                                182.1228485107422,\n",
      "                                74.64607238769531,\n",
      "                                133.0124969482422,\n",
      "                                202.60354614257812,\n",
      "                                222.87525939941406,\n",
      "                                129.71600341796875,\n",
      "                                149.01133728027344,\n",
      "                                168.00082397460938,\n",
      "                                74.64607238769531,\n",
      "                                133.0124969482422,\n",
      "                                148.0518798828125,\n",
      "                                202.60354614257812,\n",
      "                                221.11138916015625,\n",
      "                                149.01133728027344,\n",
      "                                222.87525939941406,\n",
      "                                163.5333709716797,\n",
      "                                133.0124969482422,\n",
      "                                129.0489044189453,\n",
      "                                168.00082397460938,\n",
      "                                115.01592254638672,\n",
      "                                202.60354614257812,\n",
      "                                222.87525939941406,\n",
      "                                74.64607238769531,\n",
      "                                133.0124969482422,\n",
      "                                95.4772720336914,\n",
      "                                133.0124969482422,\n",
      "                                221.11138916015625,\n",
      "                                133.0124969482422,\n",
      "                                168.00082397460938,\n",
      "                                74.64607238769531,\n",
      "                                50.55441665649414,\n",
      "                                182.9801025390625,\n",
      "                                76.3486099243164,\n",
      "                                74.64607238769531,\n",
      "                                129.71600341796875,\n",
      "                                34.68067932128906,\n",
      "                                133.0124969482422,\n",
      "                                129.71600341796875,\n",
      "                                168.00082397460938,\n",
      "                                167.44911193847656,\n",
      "                                168.00082397460938,\n",
      "                                202.60354614257812,\n",
      "                                74.64607238769531,\n",
      "                                133.0124969482422,\n",
      "                                168.00082397460938,\n",
      "                                115.01592254638672,\n",
      "                                115.01592254638672,\n",
      "                                168.00082397460938,\n",
      "                                148.0518798828125],\n",
      "               'precisions': [0.0, 0.0, 0.0, 0.0],\n",
      "               'predictions': 'the official strongest drug of the prostitutes '\n",
      "                              \", wasn 't never \"\n",
      "                              'stepped                                          ',\n",
      "               'reference_length': 1092,\n",
      "               'rouge1': AggregateScore(low=Score(precision=0.0, recall=0.0, fmeasure=0.0), mid=Score(precision=0.01694915254237288, recall=0.00043459365493263795, fmeasure=0.0008474576271186442), high=Score(precision=0.05084745762711865, recall=0.0013037809647979141, fmeasure=0.0025423728813559325)),\n",
      "               'rouge2': AggregateScore(low=Score(precision=0.0, recall=0.0, fmeasure=0.0), mid=Score(precision=0.0, recall=0.0, fmeasure=0.0), high=Score(precision=0.0, recall=0.0, fmeasure=0.0)),\n",
      "               'rougeL': AggregateScore(low=Score(precision=0.0, recall=0.0, fmeasure=0.0), mid=Score(precision=0.01694915254237288, recall=0.00043459365493263795, fmeasure=0.0008474576271186442), high=Score(precision=0.05127118644067758, recall=0.0013146458061712202, fmeasure=0.002563559322033879)),\n",
      "               'rougeLsum': AggregateScore(low=Score(precision=0.0, recall=0.0, fmeasure=0.0), mid=Score(precision=0.01694915254237288, recall=0.00043459365493263795, fmeasure=0.0008474576271186442), high=Score(precision=0.06779661016949153, recall=0.0017383746197305518, fmeasure=0.0033898305084745766)),\n",
      "               'translation_length': 59},\n",
      "     'top_p': {'bleu': 0.0,\n",
      "               'brevity_penalty': 1.490936055997011e-08,\n",
      "               'length_ratio': 0.052572706935123045,\n",
      "               'mean_perplexity': 135.77808169101147,\n",
      "               'perplexities': [133.0124969482422,\n",
      "                                129.0489044189453,\n",
      "                                168.00082397460938,\n",
      "                                222.87525939941406,\n",
      "                                163.5333709716797,\n",
      "                                163.5333709716797,\n",
      "                                95.4772720336914,\n",
      "                                123.41242218017578,\n",
      "                                95.4772720336914,\n",
      "                                76.3486099243164,\n",
      "                                182.1228485107422,\n",
      "                                74.64607238769531,\n",
      "                                133.0124969482422,\n",
      "                                202.60354614257812,\n",
      "                                222.87525939941406,\n",
      "                                129.71600341796875,\n",
      "                                149.01133728027344,\n",
      "                                168.00082397460938,\n",
      "                                74.64607238769531,\n",
      "                                133.0124969482422,\n",
      "                                148.0518798828125,\n",
      "                                202.60354614257812,\n",
      "                                221.11138916015625,\n",
      "                                149.01133728027344,\n",
      "                                129.71600341796875,\n",
      "                                95.4772720336914,\n",
      "                                149.01133728027344,\n",
      "                                149.01133728027344,\n",
      "                                76.3486099243164,\n",
      "                                74.64607238769531,\n",
      "                                74.64607238769531,\n",
      "                                133.0124969482422,\n",
      "                                76.3486099243164,\n",
      "                                202.60354614257812,\n",
      "                                133.0124969482422,\n",
      "                                115.01592254638672,\n",
      "                                76.3486099243164,\n",
      "                                123.41242218017578,\n",
      "                                198.18617248535156,\n",
      "                                95.4772720336914,\n",
      "                                129.71600341796875,\n",
      "                                133.0124969482422,\n",
      "                                129.0489044189453,\n",
      "                                168.00082397460938,\n",
      "                                149.01133728027344,\n",
      "                                76.3486099243164,\n",
      "                                133.0124969482422],\n",
      "               'precisions': [0.0425531914893617, 0.0, 0.0, 0.0],\n",
      "               'predictions': 'the official strongest drug niggas start packin '\n",
      "                              'the '\n",
      "                              'gat                                             ',\n",
      "               'reference_length': 894,\n",
      "               'rouge1': AggregateScore(low=Score(precision=0.0, recall=0.0, fmeasure=0.0), mid=Score(precision=0.0425531914893617, recall=0.002148117839607201, fmeasure=0.004079173040374542), high=Score(precision=0.10638297872340426, recall=0.005626022913256956, fmeasure=0.010661474991888008)),\n",
      "               'rouge2': AggregateScore(low=Score(precision=0.0, recall=0.0, fmeasure=0.0), mid=Score(precision=0.0, recall=0.0, fmeasure=0.0), high=Score(precision=0.0, recall=0.0, fmeasure=0.0)),\n",
      "               'rougeL': AggregateScore(low=Score(precision=0.0, recall=0.0, fmeasure=0.0), mid=Score(precision=0.0425531914893617, recall=0.002148117839607201, fmeasure=0.004079173040374542), high=Score(precision=0.10638297872340426, recall=0.005938011456628474, fmeasure=0.011317387475084591)),\n",
      "               'rougeLsum': AggregateScore(low=Score(precision=0.0, recall=0.0, fmeasure=0.0), mid=Score(precision=0.0425531914893617, recall=0.002148117839607201, fmeasure=0.004079173040374542), high=Score(precision=0.10638297872340426, recall=0.005626022913256956, fmeasure=0.010661474991888008)),\n",
      "               'translation_length': 47}},\n",
      " 2: {'greedy': {'bleu': 0.0,\n",
      "                'brevity_penalty': 1.1825939415394759e-09,\n",
      "                'length_ratio': 0.04639175257731959,\n",
      "                'mean_perplexity': 135.61755526507343,\n",
      "                'perplexities': [53.79481887817383,\n",
      "                                 46.338260650634766,\n",
      "                                 47.5207633972168,\n",
      "                                 41.277313232421875,\n",
      "                                 166.50296020507812,\n",
      "                                 133.0124969482422,\n",
      "                                 129.0489044189453,\n",
      "                                 168.00082397460938,\n",
      "                                 123.41242218017578,\n",
      "                                 202.60354614257812,\n",
      "                                 168.00082397460938,\n",
      "                                 76.3486099243164,\n",
      "                                 133.0124969482422,\n",
      "                                 221.11138916015625,\n",
      "                                 202.60354614257812,\n",
      "                                 168.00082397460938,\n",
      "                                 182.9801025390625,\n",
      "                                 95.4772720336914,\n",
      "                                 182.1228485107422,\n",
      "                                 182.1228485107422,\n",
      "                                 113.33948516845703,\n",
      "                                 168.00082397460938,\n",
      "                                 129.0489044189453,\n",
      "                                 76.3486099243164,\n",
      "                                 115.01592254638672,\n",
      "                                 115.01592254638672,\n",
      "                                 221.6112518310547],\n",
      "                'precisions': [0.0, 0.0, 0.0, 0.0],\n",
      "                'predictions': '[UNK] the creature will be '\n",
      "                               'happy                                                 ',\n",
      "                'reference_length': 582,\n",
      "                'rouge1': AggregateScore(low=Score(precision=0.0, recall=0.0, fmeasure=0.0), mid=Score(precision=0.0, recall=0.0, fmeasure=0.0), high=Score(precision=0.0, recall=0.0, fmeasure=0.0)),\n",
      "                'rouge2': AggregateScore(low=Score(precision=0.0, recall=0.0, fmeasure=0.0), mid=Score(precision=0.0, recall=0.0, fmeasure=0.0), high=Score(precision=0.0, recall=0.0, fmeasure=0.0)),\n",
      "                'rougeL': AggregateScore(low=Score(precision=0.0, recall=0.0, fmeasure=0.0), mid=Score(precision=0.0, recall=0.0, fmeasure=0.0), high=Score(precision=0.0, recall=0.0, fmeasure=0.0)),\n",
      "                'rougeLsum': AggregateScore(low=Score(precision=0.0, recall=0.0, fmeasure=0.0), mid=Score(precision=0.0, recall=0.0, fmeasure=0.0), high=Score(precision=0.0, recall=0.0, fmeasure=0.0)),\n",
      "                'translation_length': 27},\n",
      "     'random': {'bleu': 0.0,\n",
      "                'brevity_penalty': 1.0326617855846869e-11,\n",
      "                'length_ratio': 0.038028169014084505,\n",
      "                'mean_perplexity': 124.44694434271918,\n",
      "                'perplexities': [53.79481887817383,\n",
      "                                 46.338260650634766,\n",
      "                                 47.5207633972168,\n",
      "                                 41.277313232421875,\n",
      "                                 166.50296020507812,\n",
      "                                 133.0124969482422,\n",
      "                                 129.0489044189453,\n",
      "                                 168.00082397460938,\n",
      "                                 123.41242218017578,\n",
      "                                 202.60354614257812,\n",
      "                                 168.00082397460938,\n",
      "                                 76.3486099243164,\n",
      "                                 133.0124969482422,\n",
      "                                 221.11138916015625,\n",
      "                                 202.60354614257812,\n",
      "                                 168.00082397460938,\n",
      "                                 182.9801025390625,\n",
      "                                 95.4772720336914,\n",
      "                                 182.1228485107422,\n",
      "                                 182.1228485107422,\n",
      "                                 113.33948516845703,\n",
      "                                 168.00082397460938,\n",
      "                                 53.79481887817383,\n",
      "                                 46.338260650634766,\n",
      "                                 47.5207633972168,\n",
      "                                 41.277313232421875,\n",
      "                                 166.50296020507812],\n",
      "                'precisions': [0.0, 0.0, 0.0, 0.0],\n",
      "                'predictions': '[UNK] the creature will be [UNK] '\n",
      "                               '.                                                ',\n",
      "                'reference_length': 710,\n",
      "                'rouge1': AggregateScore(low=Score(precision=0.0, recall=0.0, fmeasure=0.0), mid=Score(precision=0.0, recall=0.0, fmeasure=0.0), high=Score(precision=0.0, recall=0.0, fmeasure=0.0)),\n",
      "                'rouge2': AggregateScore(low=Score(precision=0.0, recall=0.0, fmeasure=0.0), mid=Score(precision=0.0, recall=0.0, fmeasure=0.0), high=Score(precision=0.0, recall=0.0, fmeasure=0.0)),\n",
      "                'rougeL': AggregateScore(low=Score(precision=0.0, recall=0.0, fmeasure=0.0), mid=Score(precision=0.0, recall=0.0, fmeasure=0.0), high=Score(precision=0.0, recall=0.0, fmeasure=0.0)),\n",
      "                'rougeLsum': AggregateScore(low=Score(precision=0.0, recall=0.0, fmeasure=0.0), mid=Score(precision=0.0, recall=0.0, fmeasure=0.0), high=Score(precision=0.0, recall=0.0, fmeasure=0.0)),\n",
      "                'translation_length': 27},\n",
      "     'top_k': {'bleu': 0.0,\n",
      "               'brevity_penalty': 1.2718941121105604e-09,\n",
      "               'length_ratio': 0.04654895666131621,\n",
      "               'mean_perplexity': 148.0632622817467,\n",
      "               'perplexities': [53.79481887817383,\n",
      "                                46.338260650634766,\n",
      "                                47.5207633972168,\n",
      "                                41.277313232421875,\n",
      "                                166.50296020507812,\n",
      "                                133.0124969482422,\n",
      "                                129.0489044189453,\n",
      "                                168.00082397460938,\n",
      "                                123.41242218017578,\n",
      "                                202.60354614257812,\n",
      "                                168.00082397460938,\n",
      "                                76.3486099243164,\n",
      "                                133.0124969482422,\n",
      "                                221.11138916015625,\n",
      "                                202.60354614257812,\n",
      "                                168.00082397460938,\n",
      "                                182.9801025390625,\n",
      "                                95.4772720336914,\n",
      "                                182.1228485107422,\n",
      "                                182.1228485107422,\n",
      "                                182.1228485107422,\n",
      "                                168.00082397460938,\n",
      "                                133.0124969482422,\n",
      "                                221.11138916015625,\n",
      "                                198.18617248535156,\n",
      "                                129.71600341796875,\n",
      "                                222.87525939941406,\n",
      "                                182.9801025390625,\n",
      "                                132.53643798828125],\n",
      "               'precisions': [0.034482758620689655, 0.0, 0.0, 0.0],\n",
      "               'predictions': '[UNK] the creature will let u know '\n",
      "                              '?                                               ',\n",
      "               'reference_length': 623,\n",
      "               'rouge1': AggregateScore(low=Score(precision=0.0, recall=0.0, fmeasure=0.0), mid=Score(precision=0.034482758620689655, recall=0.0013262599469496023, fmeasure=0.0025542784163473816), high=Score(precision=0.10344827586206896, recall=0.003978779840848806, fmeasure=0.007662835249042145)),\n",
      "               'rouge2': AggregateScore(low=Score(precision=0.0, recall=0.0, fmeasure=0.0), mid=Score(precision=0.0, recall=0.0, fmeasure=0.0), high=Score(precision=0.0, recall=0.0, fmeasure=0.0)),\n",
      "               'rougeL': AggregateScore(low=Score(precision=0.0, recall=0.0, fmeasure=0.0), mid=Score(precision=0.034482758620689655, recall=0.0013262599469496023, fmeasure=0.0025542784163473816), high=Score(precision=0.10344827586206896, recall=0.003978779840848806, fmeasure=0.007662835249042145)),\n",
      "               'rougeLsum': AggregateScore(low=Score(precision=0.0, recall=0.0, fmeasure=0.0), mid=Score(precision=0.034482758620689655, recall=0.0013262599469496023, fmeasure=0.0025542784163473816), high=Score(precision=0.10344827586206896, recall=0.003978779840848806, fmeasure=0.007662835249042145)),\n",
      "               'translation_length': 29},\n",
      "     'top_p': {'bleu': 0.0,\n",
      "               'brevity_penalty': 2.663593346608093e-09,\n",
      "               'length_ratio': 0.048207663782447466,\n",
      "               'mean_perplexity': 142.14801680736053,\n",
      "               'perplexities': [53.79481887817383,\n",
      "                                46.338260650634766,\n",
      "                                47.5207633972168,\n",
      "                                41.277313232421875,\n",
      "                                166.50296020507812,\n",
      "                                133.0124969482422,\n",
      "                                129.0489044189453,\n",
      "                                168.00082397460938,\n",
      "                                123.41242218017578,\n",
      "                                202.60354614257812,\n",
      "                                168.00082397460938,\n",
      "                                76.3486099243164,\n",
      "                                133.0124969482422,\n",
      "                                221.11138916015625,\n",
      "                                202.60354614257812,\n",
      "                                168.00082397460938,\n",
      "                                182.9801025390625,\n",
      "                                95.4772720336914,\n",
      "                                182.1228485107422,\n",
      "                                182.1228485107422,\n",
      "                                152.21267700195312,\n",
      "                                76.3486099243164,\n",
      "                                198.18617248535156,\n",
      "                                168.00082397460938,\n",
      "                                221.6112518310547,\n",
      "                                222.87525939941406,\n",
      "                                221.11138916015625,\n",
      "                                123.41242218017578,\n",
      "                                76.3486099243164,\n",
      "                                182.1228485107422,\n",
      "                                182.1228485107422,\n",
      "                                152.21267700195312,\n",
      "                                168.00082397460938,\n",
      "                                76.3486099243164,\n",
      "                                129.71600341796875,\n",
      "                                95.4772720336914,\n",
      "                                149.01133728027344,\n",
      "                                149.01133728027344,\n",
      "                                76.3486099243164],\n",
      "               'precisions': [0.02564102564102564, 0.0, 0.0, 0.0],\n",
      "               'predictions': '[UNK] the creature will make you call me a '\n",
      "                              'nigga                                             ',\n",
      "               'reference_length': 809,\n",
      "               'rouge1': AggregateScore(low=Score(precision=0.0, recall=0.0, fmeasure=0.0), mid=Score(precision=0.02564102564102564, recall=0.002331002331002331, fmeasure=0.004273504273504274), high=Score(precision=0.07692307692307693, recall=0.006993006993006992, fmeasure=0.01282051282051282)),\n",
      "               'rouge2': AggregateScore(low=Score(precision=0.0, recall=0.0, fmeasure=0.0), mid=Score(precision=0.0, recall=0.0, fmeasure=0.0), high=Score(precision=0.0, recall=0.0, fmeasure=0.0)),\n",
      "               'rougeL': AggregateScore(low=Score(precision=0.0, recall=0.0, fmeasure=0.0), mid=Score(precision=0.02564102564102564, recall=0.002331002331002331, fmeasure=0.004273504273504274), high=Score(precision=0.07692307692307693, recall=0.006993006993006992, fmeasure=0.01282051282051282)),\n",
      "               'rougeLsum': AggregateScore(low=Score(precision=0.0, recall=0.0, fmeasure=0.0), mid=Score(precision=0.02564102564102564, recall=0.002331002331002331, fmeasure=0.004273504273504274), high=Score(precision=0.07692307692307693, recall=0.006993006993006992, fmeasure=0.01282051282051282)),\n",
      "               'translation_length': 39}},\n",
      " 3: {'greedy': {'bleu': 0.0,\n",
      "                'brevity_penalty': 2.355088202009927e-08,\n",
      "                'length_ratio': 0.05386740331491713,\n",
      "                'mean_perplexity': 133.34640405116937,\n",
      "                'perplexities': [76.3486099243164,\n",
      "                                 123.41242218017578,\n",
      "                                 123.41242218017578,\n",
      "                                 222.87525939941406,\n",
      "                                 202.60354614257812,\n",
      "                                 148.0518798828125,\n",
      "                                 95.4772720336914,\n",
      "                                 129.71600341796875,\n",
      "                                 149.01133728027344,\n",
      "                                 133.0124969482422,\n",
      "                                 222.87525939941406,\n",
      "                                 133.0124969482422,\n",
      "                                 129.0489044189453,\n",
      "                                 168.00082397460938,\n",
      "                                 53.79481887817383,\n",
      "                                 46.338260650634766,\n",
      "                                 47.5207633972168,\n",
      "                                 41.277313232421875,\n",
      "                                 166.50296020507812,\n",
      "                                 50.55441665649414,\n",
      "                                 95.4772720336914,\n",
      "                                 34.68067932128906,\n",
      "                                 182.1228485107422,\n",
      "                                 182.1228485107422,\n",
      "                                 113.33948516845703,\n",
      "                                 168.00082397460938,\n",
      "                                 76.3486099243164,\n",
      "                                 123.41242218017578,\n",
      "                                 202.60354614257812,\n",
      "                                 222.87525939941406,\n",
      "                                 222.87525939941406,\n",
      "                                 198.18617248535156,\n",
      "                                 168.00082397460938,\n",
      "                                 148.0518798828125,\n",
      "                                 129.71600341796875,\n",
      "                                 95.4772720336914,\n",
      "                                 149.01133728027344,\n",
      "                                 149.01133728027344,\n",
      "                                 76.3486099243164],\n",
      "                'precisions': [0.0, 0.0, 0.0, 0.0],\n",
      "                'predictions': \"according to the [UNK] , i 'll be a crooked \"\n",
      "                               'nigga                                            ',\n",
      "                'reference_length': 724,\n",
      "                'rouge1': AggregateScore(low=Score(precision=0.0, recall=0.0, fmeasure=0.0), mid=Score(precision=0.0, recall=0.0, fmeasure=0.0), high=Score(precision=0.0, recall=0.0, fmeasure=0.0)),\n",
      "                'rouge2': AggregateScore(low=Score(precision=0.0, recall=0.0, fmeasure=0.0), mid=Score(precision=0.0, recall=0.0, fmeasure=0.0), high=Score(precision=0.0, recall=0.0, fmeasure=0.0)),\n",
      "                'rougeL': AggregateScore(low=Score(precision=0.0, recall=0.0, fmeasure=0.0), mid=Score(precision=0.0, recall=0.0, fmeasure=0.0), high=Score(precision=0.0, recall=0.0, fmeasure=0.0)),\n",
      "                'rougeLsum': AggregateScore(low=Score(precision=0.0, recall=0.0, fmeasure=0.0), mid=Score(precision=0.0, recall=0.0, fmeasure=0.0), high=Score(precision=0.0, recall=0.0, fmeasure=0.0)),\n",
      "                'translation_length': 39},\n",
      "     'random': {'bleu': 0.0,\n",
      "                'brevity_penalty': 1.3915367250993724e-09,\n",
      "                'length_ratio': 0.04674457429048414,\n",
      "                'mean_perplexity': 134.79775551387243,\n",
      "                'perplexities': [76.3486099243164,\n",
      "                                 123.41242218017578,\n",
      "                                 123.41242218017578,\n",
      "                                 222.87525939941406,\n",
      "                                 202.60354614257812,\n",
      "                                 148.0518798828125,\n",
      "                                 95.4772720336914,\n",
      "                                 129.71600341796875,\n",
      "                                 149.01133728027344,\n",
      "                                 133.0124969482422,\n",
      "                                 222.87525939941406,\n",
      "                                 133.0124969482422,\n",
      "                                 129.0489044189453,\n",
      "                                 168.00082397460938,\n",
      "                                 53.79481887817383,\n",
      "                                 46.338260650634766,\n",
      "                                 47.5207633972168,\n",
      "                                 41.277313232421875,\n",
      "                                 166.50296020507812,\n",
      "                                 222.87525939941406,\n",
      "                                 163.5333709716797,\n",
      "                                 133.0124969482422,\n",
      "                                 129.0489044189453,\n",
      "                                 168.00082397460938,\n",
      "                                 149.01133728027344,\n",
      "                                 76.3486099243164,\n",
      "                                 152.21267700195312,\n",
      "                                 168.00082397460938],\n",
      "                'precisions': [0.0, 0.0, 0.0, 0.0],\n",
      "                'predictions': 'according to the [UNK] of the '\n",
      "                               'game                                                ',\n",
      "                'reference_length': 599,\n",
      "                'rouge1': AggregateScore(low=Score(precision=0.0, recall=0.0, fmeasure=0.0), mid=Score(precision=0.03571428571428571, recall=0.017857142857142856, fmeasure=0.023809523809523808), high=Score(precision=0.10714285714285714, recall=0.05357142857142857, fmeasure=0.07142857142857142)),\n",
      "                'rouge2': AggregateScore(low=Score(precision=0.0, recall=0.0, fmeasure=0.0), mid=Score(precision=0.0, recall=0.0, fmeasure=0.0), high=Score(precision=0.0, recall=0.0, fmeasure=0.0)),\n",
      "                'rougeL': AggregateScore(low=Score(precision=0.0, recall=0.0, fmeasure=0.0), mid=Score(precision=0.03571428571428571, recall=0.017857142857142856, fmeasure=0.023809523809523808), high=Score(precision=0.10714285714285714, recall=0.05357142857142857, fmeasure=0.07142857142857142)),\n",
      "                'rougeLsum': AggregateScore(low=Score(precision=0.0, recall=0.0, fmeasure=0.0), mid=Score(precision=0.03571428571428571, recall=0.017857142857142856, fmeasure=0.023809523809523808), high=Score(precision=0.10714285714285714, recall=0.05357142857142857, fmeasure=0.07142857142857142)),\n",
      "                'translation_length': 28},\n",
      "     'top_k': {'bleu': 0.0,\n",
      "               'brevity_penalty': 1.219521442725679e-08,\n",
      "               'length_ratio': 0.05202312138728324,\n",
      "               'mean_perplexity': 127.79506958855524,\n",
      "               'perplexities': [76.3486099243164,\n",
      "                                123.41242218017578,\n",
      "                                123.41242218017578,\n",
      "                                222.87525939941406,\n",
      "                                202.60354614257812,\n",
      "                                148.0518798828125,\n",
      "                                95.4772720336914,\n",
      "                                129.71600341796875,\n",
      "                                149.01133728027344,\n",
      "                                133.0124969482422,\n",
      "                                222.87525939941406,\n",
      "                                133.0124969482422,\n",
      "                                129.0489044189453,\n",
      "                                168.00082397460938,\n",
      "                                53.79481887817383,\n",
      "                                46.338260650634766,\n",
      "                                47.5207633972168,\n",
      "                                41.277313232421875,\n",
      "                                166.50296020507812,\n",
      "                                95.4772720336914,\n",
      "                                149.01133728027344,\n",
      "                                222.87525939941406,\n",
      "                                133.0124969482422,\n",
      "                                76.3486099243164,\n",
      "                                115.01592254638672,\n",
      "                                202.60354614257812,\n",
      "                                222.87525939941406,\n",
      "                                113.33948516845703,\n",
      "                                182.1228485107422,\n",
      "                                168.00082397460938,\n",
      "                                152.21267700195312,\n",
      "                                53.79481887817383,\n",
      "                                46.338260650634766,\n",
      "                                47.5207633972168,\n",
      "                                41.277313232421875,\n",
      "                                166.50296020507812],\n",
      "               'precisions': [0.0, 0.0, 0.0, 0.0],\n",
      "               'predictions': 'according to the [UNK] i got a problem '\n",
      "                              '[UNK]                                              ',\n",
      "               'reference_length': 692,\n",
      "               'rouge1': AggregateScore(low=Score(precision=0.0, recall=0.0, fmeasure=0.0), mid=Score(precision=0.0, recall=0.0, fmeasure=0.0), high=Score(precision=0.0, recall=0.0, fmeasure=0.0)),\n",
      "               'rouge2': AggregateScore(low=Score(precision=0.0, recall=0.0, fmeasure=0.0), mid=Score(precision=0.0, recall=0.0, fmeasure=0.0), high=Score(precision=0.0, recall=0.0, fmeasure=0.0)),\n",
      "               'rougeL': AggregateScore(low=Score(precision=0.0, recall=0.0, fmeasure=0.0), mid=Score(precision=0.0, recall=0.0, fmeasure=0.0), high=Score(precision=0.0, recall=0.0, fmeasure=0.0)),\n",
      "               'rougeLsum': AggregateScore(low=Score(precision=0.0, recall=0.0, fmeasure=0.0), mid=Score(precision=0.0, recall=0.0, fmeasure=0.0), high=Score(precision=0.0, recall=0.0, fmeasure=0.0)),\n",
      "               'translation_length': 36},\n",
      "     'top_p': {'bleu': 0.0,\n",
      "               'brevity_penalty': 3.817426177997611e-10,\n",
      "               'length_ratio': 0.04407951598962835,\n",
      "               'mean_perplexity': 144.18007315841376,\n",
      "               'perplexities': [76.3486099243164,\n",
      "                                123.41242218017578,\n",
      "                                123.41242218017578,\n",
      "                                222.87525939941406,\n",
      "                                202.60354614257812,\n",
      "                                148.0518798828125,\n",
      "                                95.4772720336914,\n",
      "                                129.71600341796875,\n",
      "                                149.01133728027344,\n",
      "                                133.0124969482422,\n",
      "                                222.87525939941406,\n",
      "                                133.0124969482422,\n",
      "                                129.0489044189453,\n",
      "                                168.00082397460938,\n",
      "                                53.79481887817383,\n",
      "                                46.338260650634766,\n",
      "                                47.5207633972168,\n",
      "                                41.277313232421875,\n",
      "                                166.50296020507812,\n",
      "                                50.55441665649414,\n",
      "                                133.0124969482422,\n",
      "                                222.87525939941406,\n",
      "                                168.00082397460938,\n",
      "                                133.0124969482422,\n",
      "                                168.00082397460938,\n",
      "                                202.60354614257812,\n",
      "                                129.71600341796875,\n",
      "                                76.3486099243164,\n",
      "                                182.1228485107422,\n",
      "                                148.0518798828125,\n",
      "                                76.3486099243164,\n",
      "                                221.6112518310547,\n",
      "                                95.4772720336914,\n",
      "                                123.41242218017578,\n",
      "                                76.3486099243164,\n",
      "                                152.21267700195312,\n",
      "                                168.00082397460938,\n",
      "                                133.0124969482422,\n",
      "                                129.0489044189453,\n",
      "                                202.60354614257812,\n",
      "                                222.87525939941406,\n",
      "                                221.11138916015625,\n",
      "                                149.01133728027344,\n",
      "                                129.0489044189453,\n",
      "                                133.0124969482422,\n",
      "                                129.0489044189453,\n",
      "                                168.00082397460938,\n",
      "                                148.0518798828125,\n",
      "                                222.87525939941406,\n",
      "                                222.87525939941406,\n",
      "                                202.60354614257812],\n",
      "               'precisions': [0.0196078431372549, 0.0, 0.0, 0.0],\n",
      "               'predictions': 'according to the [UNK] , to eternal day i came '\n",
      "                              'through the '\n",
      "                              'door                                          ',\n",
      "               'reference_length': 1157,\n",
      "               'rouge1': AggregateScore(low=Score(precision=0.0, recall=0.0, fmeasure=0.0), mid=Score(precision=0.0196078431372549, recall=0.001633986928104575, fmeasure=0.0030165912518853697), high=Score(precision=0.058823529411764705, recall=0.004901960784313725, fmeasure=0.00904977375565611)),\n",
      "               'rouge2': AggregateScore(low=Score(precision=0.0, recall=0.0, fmeasure=0.0), mid=Score(precision=0.0, recall=0.0, fmeasure=0.0), high=Score(precision=0.0, recall=0.0, fmeasure=0.0)),\n",
      "               'rougeL': AggregateScore(low=Score(precision=0.0, recall=0.0, fmeasure=0.0), mid=Score(precision=0.0196078431372549, recall=0.001633986928104575, fmeasure=0.0030165912518853697), high=Score(precision=0.058823529411764705, recall=0.004901960784313725, fmeasure=0.00904977375565611)),\n",
      "               'rougeLsum': AggregateScore(low=Score(precision=0.0, recall=0.0, fmeasure=0.0), mid=Score(precision=0.0196078431372549, recall=0.001633986928104575, fmeasure=0.0030165912518853697), high=Score(precision=0.058823529411764705, recall=0.004901960784313725, fmeasure=0.00904977375565611)),\n",
      "               'translation_length': 51}}}\n"
     ]
    }
   ],
   "source": [
    "pprint(metrics)"
   ],
   "metadata": {
    "collapsed": false,
    "pycharm": {
     "name": "#%%\n"
    }
   }
  },
  {
   "cell_type": "code",
   "execution_count": null,
   "outputs": [],
   "source": [],
   "metadata": {
    "collapsed": false,
    "pycharm": {
     "name": "#%%\n"
    }
   }
  }
 ],
 "metadata": {
  "kernelspec": {
   "display_name": "Python 3",
   "language": "python",
   "name": "python3"
  },
  "language_info": {
   "codemirror_mode": {
    "name": "ipython",
    "version": 2
   },
   "file_extension": ".py",
   "mimetype": "text/x-python",
   "name": "python",
   "nbconvert_exporter": "python",
   "pygments_lexer": "ipython2",
   "version": "2.7.6"
  }
 },
 "nbformat": 4,
 "nbformat_minor": 0
}