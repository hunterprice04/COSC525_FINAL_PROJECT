{
 "cells": [
  {
   "cell_type": "markdown",
   "metadata": {
    "pycharm": {
     "name": "#%% md\n"
    }
   },
   "source": [
    "# Testing Hyperparameters"
   ]
  },
  {
   "cell_type": "code",
   "execution_count": 4,
   "metadata": {
    "collapsed": false,
    "jupyter": {
     "outputs_hidden": false
    },
    "pycharm": {
     "name": "#%%\n"
    }
   },
   "outputs": [
    {
     "name": "stdout",
     "output_type": "stream",
     "text": [
      "The autoreload extension is already loaded. To reload it, use:\n",
      "  %reload_ext autoreload\n"
     ]
    }
   ],
   "source": [
    "%load_ext autoreload\n",
    "%autoreload 2\n",
    "import os\n",
    "from src.Utils import Utils\n",
    "from src import LSTM, RNN, Config, TextDataset, Sampling, TextGeneration\n",
    "import tensorflow as tf\n",
    "\n",
    "Utils.tensorflow_shutup()\n",
    "tf.keras.utils.set_random_seed(0)"
   ]
  },
  {
   "cell_type": "markdown",
   "metadata": {
    "pycharm": {
     "name": "#%% md\n"
    }
   },
   "source": [
    "## Reading TextDataset"
   ]
  },
  {
   "cell_type": "code",
   "execution_count": null,
   "metadata": {
    "collapsed": false,
    "jupyter": {
     "outputs_hidden": false
    },
    "pycharm": {
     "name": "#%%\n"
    }
   },
   "outputs": [
    {
     "name": "stdout",
     "output_type": "stream",
     "text": [
      "DataConfig(WINDOW_SIZE=25, STRIDE=3, DATA_PATH='data/beatles1000.txt', BUFFER_SIZE=10000, VOCAB_SIZE=0)\n",
      "TrainingConfig(HIDDEN_STATE_SIZE=[100], BATCH_SIZE=1000, EPOCHS=50, SAMPLING_TEMP=0.75)\n"
     ]
    }
   ],
   "source": [
    "config = {\n",
    "    \"DATA\": {\n",
    "        \"WINDOW_SIZE\": 25,\n",
    "        \"STRIDE\": 3,\n",
    "        \"DATA_PATH\": os.path.join(\"data\", \"beatles1000.txt\"),\n",
    "    },\n",
    "    \"TRAINING\": {\n",
    "        \"HIDDEN_STATE_SIZE\": [100],\n",
    "        \"BATCH_SIZE\": 1000,\n",
    "        \"EPOCHS\": 50,\n",
    "        \"SAMPLING_TEMP\": 0.75,\n",
    "        \"BUFFER_SIZE\": 10000,\n",
    "    },\n",
    "}\n",
    "config = Config(**config)\n",
    "# data = TextDataset(config, verbosity=1).read()"
   ]
  },
  {
   "cell_type": "markdown",
   "metadata": {
    "pycharm": {
     "name": "#%% md\n"
    }
   },
   "source": [
    "## Best Window Size: 75"
   ]
  },
  {
   "cell_type": "code",
   "execution_count": 14,
   "metadata": {
    "collapsed": false,
    "jupyter": {
     "outputs_hidden": false
    },
    "pycharm": {
     "name": "#%%\n"
    }
   },
   "outputs": [
    {
     "name": "stdout",
     "output_type": "stream",
     "text": [
      "====================================================================================================\n",
      "# BEST_ACC = 0\tBEST_WS = None\n",
      "====================================================================================================\n",
      "# [TextDataset - init]:\tfile_name=data/beatles1000.txt\twindow_size=10\tstride=3\n",
      "\t33374 total chars in text\n",
      "# [Embeddings - init]:\tlabel=beatles1000\tencoding=utf-8\n",
      "# [TextGeneration - init]:\tmodel_func=get_LSTM\n",
      "# [TextGeneration - train]:\n"
     ]
    },
    {
     "name": "stderr",
     "output_type": "stream",
     "text": [
      "100%|██████████| 50/50 [00:46<00:00,  1.07it/s, loss=2.25, acc=0.355, gen=b'o?\\nond,\\nsou song bis in\\xe2\\x80\\x99t ']\n"
     ]
    },
    {
     "name": "stdout",
     "output_type": "stream",
     "text": [
      "====================================================================================================\n",
      "# BEST_ACC = 0.35504546761512756\tBEST_WS = 10\n",
      "====================================================================================================\n",
      "# [TextDataset - init]:\tfile_name=data/beatles1000.txt\twindow_size=25\tstride=3\n",
      "\t33374 total chars in text\n",
      "# [Embeddings - init]:\tlabel=beatles1000\tencoding=utf-8\n",
      "# [TextGeneration - init]:\tmodel_func=get_LSTM\n",
      "# [TextGeneration - train]:\n"
     ]
    },
    {
     "name": "stderr",
     "output_type": "stream",
     "text": [
      "100%|██████████| 50/50 [00:58<00:00,  1.17s/it, loss=2.13, acc=0.387, gen=b'u cale gott ingiml\\nyou she']\n"
     ]
    },
    {
     "name": "stdout",
     "output_type": "stream",
     "text": [
      "====================================================================================================\n",
      "# BEST_ACC = 0.386680006980896\tBEST_WS = 25\n",
      "====================================================================================================\n",
      "# [TextDataset - init]:\tfile_name=data/beatles1000.txt\twindow_size=50\tstride=3\n",
      "\t33374 total chars in text\n",
      "# [Embeddings - init]:\tlabel=beatles1000\tencoding=utf-8\n",
      "# [TextGeneration - init]:\tmodel_func=get_LSTM\n",
      "# [TextGeneration - train]:\n"
     ]
    },
    {
     "name": "stderr",
     "output_type": "stream",
     "text": [
      "100%|██████████| 50/50 [01:05<00:00,  1.31s/it, loss=2.07, acc=0.406, gen=b' seve you mant ho the meve']  \n"
     ]
    },
    {
     "name": "stdout",
     "output_type": "stream",
     "text": [
      "====================================================================================================\n",
      "# BEST_ACC = 0.4056636393070221\tBEST_WS = 50\n",
      "====================================================================================================\n",
      "# [TextDataset - init]:\tfile_name=data/beatles1000.txt\twindow_size=75\tstride=3\n",
      "\t33374 total chars in text\n",
      "# [Embeddings - init]:\tlabel=beatles1000\tencoding=utf-8\n",
      "# [TextGeneration - init]:\tmodel_func=get_LSTM\n",
      "# [TextGeneration - train]:\n"
     ]
    },
    {
     "name": "stderr",
     "output_type": "stream",
     "text": [
      "100%|██████████| 50/50 [01:17<00:00,  1.54s/it, loss=2.03, acc=0.415, gen=b'me.\\nwally will the me\\nbone'] \n"
     ]
    },
    {
     "name": "stdout",
     "output_type": "stream",
     "text": [
      "====================================================================================================\n",
      "# BEST_ACC = 0.4145781695842743\tBEST_WS = 75\n",
      "====================================================================================================\n",
      "# [TextDataset - init]:\tfile_name=data/beatles1000.txt\twindow_size=100\tstride=3\n",
      "\t33374 total chars in text\n",
      "# [Embeddings - init]:\tlabel=beatles1000\tencoding=utf-8\n",
      "# [TextGeneration - init]:\tmodel_func=get_LSTM\n",
      "# [TextGeneration - train]:\n"
     ]
    },
    {
     "name": "stderr",
     "output_type": "stream",
     "text": [
      "100%|██████████| 50/50 [01:32<00:00,  1.84s/it, loss=2.03, acc=0.414, gen=b'\\nshe round bote hea ther g']       "
     ]
    },
    {
     "name": "stdout",
     "output_type": "stream",
     "text": [
      "====================================================================================================\n",
      "# BEST_ACC = 0.4145781695842743\tBEST_WS = 75\n",
      "====================================================================================================\n"
     ]
    },
    {
     "name": "stderr",
     "output_type": "stream",
     "text": [
      "\n"
     ]
    }
   ],
   "source": [
    "best_acc, best_ws = 0, None\n",
    "for ws in [10, 25, 50, 75, 100]:\n",
    "    config.DATA.WINDOW_SIZE = ws\n",
    "    data = TextDataset(config, verbosity=1).read()\n",
    "    model = TextGeneration(config, LSTM.get_LSTM)\n",
    "    history = model.train(data, config)\n",
    "    acc = history.history[\"acc\"][-1]\n",
    "    if acc > best_acc:\n",
    "        best_acc, best_ws = acc, ws\n",
    "    print(\"=\" * 100)\n",
    "    print(f\"# BEST_ACC = {best_acc}\\tBEST_WS = {best_ws}\")\n",
    "    print(\"=\" * 100)\n",
    "config.DATA.WINDOW_SIZE = best_ws"
   ]
  },
  {
   "cell_type": "markdown",
   "metadata": {
    "pycharm": {
     "name": "#%% md\n"
    }
   },
   "source": [
    "## Best Stride: 3"
   ]
  },
  {
   "cell_type": "code",
   "execution_count": 15,
   "metadata": {
    "pycharm": {
     "name": "#%%\n"
    }
   },
   "outputs": [
    {
     "name": "stdout",
     "output_type": "stream",
     "text": [
      "====================================================================================================\n",
      "# BEST_ACC = 0\tBEST_ST = None\n",
      "====================================================================================================\n",
      "# [TextDataset - init]:\tfile_name=data/beatles1000.txt\twindow_size=75\tstride=3\n",
      "\t33374 total chars in text\n",
      "# [Embeddings - init]:\tlabel=beatles1000\tencoding=utf-8\n",
      "# [TextGeneration - init]:\tmodel_func=get_LSTM\n",
      "# [TextGeneration - train]:\n"
     ]
    },
    {
     "name": "stderr",
     "output_type": "stream",
     "text": [
      "100%|██████████| 50/50 [01:18<00:00,  1.58s/it, loss=2.05, acc=0.41, gen=b\"onla te light fry i'my wal\"]  \n"
     ]
    },
    {
     "name": "stdout",
     "output_type": "stream",
     "text": [
      "====================================================================================================\n",
      "# BEST_ACC = 0.4097381830215454\tBEST_ST = 3\n",
      "====================================================================================================\n",
      "# [TextDataset - init]:\tfile_name=data/beatles1000.txt\twindow_size=75\tstride=5\n",
      "\t33374 total chars in text\n",
      "# [Embeddings - init]:\tlabel=beatles1000\tencoding=utf-8\n",
      "# [TextGeneration - init]:\tmodel_func=get_LSTM\n",
      "# [TextGeneration - train]:\n"
     ]
    },
    {
     "name": "stderr",
     "output_type": "stream",
     "text": [
      "100%|██████████| 50/50 [00:52<00:00,  1.06s/it, loss=2.34, acc=0.335, gen=b'ss awin with thos yonghey ']   \n"
     ]
    },
    {
     "name": "stdout",
     "output_type": "stream",
     "text": [
      "====================================================================================================\n",
      "# BEST_ACC = 0.4097381830215454\tBEST_ST = 3\n",
      "====================================================================================================\n",
      "# [TextDataset - init]:\tfile_name=data/beatles1000.txt\twindow_size=75\tstride=8\n",
      "\t33374 total chars in text\n",
      "# [Embeddings - init]:\tlabel=beatles1000\tencoding=utf-8\n",
      "# [TextGeneration - init]:\tmodel_func=get_LSTM\n",
      "# [TextGeneration - train]:\n"
     ]
    },
    {
     "name": "stderr",
     "output_type": "stream",
     "text": [
      "100%|██████████| 50/50 [00:38<00:00,  1.29it/s, loss=2.59, acc=0.28, gen=b' boun yorngt wii len shahi']     \n"
     ]
    },
    {
     "name": "stdout",
     "output_type": "stream",
     "text": [
      "====================================================================================================\n",
      "# BEST_ACC = 0.4097381830215454\tBEST_ST = 3\n",
      "====================================================================================================\n",
      "# [TextDataset - init]:\tfile_name=data/beatles1000.txt\twindow_size=75\tstride=10\n",
      "\t33374 total chars in text\n",
      "# [Embeddings - init]:\tlabel=beatles1000\tencoding=utf-8\n",
      "# [TextGeneration - init]:\tmodel_func=get_LSTM\n",
      "# [TextGeneration - train]:\n"
     ]
    },
    {
     "name": "stderr",
     "output_type": "stream",
     "text": [
      "100%|██████████| 50/50 [00:32<00:00,  1.54it/s, loss=2.78, acc=0.239, gen=b' te ,t cahhl  wyee  ehog i']                                   "
     ]
    },
    {
     "name": "stdout",
     "output_type": "stream",
     "text": [
      "====================================================================================================\n",
      "# BEST_ACC = 0.4097381830215454\tBEST_ST = 3\n",
      "====================================================================================================\n"
     ]
    },
    {
     "name": "stderr",
     "output_type": "stream",
     "text": [
      "\n"
     ]
    }
   ],
   "source": [
    "best_acc, best_st = 0, None\n",
    "for st in [2, 3, 5, 8]:\n",
    "    config.DATA.STRIDE = st\n",
    "    data = TextDataset(config, verbosity=1).read()\n",
    "    model = TextGeneration(config, LSTM.get_LSTM)\n",
    "    history = model.train(data, config)\n",
    "    acc = history.history[\"acc\"][-1]\n",
    "    if acc > best_acc:\n",
    "        best_acc, best_st = acc, st\n",
    "    print(\"=\" * 100)\n",
    "    print(f\"# BEST_ACC = {best_acc}\\tBEST_ST = {best_st}\")\n",
    "    print(\"=\" * 100)\n",
    "config.DATA.STRIDE = best_st"
   ]
  },
  {
   "cell_type": "markdown",
   "metadata": {
    "pycharm": {
     "name": "#%% md\n"
    }
   },
   "source": [
    "## Best Hidden State Size: 75"
   ]
  },
  {
   "cell_type": "code",
   "execution_count": 16,
   "metadata": {
    "pycharm": {
     "name": "#%%\n"
    }
   },
   "outputs": [
    {
     "name": "stdout",
     "output_type": "stream",
     "text": [
      "# [TextDataset - init]:\tfile_name=data/beatles1000.txt\twindow_size=75\tstride=3\n",
      "\t33374 total chars in text\n",
      "# [Embeddings - init]:\tlabel=beatles1000\tencoding=utf-8\n",
      "# [TextGeneration - init]:\tmodel_func=get_LSTM\n",
      "# [TextGeneration - train]:\n"
     ]
    },
    {
     "name": "stderr",
     "output_type": "stream",
     "text": [
      "100%|██████████| 50/50 [01:16<00:00,  1.54s/it, loss=2.62, acc=0.268, gen=b'e kol \\nawtos yoal thre hin']  \n"
     ]
    },
    {
     "name": "stdout",
     "output_type": "stream",
     "text": [
      "====================================================================================================\n",
      "# BEST_ACC = 0.2683854401111603\tBEST_HS = 25\n",
      "====================================================================================================\n",
      "# [TextDataset - init]:\tfile_name=data/beatles1000.txt\twindow_size=75\tstride=3\n",
      "\t33374 total chars in text\n",
      "# [Embeddings - init]:\tlabel=beatles1000\tencoding=utf-8\n",
      "# [TextGeneration - init]:\tmodel_func=get_LSTM\n",
      "# [TextGeneration - train]:\n"
     ]
    },
    {
     "name": "stderr",
     "output_type": "stream",
     "text": [
      "100%|██████████| 50/50 [01:18<00:00,  1.58s/it, loss=2.29, acc=0.347, gen=b\" boctase pang you do't bud\"]   \n"
     ]
    },
    {
     "name": "stdout",
     "output_type": "stream",
     "text": [
      "====================================================================================================\n",
      "# BEST_ACC = 0.34672847390174866\tBEST_HS = 50\n",
      "====================================================================================================\n",
      "# [TextDataset - init]:\tfile_name=data/beatles1000.txt\twindow_size=75\tstride=3\n",
      "\t33374 total chars in text\n",
      "# [Embeddings - init]:\tlabel=beatles1000\tencoding=utf-8\n",
      "# [TextGeneration - init]:\tmodel_func=get_LSTM\n",
      "# [TextGeneration - train]:\n"
     ]
    },
    {
     "name": "stderr",
     "output_type": "stream",
     "text": [
      "100%|██████████| 50/50 [01:18<00:00,  1.58s/it, loss=2.06, acc=0.408, gen=b's fire chare\\nwad tow trige']              \n"
     ]
    },
    {
     "name": "stdout",
     "output_type": "stream",
     "text": [
      "====================================================================================================\n",
      "# BEST_ACC = 0.40801090002059937\tBEST_HS = 100\n",
      "====================================================================================================\n",
      "# [TextDataset - init]:\tfile_name=data/beatles1000.txt\twindow_size=75\tstride=3\n",
      "\t33374 total chars in text\n",
      "# [Embeddings - init]:\tlabel=beatles1000\tencoding=utf-8\n",
      "# [TextGeneration - init]:\tmodel_func=get_LSTM\n",
      "# [TextGeneration - train]:\n"
     ]
    },
    {
     "name": "stderr",
     "output_type": "stream",
     "text": [
      "100%|██████████| 50/50 [01:21<00:00,  1.63s/it, loss=1.84, acc=0.469, gen=b'u wont iwd n aithas you lo']  \n"
     ]
    },
    {
     "name": "stdout",
     "output_type": "stream",
     "text": [
      "====================================================================================================\n",
      "# BEST_ACC = 0.46907395124435425\tBEST_HS = 150\n",
      "====================================================================================================\n",
      "# [TextDataset - init]:\tfile_name=data/beatles1000.txt\twindow_size=75\tstride=3\n",
      "\t33374 total chars in text\n",
      "# [Embeddings - init]:\tlabel=beatles1000\tencoding=utf-8\n",
      "# [TextGeneration - init]:\tmodel_func=get_LSTM\n",
      "# [TextGeneration - train]:\n"
     ]
    },
    {
     "name": "stderr",
     "output_type": "stream",
     "text": [
      "100%|██████████| 50/50 [01:25<00:00,  1.70s/it, loss=1.75, acc=0.496, gen=b'lak i the  heresthas  hell'] \n"
     ]
    },
    {
     "name": "stdout",
     "output_type": "stream",
     "text": [
      "====================================================================================================\n",
      "# BEST_ACC = 0.49640849232673645\tBEST_HS = 200\n",
      "====================================================================================================\n",
      "# [TextDataset - init]:\tfile_name=data/beatles1000.txt\twindow_size=75\tstride=3\n",
      "\t33374 total chars in text\n",
      "# [Embeddings - init]:\tlabel=beatles1000\tencoding=utf-8\n",
      "# [TextGeneration - init]:\tmodel_func=get_LSTM\n",
      "# [TextGeneration - train]:\n"
     ]
    },
    {
     "name": "stderr",
     "output_type": "stream",
     "text": [
      "100%|██████████| 50/50 [01:27<00:00,  1.74s/it, loss=1.54, acc=0.558, gen=b\"ck ird don'to konm he sing\"] "
     ]
    },
    {
     "name": "stdout",
     "output_type": "stream",
     "text": [
      "====================================================================================================\n",
      "# BEST_ACC = 0.5583575963973999\tBEST_HS = 250\n",
      "====================================================================================================\n"
     ]
    },
    {
     "name": "stderr",
     "output_type": "stream",
     "text": [
      "\n"
     ]
    }
   ],
   "source": [
    "best_acc, best_hs = 0, None\n",
    "for hs in [25, 50, 100, 150, 200, 250, 300, 400, 500]:\n",
    "    config.TRAINING.HIDDEN_STATE_SIZE = [hs]\n",
    "    data = TextDataset(config, verbosity=1).read()\n",
    "    model = TextGeneration(config, LSTM.get_LSTM)\n",
    "    history = model.train(data, config)\n",
    "    acc = history.history[\"acc\"][-1]\n",
    "    if acc > best_acc:\n",
    "        best_acc, best_hs = acc, hs\n",
    "    print(\"=\" * 100)\n",
    "    print(f\"# BEST_ACC = {best_acc}\\tBEST_HS = {best_hs}\")\n",
    "    print(\"=\" * 100)\n",
    "config.TRAINING.HIDDEN_STATE_SIZE = best_hs"
   ]
  },
  {
   "cell_type": "markdown",
   "metadata": {
    "pycharm": {
     "name": "#%% md\n"
    }
   },
   "source": [
    "## Multi-Layer"
   ]
  },
  {
   "cell_type": "code",
   "execution_count": 28,
   "metadata": {
    "pycharm": {
     "name": "#%%\n"
    }
   },
   "outputs": [
    {
     "name": "stdout",
     "output_type": "stream",
     "text": [
      "# [TextDataset - init]:\tfile_name=data/beatles1000.txt\twindow_size=75\tstride=3\n",
      "\t33374 total chars in text\n",
      "# [Embeddings - init]:\tlabel=beatles1000\tencoding=utf-8\n",
      "# [TextGeneration - init]:\tmodel_func=get_LSTM\n",
      "# [TextGeneration - train]:\n"
     ]
    },
    {
     "name": "stderr",
     "output_type": "stream",
     "text": [
      "100%|██████████| 50/50 [02:35<00:00,  3.10s/it, loss=0.773, acc=0.796, gen=b'og my borke shous hodesee soney tant to be back now']   "
     ]
    },
    {
     "name": "stdout",
     "output_type": "stream",
     "text": [
      "====================================================================================================\n",
      "# BEST_ACC = 0.7960484623908997\tBEST_HS = [500, 500]\n",
      "====================================================================================================\n"
     ]
    },
    {
     "name": "stderr",
     "output_type": "stream",
     "text": [
      "\n"
     ]
    }
   ],
   "source": [
    "best_acc, best_hs = 0, None\n",
    "for hs in [[500, 500]]:\n",
    "    config.TRAINING.HIDDEN_STATE_SIZE = hs\n",
    "    data = TextDataset(config, verbosity=1).read()\n",
    "    model = TextGeneration(config, LSTM.get_LSTM)\n",
    "    history = model.train(data, config)\n",
    "    acc = history.history[\"acc\"][-1]\n",
    "    if acc > best_acc:\n",
    "        best_acc, best_hs = acc, hs\n",
    "    print(\"=\" * 100)\n",
    "    print(f\"# BEST_ACC = {best_acc}\\tBEST_HS = {best_hs}\")\n",
    "    print(\"=\" * 100)\n",
    "config.TRAINING.HIDDEN_STATE_SIZE = best_hs"
   ]
  },
  {
   "cell_type": "markdown",
   "metadata": {
    "pycharm": {
     "name": "#%% md\n"
    }
   },
   "source": [
    "## Generation"
   ]
  },
  {
   "cell_type": "code",
   "execution_count": 25,
   "metadata": {
    "collapsed": false,
    "jupyter": {
     "outputs_hidden": false
    },
    "pycharm": {
     "name": "#%%\n"
    }
   },
   "outputs": [
    {
     "name": "stdout",
     "output_type": "stream",
     "text": [
      "# [TextGeneration - predict]:\tprompt_len=61\tnum_chars=500\n",
      "Prompt: it’s been a hard day's night, i should be sleeping like log.\n",
      "\n",
      "you win'then eave to shet there.\n",
      "ond hei got do cay doy\n",
      "war do ttook\n",
      "ofs or me ond wate ano ma do \n",
      "o sous i stals arloung, me the parind you can\n",
      "seadsting me con tiget son't be te me, yous i mand love,\n",
      "se lover dell, never be sae mong bous, don't car not hameses in the pad and to me.\n",
      "in thea ishong all you know the dyaca caus ing baby cay's your\n",
      "wall the kery to make you con't beever me.\n",
      "ant to aby to tor car that and whith in hee share\n",
      "hever you know thang to beby don't in the douss foritha fou \n"
     ]
    }
   ],
   "source": [
    "prompt = \"it’s been a hard day's night, i should be sleeping like log.\"\n",
    "\n",
    "model.verbosity = 1\n",
    "generated = model.predict(\n",
    "    prompt,\n",
    "    num_chars=500,\n",
    "    sampling_method=Sampling.random_sampling,\n",
    "    temp=0.75,\n",
    "    output_as=\"string\",\n",
    ")\n",
    "print(\"Prompt:\", prompt)\n",
    "print(generated)"
   ]
  },
  {
   "cell_type": "code",
   "execution_count": 33,
   "metadata": {
    "pycharm": {
     "name": "#%%\n"
    }
   },
   "outputs": [
    {
     "name": "stdout",
     "output_type": "stream",
     "text": [
      "DataConfig(WINDOW_SIZE=75, STRIDE=3, DATA_PATH='data/beatles1000.txt', BUFFER_SIZE=10000, VOCAB_SIZE=0)\n",
      "TrainingConfig(HIDDEN_STATE_SIZE=[500, 500], BATCH_SIZE=1000, EPOCHS=50, SAMPLING_TEMP=0.75)\n"
     ]
    }
   ],
   "source": [
    "print(config.DATA)\n",
    "print(config.TRAINING)"
   ]
  }
 ],
 "metadata": {
  "kernelspec": {
   "display_name": "Python 3 (ipykernel)",
   "language": "python",
   "name": "python3"
  },
  "language_info": {
   "codemirror_mode": {
    "name": "ipython",
    "version": 3
   },
   "file_extension": ".py",
   "mimetype": "text/x-python",
   "name": "python",
   "nbconvert_exporter": "python",
   "pygments_lexer": "ipython3",
   "version": "3.9.10"
  },
  "widgets": {
   "application/vnd.jupyter.widget-state+json": {
    "state": {},
    "version_major": 2,
    "version_minor": 0
   }
  }
 },
 "nbformat": 4,
 "nbformat_minor": 4
}